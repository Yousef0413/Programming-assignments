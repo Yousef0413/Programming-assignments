{
 "cells": [
  {
   "cell_type": "markdown",
   "id": "65011f8e",
   "metadata": {
    "editable": false,
    "tags": []
   },
   "source": [
    "# EEN060 - Applied object-oriented programming\n",
    "\n",
    "\n",
    "Teacher: [Carlos Natalino](https://www.chalmers.se/en/persons/carda/) / Examiner: [Paolo Monti](https://www.chalmers.se/en/persons/mpaolo/)\n",
    "\n",
    "[Canvas course page](https://chalmers.instructure.com/courses/33383)\n",
    "\n",
    "[Course channel on Chalmers Play](https://play.chalmers.se/channel/EEN060_EEN065_Applied_object-oriented_programming/300149)\n",
    "\n",
    "Before you turn this assignment list in, make sure everything runs as expected.\n",
    "First, **restart the kernel** and then **run all cells**.\n",
    "Then, check if all the tests run correctly.\n",
    "Note that if one of the problems present an error, the following ones **will not** be tested.\n",
    "\n",
    "In case of discrepancies between the problem command and the tests, you should solve it having in mind the tests.\n",
    "\n",
    "There are two types of cell:\n",
    "1. *solution cells:* These are the cells where you write your answer, or modify the existing code to solve the problem.\n",
    "2. *test cells:* These cells are used to test whether your solution is correct or not. If the tests run correctly, you should see a message `tests passed`. Otherwise, you should see an error message.\n",
    "3. *code quality tests:* These cells tests whether your solution adheres to the code quality rules of the course.\n",
    "\n",
    "The code quality tests require you to be connected to the Chalmers network, either through Eduroam or through the VPN.\n",
    "You can find more information [here](https://chalmers.topdesk.net/tas/public/ssp/content/search?q=KB+1678).\n",
    "\n",
    "**Delete** the line `raise NotImplementedError()` from the problems that you solve.\n",
    "\n",
    "**Do not delete or add any cell in this file.** All cells that you need are already in place.\n",
    "\n",
    "If you want to execute a cell, select the cell and press **CTRL+Enter** (in Windows) or **CMD+Enter** (in macOS) or click on the **Run cell** button.\n"
   ]
  },
  {
   "cell_type": "markdown",
   "id": "9c4da2c6",
   "metadata": {
    "editable": false,
    "tags": []
   },
   "source": [
    "## Assignment Week 5\n",
    "\n",
    "In this assignment, students should practice:\n",
    "- how to use Visual Studio Code\n",
    "- how to download, solve and submit programming assignments\n",
    "- how to create functions\n",
    "- start getting familiar with Python\n",
    "- how to manipulate variables\n",
    "- how to use math operations\n",
    "- how to output the results\n",
    "- understand different types of variables\n",
    "- understand the code quality validation\n",
    "\n",
    "**Observations:**\n",
    "For the problems in this assignment, you should:\n",
    "- use only the math operations studied in the lecture notes (i.e., no advanced functions allowed).\n",
    "- not use external modules, i.e., `import` command is not allowed in your solutions.\n",
    "- make sure that your `utils.py` file has the following line.\n",
    "- you will find the set of references needed to solve this assignment in the assignment page in canvas.\n",
    "\n",
    "**Preparation:** Run the cell below every time you start working on this file, and every time you restart the kernel."
   ]
  },
  {
   "cell_type": "code",
   "execution_count": 1,
   "id": "78dacc5a",
   "metadata": {
    "checksum": "2ba52c260aa11f167f534ef7c20239ec",
    "editable": false,
    "execution": {
     "iopub.execute_input": "2025-02-17T11:17:21.826240Z",
     "iopub.status.busy": "2025-02-17T11:17:21.826145Z",
     "iopub.status.idle": "2025-02-17T11:17:21.950487Z",
     "shell.execute_reply": "2025-02-17T11:17:21.950161Z"
    },
    "tags": [
     "load",
     "raises-exception"
    ]
   },
   "outputs": [],
   "source": [
    "%load_ext autoreload\n",
    "# check if this file is within the same folder as the `utils.py` file.\n",
    "import os\n",
    "import sys\n",
    "\n",
    "if not os.path.exists(\"utils.py\"):\n",
    "    print(\"It seems this file is in the wrong folder. \"\n",
    "          \"Make sure to place it in the `programming-assignments` folder/project.\",\n",
    "          file=sys.stderr)\n",
    "\n",
    "from utils import validate_python_code"
   ]
  },
  {
   "cell_type": "code",
   "execution_count": 2,
   "id": "8b1f4783",
   "metadata": {
    "checksum": "fc7a51db8bd56c25ca0326e9ad373631",
    "editable": false,
    "tags": [
     "check-venv",
     "raises-exception"
    ]
   },
   "outputs": [
    {
     "name": "stdout",
     "output_type": "stream",
     "text": [
      "Version: 3.10.9 (main, Mar  1 2023, 12:33:47) [Clang 14.0.6 ]\n",
      "Executable (virtual env): /Users/yousef/Desktop/Programming/Programming-assignments/venv/bin/python\n",
      "Current folder: /Users/yousef/Desktop/Programming/Programming-assignments\n",
      "Datetime: 2025-02-21 13:03:23.951157\n",
      "User: yousef\n"
     ]
    }
   ],
   "source": [
    "import datetime\n",
    "import getpass\n",
    "import os\n",
    "import sys\n",
    "\n",
    "# check if the virtual env is correct\n",
    "venv_path = os.path.abspath(sys.executable)\n",
    "cur_path = os.path.abspath(os.getcwd())\n",
    "\n",
    "print(\"Version:\", sys.version)\n",
    "print(\"Executable (virtual env):\", sys.executable)\n",
    "print(\"Current folder:\", os.getcwd())\n",
    "print(\"Datetime:\", datetime.datetime.now())\n",
    "print(\"User:\", getpass.getuser())\n",
    "\n",
    "assert getpass.getuser() == \"runner\" or \\\n",
    "    os.path.commonpath([venv_path, cur_path]) == cur_path, \\\n",
    "    \"It seems like this file is being executed with the wrong virtual environment.\"\n",
    "\n",
    "del datetime, getpass"
   ]
  },
  {
   "cell_type": "markdown",
   "id": "f8b16296",
   "metadata": {
    "editable": false
   },
   "source": [
    "### Task 1\n",
    "\n",
    "Create a Python function called `validating_sum_of_squares` that receives a sequence of elements and validates whether or not each of the elements is a number and a sum of squares (eg. 25 is sum of 16 and 9 that is $4^2 + 3^2$).\n",
    "\n",
    "Note that numbers can be placed within a string. And, for any integer $a$, since $a^2 = 0^2 + a^2$, square of any integer is assumed to valid.\n",
    "\n",
    "At the end, the function should return a sequence (with the same number of elements as the input) containing `True` for the elements that are sum of squares and `False` otherwise.\n",
    "\n",
    "**Note:** The input sequence may contain elements that are not numbers and cannot be converted to numbers. For example, a boolean value `None` and a string value`\"asd\"`. These elements should be assigned False in the returned list. To identify numbers from invalid inputs, you should use the `try`/`except` blocks from section 9.4, and the convertion to `float` from section 3.4.3 in the lecture notes.\n",
    "\n",
    "**Examples**\n",
    "\n",
    "Input: ['5', 3, 25, None, 'asd']\n",
    "\n",
    "Output: [True, False, True, False, False]"
   ]
  },
  {
   "cell_type": "markdown",
   "id": "d61122eb",
   "metadata": {
    "editable": false
   },
   "source": [
    "```\n",
    "# write here your pseudocode (not graded)\n",
    "\n",
    "# * pseudocode is necessary when asking for help during the lab\n",
    "```"
   ]
  },
  {
   "cell_type": "code",
   "execution_count": 41,
   "id": "28aa878f",
   "metadata": {
    "editable": true,
    "execution": {
     "iopub.execute_input": "2025-02-17T11:17:21.951879Z",
     "iopub.status.busy": "2025-02-17T11:17:21.951774Z",
     "iopub.status.idle": "2025-02-17T11:17:21.955278Z",
     "shell.execute_reply": "2025-02-17T11:17:21.955028Z"
    },
    "tags": [
     "solution",
     "solution-1"
    ]
   },
   "outputs": [
    {
     "name": "stdout",
     "output_type": "stream",
     "text": [
      "Overwriting validating_sum_of_squares_solution.py\n"
     ]
    }
   ],
   "source": [
    "%%writefile validating_sum_of_squares_solution.py\n",
    "# solution cell\n",
    "import math\n",
    "from typing import List, Union\n",
    "\n",
    "\n",
    "def validating_sum_of_squares(sequence: List[Union[str, int, float]]) -> List[bool]:\n",
    "    result = []\n",
    "    for item in sequence:\n",
    "        try:\n",
    "            num = int(float(item))\n",
    "            if num >= 0:\n",
    "                is_sum_square = any(\n",
    "                    math.isqrt(num - a**2) ** 2 == num - a**2\n",
    "                    for a in range(int(math.sqrt(num)) + 1)\n",
    "                )\n",
    "            else:\n",
    "                is_sum_square = False\n",
    "            result.append(is_sum_square)\n",
    "        except (ValueError, TypeError):\n",
    "            result.append(False)\n",
    "    return result\n"
   ]
  },
  {
   "cell_type": "code",
   "execution_count": 42,
   "id": "68402760",
   "metadata": {
    "editable": true,
    "execution": {
     "iopub.execute_input": "2025-02-17T11:17:09.853664Z",
     "iopub.status.busy": "2025-02-17T11:17:09.853595Z",
     "iopub.status.idle": "2025-02-17T11:17:09.858805Z",
     "shell.execute_reply": "2025-02-17T11:17:09.858603Z"
    },
    "tags": [
     "debug",
     "debug-1"
    ]
   },
   "outputs": [
    {
     "name": "stdout",
     "output_type": "stream",
     "text": [
      " Input sequence:  5\t3\t25\tNone\tasd\n",
      "Output sequence:  True\tFalse\tTrue\tFalse\tFalse\n",
      "Execution finished ✓\n"
     ]
    }
   ],
   "source": [
    "%autoreload 2\n",
    "# uncomment the line(s) below to debug\n",
    "from validating_sum_of_squares_solution import validating_sum_of_squares\n",
    "\n",
    "seq_input = ['5', 3, 25, None, 'asd']\n",
    "x = validating_sum_of_squares(seq_input)\n",
    "print(f' Input sequence: ', '\\t'.join([str(x) for x in seq_input]))\n",
    "print(f'Output sequence: ', '\\t'.join([str(r) for r in x]))\n",
    "print('Execution finished', u'\\u2713')"
   ]
  },
  {
   "cell_type": "code",
   "execution_count": 43,
   "id": "1f9763b8",
   "metadata": {
    "checksum": "313ca5aa2d6b660e405b6da00064450b",
    "editable": false,
    "tags": [
     "raises-exception",
     "tests-1"
    ]
   },
   "outputs": [
    {
     "name": "stdout",
     "output_type": "stream",
     "text": [
      "tests passed ✓\n"
     ]
    }
   ],
   "source": [
    "%autoreload 2\n",
    "# test cell\n",
    "try:\n",
    "    import validating_sum_of_squares_solution\n",
    "except:\n",
    "    raise ValueError(\"You did not execute your solution cell!\")\n",
    "try:\n",
    "    from validating_sum_of_squares_solution import validating_sum_of_squares\n",
    "except:\n",
    "    raise ValueError(\"Your solution does not contain the right function!\")\n",
    "\n",
    "test_cases = [(['2', 'x', -10, 3.3, 'asd', None, 'b', 4.0], \\\n",
    "    [True, False, False, False, False, False, False, True]), \\\n",
    "    ([9, 'x', -9, None], [True, False, False, False])]\n",
    "\n",
    "for _in, _out in test_cases:\n",
    "    _res = validating_sum_of_squares(_in)\n",
    "    assert _res == _out, f\"The function with input \\n`{_in}` ({len(_in)} items)\\nshould return \\\n",
    "`{_out}` ({len(_out)} items)\\nbut returned the value `{_res}` ({len(_res)} items).\"\n",
    "\n",
    "print(\"tests passed\", \"\\u2713\")"
   ]
  },
  {
   "cell_type": "code",
   "execution_count": 44,
   "id": "250517d6",
   "metadata": {
    "checksum": "921eb2d07e63b1c3899ebea64ab56390",
    "editable": false,
    "execution": {
     "iopub.execute_input": "2025-02-17T11:17:09.867599Z",
     "iopub.status.busy": "2025-02-17T11:17:09.867537Z",
     "iopub.status.idle": "2025-02-17T11:17:11.516703Z",
     "shell.execute_reply": "2025-02-17T11:17:11.515449Z"
    },
    "tags": [
     "quality-1",
     "raises-exception"
    ]
   },
   "outputs": [
    {
     "data": {
      "text/html": [
       "<div class=\"tip admonition\">\n",
       "<p class=\"admonition-title\">Code Quality Analysis: <span style=\"color: green\">Pass</span></p><p>*No problem was found*\n",
       "</p>\n",
       "    </div>"
      ],
      "text/plain": [
       "<IPython.core.display.HTML object>"
      ]
     },
     "metadata": {},
     "output_type": "display_data"
    }
   ],
   "source": [
    "validate_python_code(\"validating_sum_of_squares_solution.py\")"
   ]
  },
  {
   "cell_type": "markdown",
   "id": "705d1baf",
   "metadata": {
    "editable": false
   },
   "source": [
    "### Task 2\n",
    "\n",
    "Create a Python function `gm_calculation` that receives a sequence of elements.\n",
    "The elements can be of type `int`, `float`, or `str`.\n",
    "The function should return the geometric mean of the numbers ignoring the elements in the sequence which are not numbers, i.e., ignore elements that are not `int` not `float`.\n",
    "The mean should be returned in a string type containing only two decimal cases.\n",
    "If there are no numbers in the sequence, then return `None`.\n",
    "\n",
    "**Note:**\n",
    "1. Remember to use the module `statistics` for this task.\n",
    "2. To identify if an element is a number, you should use a `try`/`except` block."
   ]
  },
  {
   "cell_type": "markdown",
   "id": "8f4f4604",
   "metadata": {
    "editable": false
   },
   "source": [
    "```\n",
    "# write here your pseudocode (not graded)\n",
    "\n",
    "# * pseudocode is necessary when asking for help during the lab\n",
    "```"
   ]
  },
  {
   "cell_type": "code",
   "execution_count": 57,
   "id": "ed0691c7",
   "metadata": {
    "editable": true,
    "execution": {
     "iopub.execute_input": "2025-02-17T11:17:21.956408Z",
     "iopub.status.busy": "2025-02-17T11:17:21.956306Z",
     "iopub.status.idle": "2025-02-17T11:17:21.959664Z",
     "shell.execute_reply": "2025-02-17T11:17:21.959399Z"
    },
    "tags": [
     "solution",
     "solution-2"
    ]
   },
   "outputs": [
    {
     "name": "stdout",
     "output_type": "stream",
     "text": [
      "Overwriting gm_calculation_solution.py\n"
     ]
    }
   ],
   "source": [
    "%%writefile gm_calculation_solution.py\n",
    "# solution cell\n",
    "import statistics\n",
    "from typing import List, Optional, Union\n",
    "\n",
    "\n",
    "def gm_calculation(sequence: List[Union[int, float, str]]) -> Optional[str]:\n",
    "    numbers = []\n",
    "    for item in sequence:\n",
    "        try:\n",
    "            num = float(item)\n",
    "            numbers.append(num)\n",
    "        except (ValueError, TypeError):\n",
    "            continue\n",
    "    if not numbers:\n",
    "        return None\n",
    "    gm = statistics.geometric_mean(numbers)\n",
    "    return f\"{gm:.2f}\""
   ]
  },
  {
   "cell_type": "code",
   "execution_count": 58,
   "id": "dc003151",
   "metadata": {
    "editable": true,
    "execution": {
     "iopub.execute_input": "2025-02-17T11:17:12.665451Z",
     "iopub.status.busy": "2025-02-17T11:17:12.665375Z",
     "iopub.status.idle": "2025-02-17T11:17:12.670164Z",
     "shell.execute_reply": "2025-02-17T11:17:12.669945Z"
    },
    "tags": [
     "debug",
     "debug-2"
    ]
   },
   "outputs": [
    {
     "name": "stdout",
     "output_type": "stream",
     "text": [
      "The geometric mean of [10.2, 11, '12.3', 15, 32.5, 'x', '100.87534262'] is 20.20\n",
      "Execution finished ✓\n"
     ]
    }
   ],
   "source": [
    "%autoreload 2\n",
    "# uncomment the line(s) below to debug\n",
    "from gm_calculation_solution import gm_calculation\n",
    "\n",
    "sequence = [10.2, 11, '12.3', 15, 32.5, 'x', '100.87534262']\n",
    "print(f'The geometric mean of {sequence} is {gm_calculation(sequence)}')\n",
    "print('Execution finished', u'\\u2713')"
   ]
  },
  {
   "cell_type": "code",
   "execution_count": 59,
   "id": "0752517d",
   "metadata": {
    "checksum": "507fc94c34eca94018e3e99b49ca1ac3",
    "editable": false,
    "tags": [
     "tests-2",
     "raises-exception"
    ]
   },
   "outputs": [
    {
     "name": "stdout",
     "output_type": "stream",
     "text": [
      "tests passed ✓\n"
     ]
    }
   ],
   "source": [
    "%autoreload 2\n",
    "# test cell\n",
    "try:\n",
    "    import gm_calculation_solution\n",
    "except:\n",
    "    raise ValueError(\"You did not execute your solution cell!\")\n",
    "try:\n",
    "    from gm_calculation_solution import gm_calculation\n",
    "except:\n",
    "    raise ValueError(\"Your solution does not contain the right function!\")\n",
    "\n",
    "assert isinstance(gm_calculation([1.2, 1]), str), 'The return value should be a string'\n",
    "\n",
    "test_cases = [([10.2, 11, 12.3, 15, 32.5, 'x', '100.87534262'], '20.20'), \\\n",
    "    (['10.2', 11, 12.3, 15, 32.5, None, '100.87534262'], '20.20'), \\\n",
    "    ([None, 'x', 'as', 'as1', 'x'], None), ([], None)]\n",
    "\n",
    "for _in, _out in test_cases:\n",
    "    _res = gm_calculation(_in)\n",
    "    assert _res == _out, f\"The function with input \\n`{_in}` ({len(_in)} items)\\n should return the value `{_out}` of type \\\n",
    "`{type(_out)}`\\n but returned the value `{_res}` of type `{type(_res)}`.\"\n",
    "print(\"tests passed\", \"\\u2713\")"
   ]
  },
  {
   "cell_type": "code",
   "execution_count": 60,
   "id": "f8aece4a",
   "metadata": {
    "checksum": "59bc459a5aa0cecd9999a7c46fbbec1c",
    "editable": false,
    "execution": {
     "iopub.execute_input": "2025-02-17T11:17:12.678629Z",
     "iopub.status.busy": "2025-02-17T11:17:12.678551Z",
     "iopub.status.idle": "2025-02-17T11:17:14.254016Z",
     "shell.execute_reply": "2025-02-17T11:17:14.253225Z"
    },
    "tags": [
     "quality-2",
     "raises-exception"
    ]
   },
   "outputs": [
    {
     "data": {
      "text/html": [
       "<div class=\"tip admonition\">\n",
       "<p class=\"admonition-title\">Code Quality Analysis: <span style=\"color: green\">Pass</span></p><p>*No problem was found*\n",
       "</p>\n",
       "    </div>"
      ],
      "text/plain": [
       "<IPython.core.display.HTML object>"
      ]
     },
     "metadata": {},
     "output_type": "display_data"
    }
   ],
   "source": [
    "validate_python_code(\"gm_calculation_solution.py\")"
   ]
  },
  {
   "cell_type": "markdown",
   "id": "c89497ac",
   "metadata": {
    "editable": false
   },
   "source": [
    "### Task 3\n",
    "\n",
    "Create a Python function called `datetime_validator` that receives a string which represents date-time, and converts it into `datetime` object.\n",
    "\n",
    "The allowed format for the input: `Month Date, Year, Time`. For example `January 15, 2022, 12:30:45`. \n",
    "\n",
    "If the input is not in this format, return `None`.\n",
    "\n",
    "**Note:**\n",
    "1. To convert a string into a `datetime` you should use the [`datetime.strptime()` function](https://docs.python.org/3/library/datetime.html#datetime.datetime.strptime) and check the [format codes](https://docs.python.org/3/library/datetime.html#strftime-and-strptime-format-codes).\n",
    "2. To check if the convertion was successful or not, use a `try`/`except` block."
   ]
  },
  {
   "cell_type": "markdown",
   "id": "f4f8497c",
   "metadata": {
    "editable": false
   },
   "source": [
    "```\n",
    "# write here your pseudocode (not graded)\n",
    "\n",
    "# * pseudocode is necessary when asking for help during the lab\n",
    "```"
   ]
  },
  {
   "cell_type": "code",
   "execution_count": 69,
   "id": "82f9626c",
   "metadata": {
    "editable": true,
    "execution": {
     "iopub.execute_input": "2025-02-17T11:17:21.960771Z",
     "iopub.status.busy": "2025-02-17T11:17:21.960691Z",
     "iopub.status.idle": "2025-02-17T11:17:21.963240Z",
     "shell.execute_reply": "2025-02-17T11:17:21.963020Z"
    },
    "tags": [
     "solution",
     "solution-3"
    ]
   },
   "outputs": [
    {
     "name": "stdout",
     "output_type": "stream",
     "text": [
      "Overwriting datetime_validator_solution.py\n"
     ]
    }
   ],
   "source": [
    "%%writefile datetime_validator_solution.py\n",
    "# solution cell\n",
    "from datetime import datetime\n",
    "from typing import Optional\n",
    "\n",
    "\n",
    "def datetime_validator(date_str: str) -> Optional[datetime]:\n",
    "    try:\n",
    "        return datetime.strptime(date_str, \"%B %d, %Y, %H:%M:%S\")\n",
    "    except ValueError:\n",
    "        return None"
   ]
  },
  {
   "cell_type": "code",
   "execution_count": 70,
   "id": "fa760d46",
   "metadata": {
    "editable": true,
    "execution": {
     "iopub.execute_input": "2025-02-17T11:17:15.498601Z",
     "iopub.status.busy": "2025-02-17T11:17:15.498539Z",
     "iopub.status.idle": "2025-02-17T11:17:15.501855Z",
     "shell.execute_reply": "2025-02-17T11:17:15.501685Z"
    },
    "tags": [
     "debug",
     "debug-3"
    ]
   },
   "outputs": [
    {
     "name": "stdout",
     "output_type": "stream",
     "text": [
      "January 15, 2022, 12:30:45 is equivalent to 2022-01-15 12:30:45 datetime object\n",
      "Execution finished ✓\n"
     ]
    }
   ],
   "source": [
    "%autoreload 2\n",
    "# uncomment the line(s) below to debug\n",
    "from datetime_validator_solution import datetime_validator\n",
    "\n",
    "date_input = 'January 15, 2022, 12:30:45'\n",
    "print(f'{date_input} is equivalent to {datetime_validator(date_input)} datetime object')\n",
    "print('Execution finished', u'\\u2713')"
   ]
  },
  {
   "cell_type": "code",
   "execution_count": 71,
   "id": "7a3a0512",
   "metadata": {
    "checksum": "345a97f369567b38237b968c8a27b4d8",
    "editable": false,
    "tags": [
     "raises-exception",
     "tests-3"
    ]
   },
   "outputs": [
    {
     "name": "stdout",
     "output_type": "stream",
     "text": [
      "tests passed ✓\n"
     ]
    }
   ],
   "source": [
    "%autoreload 2\n",
    "# test cell\n",
    "try:\n",
    "    import datetime_validator_solution\n",
    "except:\n",
    "    raise ValueError(\"You did not execute your solution cell!\")\n",
    "try:\n",
    "    from datetime_validator_solution import datetime_validator\n",
    "except:\n",
    "    raise ValueError(\"Your solution does not contain the right function!\")\n",
    "\n",
    "from datetime import datetime\n",
    "\n",
    "test_cases = [('January 15, 2022, 12:30:45', datetime(2022, 1, 15, 12, 30, 45)),\\\n",
    "    ('September 08, 2021, 14:45:15', datetime(2021, 9, 8, 14, 45, 15)), \\\n",
    "    ('Sep 8, 2021, 14:45:15', None), ('2021-01-01 1:41:43.321', None)]\n",
    "for _in, _out in test_cases:\n",
    "    _res = datetime_validator(_in)\n",
    "    assert _res == _out, f\"The function with input `{_in}` should return the value \\\n",
    "`{_out}` of type `{type(_out)}`\\n but returned the value `{_res}` of type `{type(_res)}`.\"\n",
    "\n",
    "print(\"tests passed\", \"\\u2713\")"
   ]
  },
  {
   "cell_type": "code",
   "execution_count": 72,
   "id": "59415393",
   "metadata": {
    "checksum": "98907c04ba9a23fc558db3856e487601",
    "editable": false,
    "execution": {
     "iopub.execute_input": "2025-02-17T11:17:15.509635Z",
     "iopub.status.busy": "2025-02-17T11:17:15.509567Z",
     "iopub.status.idle": "2025-02-17T11:17:17.217394Z",
     "shell.execute_reply": "2025-02-17T11:17:17.216690Z"
    },
    "tags": [
     "quality-3",
     "raises-exception"
    ]
   },
   "outputs": [
    {
     "data": {
      "text/html": [
       "<div class=\"tip admonition\">\n",
       "<p class=\"admonition-title\">Code Quality Analysis: <span style=\"color: green\">Pass</span></p><p>*No problem was found*\n",
       "</p>\n",
       "    </div>"
      ],
      "text/plain": [
       "<IPython.core.display.HTML object>"
      ]
     },
     "metadata": {},
     "output_type": "display_data"
    }
   ],
   "source": [
    "validate_python_code(\"datetime_validator_solution.py\")"
   ]
  },
  {
   "cell_type": "markdown",
   "id": "6c87340d",
   "metadata": {
    "editable": false
   },
   "source": [
    "### Task 4\n",
    "\n",
    "Create a Python class with the name `VolumeCalculator`.\n",
    "\n",
    "The initialization `.__init__()` method receives a number and assign the value to the attribute `radius`.\n",
    "\n",
    "Then, create a method named `volume()` that returns the volume of the sphere using the `radius` attribute.\n",
    "If the `radius` attribute is `None` or $\\leq 0$ the method `volume()` should return `None`.\n",
    "\n",
    "**Remember:** from the `math` module, import `pi`."
   ]
  },
  {
   "cell_type": "markdown",
   "id": "9914e99e",
   "metadata": {
    "editable": false
   },
   "source": [
    "```\n",
    "# write here your pseudocode (not graded)\n",
    "\n",
    "# * pseudocode is necessary when asking for help during the lab\n",
    "```"
   ]
  },
  {
   "cell_type": "code",
   "execution_count": 90,
   "id": "4fa279bf",
   "metadata": {
    "editable": true,
    "execution": {
     "iopub.execute_input": "2025-02-17T11:17:21.964294Z",
     "iopub.status.busy": "2025-02-17T11:17:21.964211Z",
     "iopub.status.idle": "2025-02-17T11:17:21.967005Z",
     "shell.execute_reply": "2025-02-17T11:17:21.966832Z"
    },
    "tags": [
     "solution",
     "solution-4"
    ]
   },
   "outputs": [
    {
     "name": "stdout",
     "output_type": "stream",
     "text": [
      "Overwriting volume_calculator_class.py\n"
     ]
    }
   ],
   "source": [
    "%%writefile volume_calculator_class.py\n",
    "# solution cell\n",
    "import math\n",
    "\n",
    "\n",
    "class VolumeCalculator:\n",
    "    def __init__(self, radius: float):\n",
    "        self.radius = radius\n",
    "\n",
    "    def volume(self) -> float | None:\n",
    "        if self.radius is None or self.radius <= 0:\n",
    "            return None\n",
    "        return (4 / 3) * math.pi * (self.radius**3)"
   ]
  },
  {
   "cell_type": "code",
   "execution_count": 91,
   "id": "31bece65",
   "metadata": {
    "editable": true,
    "execution": {
     "iopub.execute_input": "2025-02-17T11:17:18.302843Z",
     "iopub.status.busy": "2025-02-17T11:17:18.302774Z",
     "iopub.status.idle": "2025-02-17T11:17:18.305956Z",
     "shell.execute_reply": "2025-02-17T11:17:18.305775Z"
    },
    "tags": [
     "debug",
     "debug-4"
    ]
   },
   "outputs": [
    {
     "name": "stdout",
     "output_type": "stream",
     "text": [
      "The volume of a sphere with radius 2 is 33.510321638291124\n",
      "Execution finished ✓\n"
     ]
    }
   ],
   "source": [
    "%autoreload 2\n",
    "# uncomment the line(s) below to debug\n",
    "from volume_calculator_class import VolumeCalculator\n",
    "\n",
    "radius = 2\n",
    "s = VolumeCalculator(radius)\n",
    "print(f'The volume of a sphere with radius {radius} is {s.volume()}')\n",
    "print('Execution finished', u'\\u2713')"
   ]
  },
  {
   "cell_type": "code",
   "execution_count": 92,
   "id": "033be0dd",
   "metadata": {
    "checksum": "5a0cd63aedefb2da8dc4e6a8e045c302",
    "editable": false,
    "tags": [
     "raises-exception",
     "tests-4"
    ]
   },
   "outputs": [
    {
     "name": "stdout",
     "output_type": "stream",
     "text": [
      "tests passed ✓\n"
     ]
    }
   ],
   "source": [
    "%autoreload 2\n",
    "# test cell\n",
    "try:\n",
    "    import volume_calculator_class\n",
    "except:\n",
    "    raise ValueError(\"You did not execute your solution cell!\")\n",
    "try:\n",
    "    from volume_calculator_class import VolumeCalculator\n",
    "except:\n",
    "    raise ValueError(\"Your solution does not contain the right function!\")\n",
    "\n",
    "with open(\"volume_calculator_class.py\", \"rt\", encoding=\"UTF-8\") as file:\n",
    "    content = file.read()\n",
    "    assert \"math\" in content, \"You must import `pi` from the `math` module.\"\n",
    "\n",
    "assert 'VolumeCalculator' in dir(), 'Class VolumeCalculator does not exist!'\n",
    "assert 'volume' in dir(VolumeCalculator), 'Method volume() does not exist!'\n",
    "\n",
    "test_cases = [(None, None), (0, None), (-1, None), (1, 4.1887902047863905), \\\n",
    "    (2, 33.510321638291124)]\n",
    "for _in, _out in test_cases:\n",
    "    _res = VolumeCalculator(_in)\n",
    "    assert _res.volume() == _out, f\"The volume function with input `{_in}` should return \\\n",
    "the value `{_out}` of type `{type(_out)}`\\n but returned the value `{_res}` of type \\\n",
    "`{type(_res)}`.\"\n",
    "\n",
    "print('tests passed', u'\\u2713')"
   ]
  },
  {
   "cell_type": "code",
   "execution_count": 93,
   "id": "99356821",
   "metadata": {
    "checksum": "1061f2e398a0bdeef5905ecffc02b016",
    "editable": false,
    "execution": {
     "iopub.execute_input": "2025-02-17T11:17:18.313958Z",
     "iopub.status.busy": "2025-02-17T11:17:18.313887Z",
     "iopub.status.idle": "2025-02-17T11:17:19.261654Z",
     "shell.execute_reply": "2025-02-17T11:17:19.261099Z"
    },
    "tags": [
     "raises-exception",
     "quality-4"
    ]
   },
   "outputs": [
    {
     "data": {
      "text/html": [
       "<div class=\"tip admonition\">\n",
       "<p class=\"admonition-title\">Code Quality Analysis: <span style=\"color: green\">Pass</span></p><p>*No problem was found*\n",
       "</p>\n",
       "    </div>"
      ],
      "text/plain": [
       "<IPython.core.display.HTML object>"
      ]
     },
     "metadata": {},
     "output_type": "display_data"
    }
   ],
   "source": [
    "validate_python_code(\"volume_calculator_class.py\")"
   ]
  },
  {
   "cell_type": "markdown",
   "id": "cb33aedf",
   "metadata": {
    "editable": false
   },
   "source": [
    "### Task 5\n",
    "\n",
    "Create a Python class named `Person`.\n",
    "In the initialization method, the parameters are:\n",
    "1. name (mandatory)\n",
    "2. role (mandatory)\n",
    "3. person number (mandatory)\n",
    "4. address (optional, `None` by default)\n",
    "5. phone number (optional, `None` by default)\n",
    "\n",
    "The initialization method should save these parameters as attributes.\n",
    "\n",
    "The class should also have a `__repr__()` method that returns a string containing only the attributes that are not `None`, separated by `\\t` characters."
   ]
  },
  {
   "cell_type": "markdown",
   "id": "1b9fa6c6",
   "metadata": {
    "editable": false
   },
   "source": [
    "```\n",
    "# write here your pseudocode (not graded)\n",
    "\n",
    "# * pseudocode is necessary when asking for help during the lab\n",
    "```"
   ]
  },
  {
   "cell_type": "code",
   "execution_count": 106,
   "id": "72d7adab",
   "metadata": {
    "editable": true,
    "execution": {
     "iopub.execute_input": "2025-02-17T11:17:21.968234Z",
     "iopub.status.busy": "2025-02-17T11:17:21.968149Z",
     "iopub.status.idle": "2025-02-17T11:17:21.971334Z",
     "shell.execute_reply": "2025-02-17T11:17:21.971099Z"
    },
    "tags": [
     "solution",
     "solution-5"
    ]
   },
   "outputs": [
    {
     "name": "stdout",
     "output_type": "stream",
     "text": [
      "Overwriting person_class.py\n"
     ]
    }
   ],
   "source": [
    "%%writefile person_class.py\n",
    "# solution cell\n",
    "from typing import Optional\n",
    "\n",
    "\n",
    "class Person:\n",
    "    def __init__(\n",
    "        self,\n",
    "        name: str,\n",
    "        role: str,\n",
    "        person_number: str,\n",
    "        address: Optional[str] = None,\n",
    "        phone_number: Optional[str] = None,\n",
    "    ):\n",
    "        self.name = name\n",
    "        self.role = role\n",
    "        self.person_number = person_number\n",
    "        self.address = address\n",
    "        self.phone_number = phone_number\n",
    "\n",
    "    def __repr__(self) -> str:\n",
    "        attributes = [\n",
    "            self.name,\n",
    "            self.role,\n",
    "            self.person_number,\n",
    "            self.address,\n",
    "            self.phone_number,\n",
    "        ]\n",
    "        return \"\\t\".join(str(attr) for attr in attributes if attr is not None)\n"
   ]
  },
  {
   "cell_type": "code",
   "execution_count": 107,
   "id": "bb4ad4a0",
   "metadata": {
    "editable": true,
    "execution": {
     "iopub.execute_input": "2025-02-17T11:17:20.225556Z",
     "iopub.status.busy": "2025-02-17T11:17:20.225480Z",
     "iopub.status.idle": "2025-02-17T11:17:20.235213Z",
     "shell.execute_reply": "2025-02-17T11:17:20.235005Z"
    },
    "tags": [
     "debug",
     "debug-5"
    ]
   },
   "outputs": [
    {
     "name": "stdout",
     "output_type": "stream",
     "text": [
      "The Person object converts to string as John Doe\tManager\t201414202014\n",
      "Execution finished ✓\n"
     ]
    }
   ],
   "source": [
    "%autoreload 2\n",
    "# uncomment the line(s) below to debug\n",
    "from person_class import Person\n",
    "\n",
    "person = Person('John Doe', 'Manager', '201414202014')\n",
    "print(f'The Person object converts to string as {person}')\n",
    "print('Execution finished', u'\\u2713')"
   ]
  },
  {
   "cell_type": "code",
   "execution_count": 108,
   "id": "b11cdbe0",
   "metadata": {
    "checksum": "7f4537a584df4bb5e9817c2f8954b0ff",
    "editable": false,
    "tags": [
     "tests-5",
     "raises-exception"
    ]
   },
   "outputs": [
    {
     "name": "stdout",
     "output_type": "stream",
     "text": [
      "tests passed ✓\n"
     ]
    }
   ],
   "source": [
    "%autoreload 2\n",
    "# test cell\n",
    "try:\n",
    "    import person_class\n",
    "except:\n",
    "    raise ValueError(\"You did not execute your solution cell!\")\n",
    "try:\n",
    "    from person_class import Person\n",
    "except:\n",
    "    raise ValueError(\"Your solution does not contain the right function!\")\n",
    "\n",
    "from unittest.mock import patch\n",
    "\n",
    "assert 'Person' in dir(), 'Class Person does not exist!'\n",
    "p = Person('John Doe', 'Manager', '201414202014')\n",
    "\n",
    "with patch('builtins.print') as mock_print:\n",
    "    s = str(p)\n",
    "mock_print.assert_not_called()\n",
    "\n",
    "test_cases = [(('John Doe', 'Manager', '201414202014'), 'John Doe\\tManager\\t201414202014'), \\\n",
    "    (('Jane Doe', 'Supervisor', '201212202012', 'Gibraltargatan'), \\\n",
    "        'Jane Doe\\tSupervisor\\t201212202012\\tGibraltargatan'), \\\n",
    "    (('Jane Doe', 'Supervisor', '201212202012', 'Gibraltargatan', '123456'), \\\n",
    "       'Jane Doe\\tSupervisor\\t201212202012\\tGibraltargatan\\t123456')]\n",
    "for _in, _out in test_cases:\n",
    "    _res = Person(*_in)\n",
    "    assert str(_res) == _out, f\"The Person class with input `{_in}` should be displayed \\\n",
    "as the value `{_out}` of type `{type(_out)}`\\n but returned the value `{_res}` of type \\\n",
    "`{type(_res)}`.\"\n",
    "\n",
    "print('tests passed', u'\\u2713')"
   ]
  },
  {
   "cell_type": "code",
   "execution_count": 109,
   "id": "8233d4ae",
   "metadata": {
    "checksum": "a23aa3006d32824ef736c6f0d8e4dcbb",
    "editable": false,
    "execution": {
     "iopub.execute_input": "2025-02-17T11:17:20.252709Z",
     "iopub.status.busy": "2025-02-17T11:17:20.252635Z",
     "iopub.status.idle": "2025-02-17T11:17:21.023675Z",
     "shell.execute_reply": "2025-02-17T11:17:21.023288Z"
    },
    "tags": [
     "raises-exception",
     "quality-5"
    ]
   },
   "outputs": [
    {
     "data": {
      "text/html": [
       "<div class=\"tip admonition\">\n",
       "<p class=\"admonition-title\">Code Quality Analysis: <span style=\"color: green\">Pass</span></p><p>*No problem was found*\n",
       "</p>\n",
       "    </div>"
      ],
      "text/plain": [
       "<IPython.core.display.HTML object>"
      ]
     },
     "metadata": {},
     "output_type": "display_data"
    }
   ],
   "source": [
    "validate_python_code(\"person_class.py\")"
   ]
  },
  {
   "cell_type": "markdown",
   "id": "fa732110",
   "metadata": {
    "editable": false
   },
   "source": [
    "### Task 6\n",
    "\n",
    "Create a Python dataclass named `PersonAge`.\n",
    "The attributes of this class are:\n",
    "1. name (Type: string)\n",
    "2. job (Type: string)\n",
    "3. birthdate (Type: datetime.date)\n",
    "4. age (Type: int, not an argument during initialization)\n",
    "\n",
    "The attributes `name`, `job` and `birthdate` are mandatory during initialization.\n",
    "Then, you need to create a method `.compute_age()` that uses the `birthdate` to compute how old the person is, saves it to the `age` property, and returns the `age` value.\n",
    "\n",
    "Remember to import `dataclass` and `field` from `dataclasses` module.\n",
    "Also import `datetime` for birthdate attribute."
   ]
  },
  {
   "cell_type": "markdown",
   "id": "68b624dc",
   "metadata": {
    "editable": false
   },
   "source": [
    "```\n",
    "# write here your pseudocode (not graded)\n",
    "\n",
    "# * pseudocode is necessary when asking for help during the lab\n",
    "```"
   ]
  },
  {
   "cell_type": "code",
   "execution_count": 118,
   "id": "206e9194",
   "metadata": {
    "editable": true,
    "execution": {
     "iopub.execute_input": "2025-02-17T11:17:21.982792Z",
     "iopub.status.busy": "2025-02-17T11:17:21.982670Z",
     "iopub.status.idle": "2025-02-17T11:17:22.002665Z",
     "shell.execute_reply": "2025-02-17T11:17:22.002397Z"
    },
    "tags": [
     "solution",
     "solution-6"
    ]
   },
   "outputs": [
    {
     "name": "stdout",
     "output_type": "stream",
     "text": [
      "Overwriting person_age_class.py\n"
     ]
    }
   ],
   "source": [
    "%%writefile person_age_class.py\n",
    "# solution cell\n",
    "from dataclasses import dataclass, field\n",
    "from datetime import date\n",
    "\n",
    "\n",
    "@dataclass\n",
    "class PersonAge:\n",
    "    name: str\n",
    "    job: str\n",
    "    birthdate: date\n",
    "    age: int = field(init=False)\n",
    "\n",
    "    def compute_age(self) -> int:\n",
    "        today = date.today()\n",
    "        self.age = (\n",
    "            today.year\n",
    "            - self.birthdate.year\n",
    "            - ((today.month, today.day) < (self.birthdate.month, self.birthdate.day))\n",
    "        )\n",
    "        return self.age"
   ]
  },
  {
   "cell_type": "code",
   "execution_count": 119,
   "id": "8cfc5780",
   "metadata": {
    "editable": true,
    "execution": {
     "iopub.execute_input": "2025-02-17T11:17:21.976495Z",
     "iopub.status.busy": "2025-02-17T11:17:21.976400Z",
     "iopub.status.idle": "2025-02-17T11:17:21.981505Z",
     "shell.execute_reply": "2025-02-17T11:17:21.981117Z"
    },
    "tags": [
     "debug",
     "debug-6"
    ]
   },
   "outputs": [
    {
     "name": "stdout",
     "output_type": "stream",
     "text": [
      "The age of John Doe is 34\n",
      "The age of Jane Doe is 44\n",
      "Execution finished ✓\n"
     ]
    }
   ],
   "source": [
    "%autoreload 2\n",
    "# uncomment the line(s) below to debug\n",
    "from datetime import date\n",
    "from person_age_class import PersonAge\n",
    "\n",
    "person1 = PersonAge('John Doe', 'Manager', date(1990, 11, 15))\n",
    "person2 = PersonAge('Jane Doe', 'Manager', date(1980, 11, 15))\n",
    "print(f\"The age of {person1.name} is {person1.compute_age()}\")\n",
    "print(f\"The age of {person2.name} is {person2.compute_age()}\")\n",
    "print('Execution finished', u'\\u2713')"
   ]
  },
  {
   "cell_type": "code",
   "execution_count": 120,
   "id": "2b109b02",
   "metadata": {
    "checksum": "40b09850d7ed744dbcc1739b058745b0",
    "editable": false,
    "tags": [
     "raises-exception",
     "tests-6"
    ]
   },
   "outputs": [
    {
     "name": "stdout",
     "output_type": "stream",
     "text": [
      "tests passed ✓\n"
     ]
    }
   ],
   "source": [
    "%autoreload 2\n",
    "# test cell\n",
    "try:\n",
    "    import person_age_class\n",
    "except:\n",
    "    raise ValueError(\"You did not execute your solution cell!\")\n",
    "try:\n",
    "    from person_age_class import PersonAge\n",
    "except:\n",
    "    raise ValueError(\"Your solution does not contain the right function!\")\n",
    "\n",
    "import dataclasses\n",
    "from datetime import date\n",
    "from unittest.mock import patch\n",
    "\n",
    "assert 'PersonAge' in dir(), 'Class PersonAge does not exist!'\n",
    "assert dataclasses.is_dataclass(PersonAge), \"The class is not a dataclass!\"\n",
    "\n",
    "p = PersonAge('John Doe', 'Manager', date(1990, 11, 15))\n",
    "assert hasattr(p, 'name'), 'Class PersonAge does not have property `name`.'\n",
    "assert hasattr(p, 'job'), 'Class PersonAge does not have property `job`.'\n",
    "assert hasattr(p, 'age') == False, 'Class PersonAge should not have property `age`.'\n",
    "p.compute_age()\n",
    "assert hasattr(p, 'age'), 'Class PersonAge does not have property `age`.'\n",
    "assert p.age == 34, f\"The computed age `{p.age}` is incorrect!\"\n",
    "\n",
    "\n",
    "with patch('__main__.print') as mock_print:\n",
    "    s = str(p)\n",
    "mock_print.assert_not_called()\n",
    "\n",
    "person1 = PersonAge('John Doe', 'Manager', date(1990, 11, 15))\n",
    "person1.compute_age()\n",
    "person2 = PersonAge('Jane Doe', 'Manager', date(1980, 11, 15))\n",
    "person2.compute_age()\n",
    "assert person1.age < person2.age, \"The age computation seems incorrect!\"\n",
    "\n",
    "print('tests passed', u'\\u2713')"
   ]
  },
  {
   "cell_type": "code",
   "execution_count": 121,
   "id": "56862335",
   "metadata": {
    "checksum": "36fdf5f8e4ddc4fffa16a8398cf20505",
    "editable": false,
    "execution": {
     "iopub.execute_input": "2025-02-17T11:17:22.003730Z",
     "iopub.status.busy": "2025-02-17T11:17:22.003661Z",
     "iopub.status.idle": "2025-02-17T11:17:23.093214Z",
     "shell.execute_reply": "2025-02-17T11:17:23.092892Z"
    },
    "tags": [
     "raises-exception",
     "quality-6"
    ]
   },
   "outputs": [
    {
     "data": {
      "text/html": [
       "<div class=\"tip admonition\">\n",
       "<p class=\"admonition-title\">Code Quality Analysis: <span style=\"color: green\">Pass</span></p><p>*No problem was found*\n",
       "</p>\n",
       "    </div>"
      ],
      "text/plain": [
       "<IPython.core.display.HTML object>"
      ]
     },
     "metadata": {},
     "output_type": "display_data"
    }
   ],
   "source": [
    "validate_python_code(\"person_age_class.py\")"
   ]
  }
 ],
 "metadata": {
  "assignment_list": [
   "1",
   "2",
   "3",
   "4",
   "5",
   "6"
  ],
  "compilation_date": "2025-02-17 12:17:23.208502",
  "kernelspec": {
   "display_name": "venv",
   "language": "python",
   "name": "python3"
  },
  "language_info": {
   "codemirror_mode": {
    "name": "ipython",
    "version": 3
   },
   "file_extension": ".py",
   "mimetype": "text/x-python",
   "name": "python",
   "nbconvert_exporter": "python",
   "pygments_lexer": "ipython3",
   "version": "3.10.9"
  }
 },
 "nbformat": 4,
 "nbformat_minor": 5
}
