{
 "cells": [
  {
   "cell_type": "markdown",
   "metadata": {},
   "source": [
    "# Applied object-oriented programming\n",
    "\n",
    "Teacher: [Carlos Natalino](https://www.chalmers.se/en/persons/carda/) / Examiner: [Paolo Monti](https://www.chalmers.se/en/persons/mpaolo/)\n",
    "\n",
    "[Course channel on Chalmers Play](https://play.chalmers.se/channel/EEN060_EEN065_Applied_object-oriented_programming/300149)\n",
    "\n",
    "Before you turn this assignment list in, make sure everything runs as expected.\n",
    "First, **restart the kernel** and then **run all cells**.\n",
    "Then, check if all the tests run correctly.\n",
    "Note that if one of the problems present an error, the following ones **will not** be tested.\n",
    "\n",
    "In case of discrepancies between the problem command and the tests, you should solve it having in mind the tests.\n",
    "\n",
    "There are two types of cell:\n",
    "1. *solution cells:* These are the cells where you write your answer, or modify the existing code to solve the problem.\n",
    "2. *test cells:* These cells are used to test whether your solution is correct or not. If the tests run correctly, you should see a message `tests passed`. Otherwise, you should see an error message.\n",
    "\n",
    "**Delete** the line `raise NotImplementedError()` from the problems that you solve.\n",
    "\n",
    "**Do not delete or add any cell in this file.** All cells that you need are already in place.\n",
    "\n",
    "If you want to execute a cell, select the cell and press **CTRL+Enter** (in Windows) or **CMD+Enter** (in macOS) or click on the **Run cell** button.\n",
    "\n",
    "**If you want, you can solve this programming assignment using Google Colab**\n",
    "\n",
    "Link: https://colab.research.google.com/\n",
    "\n",
    "Just uncomment the following installation line to do so.\n",
    "\n",
    "**Preparation:** Run the cell below every time you start working on this file, and every time you restart the kernel."
   ]
  },
  {
   "cell_type": "code",
   "execution_count": 1,
   "metadata": {},
   "outputs": [],
   "source": [
    "# the line below installs all packages in Google Colab.\n",
    "# !pip install redis types-redis python-dotenv matplotlib flask flask-testing toml pytest coverage flake8 requests mypy pylint blinker types-requests isort black lorem-text bs4 pep8-naming"
   ]
  },
  {
   "cell_type": "markdown",
   "metadata": {},
   "source": [
    "The command below will list all the packages installed, confirming that the installation was successful."
   ]
  },
  {
   "cell_type": "code",
   "execution_count": 2,
   "metadata": {},
   "outputs": [
    {
     "name": "stdout",
     "output_type": "stream",
     "text": [
      "anyio==4.8.0\n",
      "appnope==0.1.4\n",
      "argon2-cffi==23.1.0\n",
      "argon2-cffi-bindings==21.2.0\n",
      "arrow==1.3.0\n",
      "astroid==3.3.8\n",
      "asttokens==3.0.0\n",
      "async-lru==2.0.4\n",
      "async-timeout==5.0.1\n",
      "attrs==24.3.0\n",
      "babel==2.16.0\n",
      "beautifulsoup4==4.12.3\n",
      "black==24.10.0\n",
      "bleach==6.2.0\n",
      "blinker==1.9.0\n",
      "bs4==0.0.2\n",
      "certifi==2024.12.14\n",
      "cffi==1.17.1\n",
      "charset-normalizer==3.4.1\n",
      "click==8.1.8\n",
      "comm==0.2.2\n",
      "contourpy==1.3.1\n",
      "coverage==7.6.10\n",
      "cryptography==44.0.0\n",
      "cycler==0.12.1\n",
      "debugpy==1.8.11\n",
      "decorator==5.1.1\n",
      "defusedxml==0.7.1\n",
      "dill==0.3.9\n",
      "exceptiongroup==1.2.2\n",
      "executing==2.1.0\n",
      "fastjsonschema==2.21.1\n",
      "flake8==7.1.1\n",
      "Flask==3.1.0\n",
      "Flask-Testing==0.8.1\n",
      "fonttools==4.55.3\n",
      "fqdn==1.5.1\n",
      "greenlet==3.1.1\n",
      "gunicorn==23.0.0\n",
      "h11==0.14.0\n",
      "httpcore==1.0.7\n",
      "httpx==0.28.1\n",
      "idna==3.10\n",
      "iniconfig==2.0.0\n",
      "ipykernel==6.29.5\n",
      "ipython==8.31.0\n",
      "ipywidgets==8.1.5\n",
      "isoduration==20.11.0\n",
      "isort==5.13.2\n",
      "itsdangerous==2.2.0\n",
      "jedi==0.19.2\n",
      "Jinja2==3.1.5\n",
      "json5==0.10.0\n",
      "jsonpointer==3.0.0\n",
      "jsonschema==4.23.0\n",
      "jsonschema-specifications==2024.10.1\n",
      "jupyter==1.1.1\n",
      "jupyter-console==6.6.3\n",
      "jupyter-events==0.11.0\n",
      "jupyter-lsp==2.2.5\n",
      "jupyter_client==8.6.3\n",
      "jupyter_core==5.7.2\n",
      "jupyter_server==2.15.0\n",
      "jupyter_server_terminals==0.5.3\n",
      "jupyterlab==4.3.4\n",
      "jupyterlab_pygments==0.3.0\n",
      "jupyterlab_server==2.27.3\n",
      "jupyterlab_widgets==3.0.13\n",
      "kiwisolver==1.4.8\n",
      "lorem-text==2.1\n",
      "MarkupSafe==3.0.2\n",
      "matplotlib==3.10.0\n",
      "matplotlib-inline==0.1.7\n",
      "mccabe==0.7.0\n",
      "mistune==3.1.0\n",
      "mypy==1.14.1\n",
      "mypy-extensions==1.0.0\n",
      "nbclient==0.10.2\n",
      "nbconvert==7.16.5\n",
      "nbformat==5.10.4\n",
      "nest-asyncio==1.6.0\n",
      "notebook==7.3.2\n",
      "notebook_shim==0.2.4\n",
      "numpy==2.2.1\n",
      "overrides==7.7.0\n",
      "packaging==24.2\n",
      "pandocfilters==1.5.1\n",
      "parso==0.8.4\n",
      "pathspec==0.12.1\n",
      "pep8-naming==0.14.1\n",
      "pexpect==4.9.0\n",
      "pillow==11.1.0\n",
      "platformdirs==4.3.6\n",
      "playwright==1.49.1\n",
      "pluggy==1.5.0\n",
      "prometheus_client==0.21.1\n",
      "prompt_toolkit==3.0.48\n",
      "psutil==6.1.1\n",
      "ptyprocess==0.7.0\n",
      "pure_eval==0.2.3\n",
      "pycodestyle==2.12.1\n",
      "pycparser==2.22\n",
      "pyee==12.0.0\n",
      "pyflakes==3.2.0\n",
      "Pygments==2.19.1\n",
      "pylint==3.3.3\n",
      "pyparsing==3.2.1\n",
      "pytest==8.3.4\n",
      "python-dateutil==2.9.0.post0\n",
      "python-dotenv==1.0.1\n",
      "python-json-logger==3.2.1\n",
      "PyYAML==6.0.2\n",
      "pyzmq==26.2.0\n",
      "redis==5.2.1\n",
      "referencing==0.35.1\n",
      "requests==2.32.3\n",
      "rfc3339-validator==0.1.4\n",
      "rfc3986-validator==0.1.1\n",
      "rpds-py==0.22.3\n",
      "Send2Trash==1.8.3\n",
      "six==1.17.0\n",
      "sniffio==1.3.1\n",
      "soupsieve==2.6\n",
      "stack-data==0.6.3\n",
      "terminado==0.18.1\n",
      "tinycss2==1.4.0\n",
      "toml==0.10.2\n",
      "tomli==2.2.1\n",
      "tomlkit==0.13.2\n",
      "tornado==6.4.2\n",
      "traitlets==5.14.3\n",
      "types-cffi==1.16.0.20241221\n",
      "types-pyOpenSSL==24.1.0.20240722\n",
      "types-python-dateutil==2.9.0.20241206\n",
      "types-redis==4.6.0.20241004\n",
      "types-requests==2.32.0.20241016\n",
      "types-setuptools==75.8.0.20250110\n",
      "typing_extensions==4.12.2\n",
      "uri-template==1.3.0\n",
      "urllib3==2.3.0\n",
      "wcwidth==0.2.13\n",
      "webcolors==24.11.1\n",
      "webencodings==0.5.1\n",
      "websocket-client==1.8.0\n",
      "Werkzeug==3.1.3\n",
      "widgetsnbextension==4.0.13\n"
     ]
    }
   ],
   "source": [
    "!pip freeze"
   ]
  },
  {
   "cell_type": "code",
   "execution_count": 3,
   "metadata": {},
   "outputs": [],
   "source": [
    "%load_ext autoreload\n",
    "import sys\n",
    "try:\n",
    "    from utils import validate_python_code\n",
    "except:\n",
    "    print(\"It seems this file is in the wrong folder. \"\n",
    "          \"Make sure to place it in the `programming-assignments` folder/project.\",\n",
    "          file=sys.stderr)"
   ]
  },
  {
   "cell_type": "markdown",
   "metadata": {},
   "source": [
    "---"
   ]
  },
  {
   "cell_type": "markdown",
   "metadata": {
    "deletable": false,
    "editable": false,
    "nbgrader": {
     "cell_type": "markdown",
     "checksum": "86a5da3b632a210bd4f4e2757c2ea7d9",
     "grade": false,
     "grade_id": "cell-title-assignment",
     "locked": true,
     "schema_version": 3,
     "solution": false,
     "task": false
    }
   },
   "source": [
    "# Validation of your installation\n",
    "\n",
    "In this notebook, students check if their installation is working correctly.\n",
    "\n",
    "Note that there are some errors that are purposefully placed here to test your setup.\n",
    "Run all cells in this notebook, and send the result screenshots in canvas.\n",
    "There is an appropriate *computer installation* assignment."
   ]
  },
  {
   "cell_type": "code",
   "execution_count": 4,
   "metadata": {},
   "outputs": [
    {
     "name": "stdout",
     "output_type": "stream",
     "text": [
      "Writing initial_file.py\n"
     ]
    }
   ],
   "source": [
    "%%writefile initial_file.py\n",
    "import datetime\n",
    "import getpass\n",
    "import os\n",
    "import platform\n",
    "import random\n",
    "from typing import Sequence\n",
    "\n",
    "from matplotlib.figure import Figure\n",
    "\n",
    "\n",
    "def validating_sum_of_squares(seq: Sequence[str | float | int]) -> Sequence[bool]:\n",
    "    return_seq = []\n",
    "    for element in seq:\n",
    "        try:\n",
    "            temp = False\n",
    "            num = int(element)\n",
    "            if num < 0:\n",
    "                return_seq.append(False)\n",
    "                continue\n",
    "            for i in range(int(num ** 0.5) + 1):\n",
    "                remainder = (num - i ** 2) ** 0.5\n",
    "                if remainder.is_integer():\n",
    "                    return_seq.append(True)\n",
    "                    temp = True\n",
    "                    break\n",
    "            if temp is False:\n",
    "                return_seq.append(False)\n",
    "        except (ValueError, TypeError):\n",
    "            return_seq.append(False)\n",
    "    return return_seq\n",
    "\n",
    "def generate_plot(single_line_fig: Figure):\n",
    "    Numbers = []\n",
    "    for i in range(100):\n",
    "        if i < 50: \n",
    "            Numbers.append(random.randint(0, 10))\n",
    "        else:\n",
    "            Numbers.append(random.randint(10, 20))\n",
    "\n",
    "    axes: Axes = single_line_fig.gca()\n",
    "    axes.set_title(\n",
    "        f\"\"\"If you see this, your installation was successful!\n",
    "        Date: {datetime.datetime.now()}\n",
    "        Folder: {os.getcwd()}\n",
    "        User: {getpass.getuser()}\n",
    "        OS: {platform.platform()}\"\"\"\n",
    "    )\n",
    "    axes.plot(Numbers)\n",
    "    single_line_fig.tight_layout()\n",
    "    return single_line_fig"
   ]
  },
  {
   "cell_type": "code",
   "execution_count": 5,
   "metadata": {
    "deletable": false,
    "nbgrader": {
     "cell_type": "code",
     "checksum": "97ed0d8ba1a435f691fb59af13c65751",
     "grade": false,
     "grade_id": "cell-answer-1-1",
     "locked": false,
     "schema_version": 3,
     "solution": true,
     "task": false
    }
   },
   "outputs": [
    {
     "name": "stdout",
     "output_type": "stream",
     "text": [
      "Writing tests_validating_sum_of_squares_solution.py\n"
     ]
    }
   ],
   "source": [
    "%%writefile tests_validating_sum_of_squares_solution.py\n",
    "# make sure to run this cell before running the next one\n",
    "from initial_file import validating_sum_of_squares\n",
    "\n",
    "\n",
    "def tests_validating_sum_of_squares() -> None:\n",
    "\n",
    "    test_cases = [\n",
    "        (\n",
    "            [\"2\", \"x\", -10, 3.3, \"asd\", None, \"b\", 4.0],\n",
    "            [True, False, False, False, False, False, False, True],\n",
    "        ),\n",
    "        ([9, \"x\", -9, None], [True, False, False, False]),\n",
    "    ]\n",
    "\n",
    "    for _in, _out in test_cases:\n",
    "        _res = validating_sum_of_squares(_in)\n",
    "        assert (\n",
    "            _res == _out\n",
    "        ), f\"The function with input `{_in}` should return the value \\\n",
    "    `{_out}` of type `{type(_out)}`\\n but returned the value `{_res}` \\\n",
    "    of type `{type(_res)}`.\""
   ]
  },
  {
   "cell_type": "code",
   "execution_count": 6,
   "metadata": {
    "deletable": false,
    "editable": false,
    "nbgrader": {
     "cell_type": "code",
     "checksum": "36d784d773ec72120c0fc2ca1c06aea7",
     "grade": true,
     "grade_id": "cell-tests-1-1",
     "locked": true,
     "points": 1,
     "schema_version": 3,
     "solution": false,
     "task": false
    }
   },
   "outputs": [
    {
     "name": "stderr",
     "output_type": "stream",
     "text": [
      "Executing tests\n"
     ]
    },
    {
     "name": "stdout",
     "output_type": "stream",
     "text": [
      "\u001b[1m============================= test session starts ==============================\u001b[0m\n",
      "platform darwin -- Python 3.10.9, pytest-8.3.4, pluggy-1.5.0\n",
      "rootdir: /Users/yousef/Desktop/Programming/Programming-assignments\n",
      "configfile: pyproject.toml\n",
      "plugins: anyio-4.8.0\n",
      "collected 1 item                                                               \u001b[0m\u001b[1m\n",
      "\n",
      "tests_validating_sum_of_squares_solution.py \u001b[32m.\u001b[0m\u001b[32m                            [100%]\u001b[0m\n",
      "\n",
      "\u001b[32m============================== \u001b[32m\u001b[1m1 passed\u001b[0m\u001b[32m in 0.56s\u001b[0m\u001b[32m ===============================\u001b[0m\n",
      "/Users/yousef/Desktop/Programming/Programming-assignments/venv/lib/python3.10/site-packages/coverage/inorout.py:508: CoverageWarning: Module codeapp was never imported. (module-not-imported)\n",
      "  self.warn(f\"Module {pkg} was never imported.\", slug=\"module-not-imported\")\n",
      "/Users/yousef/Desktop/Programming/Programming-assignments/venv/lib/python3.10/site-packages/coverage/control.py:892: CoverageWarning: No data was collected. (no-data-collected)\n",
      "  self._warn(\"No data was collected.\", slug=\"no-data-collected\")\n"
     ]
    }
   ],
   "source": [
    "# test cell\n",
    "print(\"Executing tests\", file=sys.stderr)\n",
    "try:\n",
    "    import initial_file\n",
    "except:\n",
    "    raise ValueError(\"You did not execute your solution cell!\")\n",
    "try:\n",
    "    from initial_file import validating_sum_of_squares\n",
    "except:\n",
    "    raise ValueError(\"Your solution does not contain the right function!\")\n",
    "\n",
    "!coverage run -m pytest tests_validating_sum_of_squares_solution.py"
   ]
  },
  {
   "cell_type": "code",
   "execution_count": 7,
   "metadata": {},
   "outputs": [
    {
     "name": "stderr",
     "output_type": "stream",
     "text": [
      "Validating the code quality\n"
     ]
    },
    {
     "data": {
      "text/html": [
       "<div class=\"tip admonition\">\n",
       "<p class=\"admonition-title\">Code Quality Analysis: <span style=\"color: green\">Pass</span></p><p>*No problem was found*\n",
       "</p>\n",
       "    </div>"
      ],
      "text/plain": [
       "<IPython.core.display.HTML object>"
      ]
     },
     "metadata": {},
     "output_type": "display_data"
    },
    {
     "name": "stdout",
     "output_type": "stream",
     "text": [
      "tests passed ✓\n"
     ]
    }
   ],
   "source": [
    "print(\"Validating the code quality\", file=sys.stderr)\n",
    "validate_python_code(\"tests_validating_sum_of_squares_solution.py\")\n",
    "print('tests passed', u'\\u2713')"
   ]
  },
  {
   "cell_type": "code",
   "execution_count": 8,
   "metadata": {},
   "outputs": [
    {
     "data": {
      "image/png": "[encoded data removed]",
      "text/plain": [
       "<Figure size 1000x500 with 1 Axes>"
      ]
     },
     "metadata": {},
     "output_type": "display_data"
    }
   ],
   "source": [
    "%autoreload 2\n",
    "# %matplotlib inline\n",
    "import matplotlib.pyplot as plt\n",
    "\n",
    "from initial_file import generate_plot\n",
    "\n",
    "fig = plt.figure(figsize=(10, 5))\n",
    "fig = generate_plot(fig)\n",
    "plt.show()"
   ]
  },
  {
   "cell_type": "code",
   "execution_count": 9,
   "metadata": {},
   "outputs": [
    {
     "data": {
      "text/html": [
       "<div class=\"tip admonition\">\n",
       "<p class=\"admonition-title\">Code Quality Analysis: <span style=\"color: red\">Fail</span></p><p><b>General formatting:</b></p><div class=\"literal-block-wrapper docutils container\">\n",
       "            <div class=\"highlight-python notranslate\">\n",
       "            <div class=\"highlight\">\n",
       "            <pre><span></span><span class=\"linenos\">16</span>&nbsp;&nbsp;&nbsp;&middot;&middot;&middot;&middot;&middot;&middot;&middot;&middot;&middot;&middot;&middot;&middot;temp&middot;=&middot;False\n",
       "<span class=\"linenos\">17</span>&nbsp;&nbsp;&nbsp;&middot;&middot;&middot;&middot;&middot;&middot;&middot;&middot;&middot;&middot;&middot;&middot;num&middot;=&middot;int(element)\n",
       "<span class=\"linenos\">18</span>&nbsp;&nbsp;&nbsp;&middot;&middot;&middot;&middot;&middot;&middot;&middot;&middot;&middot;&middot;&middot;&middot;if&middot;num&middot;<&middot;0:\n",
       "<span class=\"linenos\">19</span>&nbsp;&nbsp;&nbsp;&middot;&middot;&middot;&middot;&middot;&middot;&middot;&middot;&middot;&middot;&middot;&middot;&middot;&middot;&middot;&middot;return_seq.append(False)\n",
       "<span class=\"linenos\">20</span>&nbsp;&nbsp;&nbsp;&middot;&middot;&middot;&middot;&middot;&middot;&middot;&middot;&middot;&middot;&middot;&middot;&middot;&middot;&middot;&middot;continue\n",
       "<span class=\"hll\"><span class=\"linenos\">21</span>&nbsp;-&nbsp;&middot;&middot;&middot;&middot;&middot;&middot;&middot;&middot;&middot;&middot;&middot;&middot;for&middot;i&middot;in&middot;range(int(num&middot;**&middot;0.5)&middot;+&middot;1):\n",
       "</span><span class=\"hll\"><span class=\"linenos\">21</span>&nbsp;-&nbsp;&middot;&middot;&middot;&middot;&middot;&middot;&middot;&middot;&middot;&middot;&middot;&middot;&middot;&middot;&middot;&middot;remainder&middot;=&middot;(num&middot;-&middot;i&middot;**&middot;2)&middot;**&middot;0.5\n",
       "</span><span class=\"hll\"><span class=\"linenos\">21</span>&nbsp;+&nbsp;&middot;&middot;&middot;&middot;&middot;&middot;&middot;&middot;&middot;&middot;&middot;&middot;for&middot;i&middot;in&middot;range(int(num**0.5)&middot;+&middot;1):\n",
       "</span><span class=\"hll\"><span class=\"linenos\">22</span>&nbsp;+&nbsp;&middot;&middot;&middot;&middot;&middot;&middot;&middot;&middot;&middot;&middot;&middot;&middot;&middot;&middot;&middot;&middot;remainder&middot;=&middot;(num&middot;-&middot;i**2)&middot;**&middot;0.5\n",
       "</span><span class=\"linenos\">23</span>&nbsp;&nbsp;&nbsp;&middot;&middot;&middot;&middot;&middot;&middot;&middot;&middot;&middot;&middot;&middot;&middot;&middot;&middot;&middot;&middot;if&middot;remainder.is_integer():\n",
       "<span class=\"linenos\">24</span>&nbsp;&nbsp;&nbsp;&middot;&middot;&middot;&middot;&middot;&middot;&middot;&middot;&middot;&middot;&middot;&middot;&middot;&middot;&middot;&middot;&middot;&middot;&middot;&middot;return_seq.append(True)\n",
       "<span class=\"linenos\">25</span>&nbsp;&nbsp;&nbsp;&middot;&middot;&middot;&middot;&middot;&middot;&middot;&middot;&middot;&middot;&middot;&middot;&middot;&middot;&middot;&middot;&middot;&middot;&middot;&middot;temp&middot;=&middot;True\n",
       "<span class=\"linenos\">26</span>&nbsp;&nbsp;&nbsp;&middot;&middot;&middot;&middot;&middot;&middot;&middot;&middot;&middot;&middot;&middot;&middot;&middot;&middot;&middot;&middot;&middot;&middot;&middot;&middot;break\n",
       "<span class=\"linenos\">27</span>&nbsp;&nbsp;&nbsp;&middot;&middot;&middot;&middot;&middot;&middot;&middot;&middot;&middot;&middot;&middot;&middot;if&middot;temp&middot;is&middot;False:\n",
       "<span class=\"linenos\">28</span>&nbsp;&nbsp;&nbsp;&middot;&middot;&middot;&middot;&middot;&middot;&middot;&middot;&middot;&middot;&middot;&middot;&middot;&middot;&middot;&middot;return_seq.append(False)\n",
       "<span class=\"linenos\">29</span>&nbsp;&nbsp;&nbsp;&middot;&middot;&middot;&middot;&middot;&middot;&middot;&middot;except&middot;(ValueError,&middot;TypeError):\n",
       "<span class=\"linenos\">30</span>&nbsp;&nbsp;&nbsp;&middot;&middot;&middot;&middot;&middot;&middot;&middot;&middot;&middot;&middot;&middot;&middot;return_seq.append(False)\n",
       "<span class=\"linenos\">31</span>&nbsp;&nbsp;&nbsp;&middot;&middot;&middot;&middot;return&middot;return_seq\n",
       "<span class=\"linenos\">32</span>&nbsp;&nbsp;&nbsp;\n",
       "<span class=\"hll\"><span class=\"linenos\">33</span>&nbsp;+&nbsp;\n",
       "</span><span class=\"linenos\">34</span>&nbsp;&nbsp;&nbsp;def&middot;generate_plot(single_line_fig:&middot;Figure):\n",
       "<span class=\"linenos\">35</span>&nbsp;&nbsp;&nbsp;&middot;&middot;&middot;&middot;Numbers&middot;=&middot;[]\n",
       "<span class=\"linenos\">36</span>&nbsp;&nbsp;&nbsp;&middot;&middot;&middot;&middot;for&middot;i&middot;in&middot;range(100):\n",
       "<span class=\"hll\"><span class=\"linenos\">37</span>&nbsp;-&nbsp;&middot;&middot;&middot;&middot;&middot;&middot;&middot;&middot;if&middot;i&middot;<&middot;50:&middot;\n",
       "</span><span class=\"hll\"><span class=\"linenos\">37</span>&nbsp;+&nbsp;&middot;&middot;&middot;&middot;&middot;&middot;&middot;&middot;if&middot;i&middot;<&middot;50:\n",
       "</span><span class=\"linenos\">38</span>&nbsp;&nbsp;&nbsp;&middot;&middot;&middot;&middot;&middot;&middot;&middot;&middot;&middot;&middot;&middot;&middot;Numbers.append(random.randint(0,&middot;10))\n",
       "<span class=\"linenos\">39</span>&nbsp;&nbsp;&nbsp;&middot;&middot;&middot;&middot;&middot;&middot;&middot;&middot;else:\n",
       "<span class=\"linenos\">40</span>&nbsp;&nbsp;&nbsp;&middot;&middot;&middot;&middot;&middot;&middot;&middot;&middot;&middot;&middot;&middot;&middot;Numbers.append(random.randint(10,&middot;20))\n",
       "<span class=\"linenos\">41</span>&nbsp;&nbsp;&nbsp;\n",
       "<span class=\"linenos\">42</span>&nbsp;&nbsp;&nbsp;&middot;&middot;&middot;&middot;axes:&middot;Axes&middot;=&middot;single_line_fig.gca()\n",
       "</pre>\n",
       "            </div>\n",
       "            </div>\n",
       "            </div><p><p><b>Variable types and use:</b></p><table>\n",
       "<thead>\n",
       "<tr>\n",
       "<th style=\"text-align:right\">Line</th>\n",
       "<th style=\"text-align:left\">Description</th>\n",
       "<th style=\"text-align:left\">Code line</th>\n",
       "</tr>\n",
       "</thead>\n",
       "<tbody>\n",
       "<tr>\n",
       "<td style=\"text-align:right\">33</td>\n",
       "<td style=\"text-align:left\"><p>expected 2 blank lines, found 1</p><pre>def generate_plot(single_line_fig: Figure):<br/>^</pre></td>\n",
       "<td style=\"text-align:left\"><pre><code>def&middot;generate_plot(single_line_fig:&middot;Figure):</code></pre></td>\n",
       "</tr><tr>\n",
       "<td style=\"text-align:right\">33</td>\n",
       "<td style=\"text-align:left\">Function is missing a return type annotation  [no-untyped-def]</td>\n",
       "<td style=\"text-align:left\"><pre><code>def&middot;generate_plot(single_line_fig:&middot;Figure):</code></pre></td>\n",
       "</tr><tr>\n",
       "<td style=\"text-align:right\">34</td>\n",
       "<td style=\"text-align:left\"><p>variable 'Numbers' in function should be lowercase</p><pre>    Numbers = []<br/>     ^</pre></td>\n",
       "<td style=\"text-align:left\"><pre><code>&middot;&middot;&middot;&middot;Numbers&middot;=&middot;[]</code></pre></td>\n",
       "</tr><tr>\n",
       "<td style=\"text-align:right\">36</td>\n",
       "<td style=\"text-align:left\"><p>trailing whitespace</p><pre>        if i < 50: <br/>                  ^</pre></td>\n",
       "<td style=\"text-align:left\"><pre><code>&middot;&middot;&middot;&middot;&middot;&middot;&middot;&middot;if&middot;i&middot;<&middot;50:&middot;</code></pre></td>\n",
       "</tr><tr>\n",
       "<td style=\"text-align:right\">41</td>\n",
       "<td style=\"text-align:left\"><p>undefined name 'Axes'</p><pre>    axes: Axes = single_line_fig.gca()<br/>          ^</pre></td>\n",
       "<td style=\"text-align:left\"><pre><code>&middot;&middot;&middot;&middot;axes:&middot;Axes&middot;=&middot;single_line_fig.gca()</code></pre></td>\n",
       "</tr><tr>\n",
       "<td style=\"text-align:right\">41</td>\n",
       "<td style=\"text-align:left\">Name \"Axes\" is not defined  [name-defined]</td>\n",
       "<td style=\"text-align:left\"><pre><code>&middot;&middot;&middot;&middot;axes:&middot;Axes&middot;=&middot;single_line_fig.gca()</code></pre></td>\n",
       "</tr></tbody>\n",
       "</table></p>\n",
       "    </div>"
      ],
      "text/plain": [
       "<IPython.core.display.HTML object>"
      ]
     },
     "metadata": {},
     "output_type": "display_data"
    },
    {
     "ename": "ValueError",
     "evalue": "The code needs change. Check messages above.",
     "output_type": "error",
     "traceback": [
      "\u001b[0;31m---------------------------------------------------------------------------\u001b[0m",
      "\u001b[0;31mValueError\u001b[0m                                Traceback (most recent call last)",
      "Cell \u001b[0;32mIn[9], line 2\u001b[0m\n\u001b[1;32m      1\u001b[0m \u001b[38;5;66;03m# test cell\u001b[39;00m\n\u001b[0;32m----> 2\u001b[0m \u001b[43mvalidate_python_code\u001b[49m\u001b[43m(\u001b[49m\u001b[38;5;124;43m\"\u001b[39;49m\u001b[38;5;124;43minitial_file.py\u001b[39;49m\u001b[38;5;124;43m\"\u001b[39;49m\u001b[43m)\u001b[49m\n\u001b[1;32m      3\u001b[0m \u001b[38;5;28mprint\u001b[39m(\u001b[38;5;124m'\u001b[39m\u001b[38;5;124mtests passed\u001b[39m\u001b[38;5;124m'\u001b[39m, \u001b[38;5;124mu\u001b[39m\u001b[38;5;124m'\u001b[39m\u001b[38;5;130;01m\\u2713\u001b[39;00m\u001b[38;5;124m'\u001b[39m)\n",
      "File \u001b[0;32m~/Desktop/Programming/Programming-assignments/utils.py:84\u001b[0m, in \u001b[0;36mvalidate_python_code\u001b[0;34m(filename, **args)\u001b[0m\n\u001b[1;32m     79\u001b[0m     \u001b[38;5;28;01mraise\u001b[39;00m \u001b[38;5;167;01mValueError\u001b[39;00m(\n\u001b[1;32m     80\u001b[0m         \u001b[38;5;124mf\u001b[39m\u001b[38;5;124m\"\u001b[39m\u001b[38;5;124mError while decoding the response. \u001b[39m\u001b[38;5;124m\"\u001b[39m\n\u001b[1;32m     81\u001b[0m         \u001b[38;5;124mf\u001b[39m\u001b[38;5;124m\"\u001b[39m\u001b[38;5;124mDetail: \u001b[39m\u001b[38;5;132;01m{\u001b[39;00me\u001b[38;5;132;01m}\u001b[39;00m\u001b[38;5;124m. Response: \u001b[39m\u001b[38;5;132;01m{\u001b[39;00mresponse_html\u001b[38;5;241m.\u001b[39mtext\u001b[38;5;132;01m}\u001b[39;00m\u001b[38;5;124m\"\u001b[39m\n\u001b[1;32m     82\u001b[0m     )\n\u001b[1;32m     83\u001b[0m \u001b[38;5;28;01mif\u001b[39;00m data[\u001b[38;5;124m\"\u001b[39m\u001b[38;5;124mfail\u001b[39m\u001b[38;5;124m\"\u001b[39m]:\n\u001b[0;32m---> 84\u001b[0m     \u001b[38;5;28;01mraise\u001b[39;00m \u001b[38;5;167;01mValueError\u001b[39;00m(\u001b[38;5;124m\"\u001b[39m\u001b[38;5;124mThe code needs change. Check messages above.\u001b[39m\u001b[38;5;124m\"\u001b[39m)\n",
      "\u001b[0;31mValueError\u001b[0m: The code needs change. Check messages above."
     ]
    }
   ],
   "source": [
    "# test cell\n",
    "validate_python_code(\"initial_file.py\")\n",
    "print('tests passed', u'\\u2713')"
   ]
  }
 ],
 "metadata": {
  "kernelspec": {
   "display_name": "venv",
   "language": "python",
   "name": "python3"
  },
  "language_info": {
   "codemirror_mode": {
    "name": "ipython",
    "version": 3
   },
   "file_extension": ".py",
   "mimetype": "text/x-python",
   "name": "python",
   "nbconvert_exporter": "python",
   "pygments_lexer": "ipython3",
   "version": "3.10.9"
  }
 },
 "nbformat": 4,
 "nbformat_minor": 4
}
