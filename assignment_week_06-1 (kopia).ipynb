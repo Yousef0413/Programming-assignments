{
 "cells": [
  {
   "cell_type": "markdown",
   "id": "bdd59aaa",
   "metadata": {
    "editable": false,
    "tags": []
   },
   "source": [
    "# EEN060 - Applied object-oriented programming\n",
    "\n",
    "\n",
    "Teacher: [Carlos Natalino](https://www.chalmers.se/en/persons/carda/) / Examiner: [Paolo Monti](https://www.chalmers.se/en/persons/mpaolo/)\n",
    "\n",
    "[Canvas course page](https://chalmers.instructure.com/courses/33383)\n",
    "\n",
    "[Course channel on Chalmers Play](https://play.chalmers.se/channel/EEN060_EEN065_Applied_object-oriented_programming/300149)\n",
    "\n",
    "Before you turn this assignment list in, make sure everything runs as expected.\n",
    "First, **restart the kernel** and then **run all cells**.\n",
    "Then, check if all the tests run correctly.\n",
    "Note that if one of the problems present an error, the following ones **will not** be tested.\n",
    "\n",
    "In case of discrepancies between the problem command and the tests, you should solve it having in mind the tests.\n",
    "\n",
    "There are three types of cell:\n",
    "1. *solution cells:* These are the cells where you write your answer, or modify the existing code to solve the problem.\n",
    "<!-- 2. *debug cells:* These cells are where you test your solution while developing it. You can either uncomment the indicated lines of code to test your solution on completion, or you can keep the lines commented and write your own code to test your solution. You are allowed to modify this cell as you wish to complete your solution in solution cell. But make sure you do not introduce an error in this cell. -->\n",
    "2. *test cells:* These cells are used to test whether your solution is correct or not. If the tests run correctly, you should see a message `tests passed`. Otherwise, you should see an error message.\n",
    "3. *code quality tests:* These cells tests whether your solution adheres to the code quality rules of the course.\n",
    "\n",
    "The code quality tests require you to be connected to the Chalmers network, either through Eduroam or through the VPN.\n",
    "You can find more information [here](https://chalmers.topdesk.net/tas/public/ssp/content/search?q=KB+1678).\n",
    "\n",
    "**Delete** the line `raise NotImplementedError()` from the problems that you solve.\n",
    "\n",
    "**Do not delete or add any cell in this file.** All cells that you need are already in place.\n",
    "\n",
    "If you want to execute a cell, select the cell and press **CTRL+Enter** (in Windows) or **CMD+Enter** (in macOS) or click on the **Run cell** button.\n"
   ]
  },
  {
   "cell_type": "markdown",
   "id": "f9111983",
   "metadata": {
    "editable": false,
    "tags": []
   },
   "source": [
    "## Assignment Week 6\n",
    "\n",
    "**Preparation:** Run the cell below every time you start working on this file, and every time you restart the kernel."
   ]
  },
  {
   "cell_type": "code",
   "execution_count": 13,
   "id": "6692a025",
   "metadata": {
    "checksum": "2ba52c260aa11f167f534ef7c20239ec",
    "editable": false,
    "execution": {
     "iopub.execute_input": "2025-02-24T11:33:51.346626Z",
     "iopub.status.busy": "2025-02-24T11:33:51.346469Z",
     "iopub.status.idle": "2025-02-24T11:33:51.507705Z",
     "shell.execute_reply": "2025-02-24T11:33:51.507356Z"
    },
    "tags": [
     "load",
     "raises-exception"
    ]
   },
   "outputs": [],
   "source": [
    "%load_ext autoreload\n",
    "# check if this file is within the same folder as the `utils.py` file.\n",
    "import os\n",
    "import sys\n",
    "\n",
    "if not os.path.exists(\"utils.py\"):\n",
    "    print(\"It seems this file is in the wrong folder. \"\n",
    "          \"Make sure to place it in the `programming-assignments` folder/project.\",\n",
    "          file=sys.stderr)\n",
    "\n",
    "from utils import validate_python_code"
   ]
  },
  {
   "cell_type": "code",
   "execution_count": 14,
   "id": "16f91c54",
   "metadata": {
    "checksum": "fc7a51db8bd56c25ca0326e9ad373631",
    "editable": false,
    "tags": [
     "check-venv",
     "raises-exception"
    ]
   },
   "outputs": [
    {
     "name": "stdout",
     "output_type": "stream",
     "text": [
      "Version: 3.10.9 (main, Mar  1 2023, 12:33:47) [Clang 14.0.6 ]\n",
      "Executable (virtual env): /Users/yousef/Desktop/Programming/Programming-assignments/venv/bin/python\n",
      "Current folder: /Users/yousef/Desktop/Programming/Programming-assignments\n",
      "Datetime: 2025-03-14 16:34:54.643618\n",
      "User: yousef\n"
     ]
    }
   ],
   "source": [
    "import datetime\n",
    "import getpass\n",
    "import os\n",
    "import sys\n",
    "\n",
    "# check if the virtual env is correct\n",
    "venv_path = os.path.abspath(sys.executable)\n",
    "cur_path = os.path.abspath(os.getcwd())\n",
    "\n",
    "print(\"Version:\", sys.version)\n",
    "print(\"Executable (virtual env):\", sys.executable)\n",
    "print(\"Current folder:\", os.getcwd())\n",
    "print(\"Datetime:\", datetime.datetime.now())\n",
    "print(\"User:\", getpass.getuser())\n",
    "\n",
    "assert getpass.getuser() == \"runner\" or \\\n",
    "    os.path.commonpath([venv_path, cur_path]) == cur_path, \\\n",
    "    \"It seems like this file is being executed with the wrong virtual environment.\"\n",
    "\n",
    "del datetime, getpass"
   ]
  },
  {
   "cell_type": "markdown",
   "id": "9364c6b0",
   "metadata": {
    "editable": false
   },
   "source": [
    "### Task 1\n",
    "\n",
    "Create a Python class named `Person` that is a dataclass.\n",
    "The attributes are:\n",
    "- name, string\n",
    "- role, string\n",
    "- person_number, string\n",
    "- phone_number, string (optional, default `None`)\n",
    "- address, string (optional, default `None`)\n",
    "\n",
    "\n",
    "The class should also have a custom `__repr__()` method that returns a string containing only the attributes that are not `None`, separated by `\\t` characters.\n",
    "\n",
    "**Note:**\n",
    "- This task is similar to Task 5 in assignment week 5 with the only difference being: here you are required to use dataclass instead of writing your own `__init__()` method."
   ]
  },
  {
   "cell_type": "markdown",
   "id": "d59d93b5",
   "metadata": {
    "editable": false
   },
   "source": [
    "```\n",
    "# write here your pseudocode (not graded)\n",
    "\n",
    "# * pseudocode is necessary when asking for help during the lab\n",
    "```"
   ]
  },
  {
   "cell_type": "code",
   "execution_count": 15,
   "id": "8b877ead",
   "metadata": {
    "editable": true,
    "execution": {
     "iopub.execute_input": "2025-02-24T11:33:51.509223Z",
     "iopub.status.busy": "2025-02-24T11:33:51.509136Z",
     "iopub.status.idle": "2025-02-24T11:33:51.511973Z",
     "shell.execute_reply": "2025-02-24T11:33:51.511759Z"
    },
    "tags": [
     "solution",
     "solution-1"
    ]
   },
   "outputs": [
    {
     "name": "stdout",
     "output_type": "stream",
     "text": [
      "Overwriting person_class.py\n"
     ]
    }
   ],
   "source": [
    "%%writefile person_class.py\n",
    "from dataclasses import dataclass\n",
    "from typing import Optional\n",
    "\n",
    "\n",
    "@dataclass\n",
    "class Person:\n",
    "    name: str\n",
    "    role: str\n",
    "    person_number: str\n",
    "    phone_number: Optional[str] = None\n",
    "    address: Optional[str] = None\n",
    "\n",
    "    def repr(self) -> str:\n",
    "        values = [\n",
    "            self.name,\n",
    "            self.role,\n",
    "            self.person_number,\n",
    "            self.phone_number,\n",
    "            self.address,\n",
    "        ]\n",
    "        return \"\\t\".join(str(value) for value in values if value is not None)\n",
    "%%writefile student_class.py\n"
   ]
  },
  {
   "cell_type": "code",
   "execution_count": null,
   "id": "a0a90999",
   "metadata": {
    "editable": true,
    "execution": {
     "iopub.execute_input": "2025-02-24T11:33:47.291921Z",
     "iopub.status.busy": "2025-02-24T11:33:47.291797Z",
     "iopub.status.idle": "2025-02-24T11:33:47.301598Z",
     "shell.execute_reply": "2025-02-24T11:33:47.301262Z"
    },
    "tags": [
     "debug",
     "debug-1"
    ]
   },
   "outputs": [
    {
     "ename": "SyntaxError",
     "evalue": "invalid syntax (person_class.py, line 22)",
     "output_type": "error",
     "traceback": [
      "Traceback \u001b[0;36m(most recent call last)\u001b[0m:\n",
      "\u001b[0m  File \u001b[1;32m~/Desktop/Programming/Programming-assignments/venv/lib/python3.10/site-packages/IPython/core/interactiveshell.py:3577\u001b[0m in \u001b[1;35mrun_code\u001b[0m\n    exec(code_obj, self.user_global_ns, self.user_ns)\u001b[0m\n",
      "\u001b[0;36m  Cell \u001b[0;32mIn[21], line 2\u001b[0;36m\n\u001b[0;31m    from person_class import Person\u001b[0;36m\n",
      "\u001b[0;36m  File \u001b[0;32m~/Desktop/Programming/Programming-assignments/person_class.py:22\u001b[0;36m\u001b[0m\n\u001b[0;31m    %%writefile student_class.py\u001b[0m\n\u001b[0m    ^\u001b[0m\n\u001b[0;31mSyntaxError\u001b[0m\u001b[0;31m:\u001b[0m invalid syntax\n"
     ]
    }
   ],
   "source": [
    "%autoreload 2\n",
    "# uncomment the line(s) below to debug\n",
    "from person_class import Person\n",
    "\n",
    "person = Person('John Doe', 'Manager', '201414202014')\n",
    "print(f'The Person object converts to string as\\n{person}')\n",
    "print('Execution finished', u'\\u2713')"
   ]
  },
  {
   "cell_type": "code",
   "execution_count": 17,
   "id": "2102e8a9",
   "metadata": {
    "checksum": "ba9357b891ad7c06fc5dc39197778bf5",
    "editable": false,
    "tags": [
     "raises-exception",
     "tests-1",
     "tests"
    ]
   },
   "outputs": [
    {
     "ename": "ValueError",
     "evalue": "You did not execute your solution cell!",
     "output_type": "error",
     "traceback": [
      "\u001b[0;31m---------------------------------------------------------------------------\u001b[0m",
      "\u001b[0;31mSyntaxError\u001b[0m                               Traceback (most recent call last)",
      "Cell \u001b[0;32mIn[17], line 4\u001b[0m\n\u001b[1;32m      3\u001b[0m \u001b[38;5;28;01mtry\u001b[39;00m:\n\u001b[0;32m----> 4\u001b[0m     \u001b[38;5;28;01mimport\u001b[39;00m\u001b[38;5;250m \u001b[39m\u001b[38;5;21;01mperson_class\u001b[39;00m\n\u001b[1;32m      5\u001b[0m \u001b[38;5;28;01mexcept\u001b[39;00m:\n",
      "\u001b[0;31mSyntaxError\u001b[0m: invalid syntax (person_class.py, line 22)",
      "\nDuring handling of the above exception, another exception occurred:\n",
      "\u001b[0;31mValueError\u001b[0m                                Traceback (most recent call last)",
      "Cell \u001b[0;32mIn[17], line 6\u001b[0m\n\u001b[1;32m      4\u001b[0m     \u001b[38;5;28;01mimport\u001b[39;00m\u001b[38;5;250m \u001b[39m\u001b[38;5;21;01mperson_class\u001b[39;00m\n\u001b[1;32m      5\u001b[0m \u001b[38;5;28;01mexcept\u001b[39;00m:\n\u001b[0;32m----> 6\u001b[0m     \u001b[38;5;28;01mraise\u001b[39;00m \u001b[38;5;167;01mValueError\u001b[39;00m(\u001b[38;5;124m\"\u001b[39m\u001b[38;5;124mYou did not execute your solution cell!\u001b[39m\u001b[38;5;124m\"\u001b[39m)\n\u001b[1;32m      7\u001b[0m \u001b[38;5;28;01mtry\u001b[39;00m:\n\u001b[1;32m      8\u001b[0m     \u001b[38;5;28;01mfrom\u001b[39;00m\u001b[38;5;250m \u001b[39m\u001b[38;5;21;01mperson_class\u001b[39;00m\u001b[38;5;250m \u001b[39m\u001b[38;5;28;01mimport\u001b[39;00m Person\n",
      "\u001b[0;31mValueError\u001b[0m: You did not execute your solution cell!"
     ]
    }
   ],
   "source": [
    "%autoreload 2\n",
    "# test cell\n",
    "try:\n",
    "    import person_class\n",
    "except:\n",
    "    raise ValueError(\"You did not execute your solution cell!\")\n",
    "try:\n",
    "    from person_class import Person\n",
    "except:\n",
    "    raise ValueError(\"Your solution does not contain the right function!\")\n",
    "\n",
    "from unittest.mock import patch\n",
    "\n",
    "assert 'Person' in dir(), 'Class Person does not exist!'\n",
    "p = Person('John Doe', 'Manager', '201414202014' )\n",
    "with patch('__main__.print') as mock_print:\n",
    "    s = str(p)\n",
    "mock_print.assert_not_called()\n",
    "assert str(p) == 'John Doe\\tManager\\t201414202014', \"The output of repr is incorrect\"\n",
    "\n",
    "p = Person('Jane Doe', 'Supervisor', '201212202012', 'Gibraltargatan')\n",
    "assert str(p) == 'Jane Doe\\tSupervisor\\t201212202012\\tGibraltargatan'\n",
    "\n",
    "p = Person('Jane Doe', 'Supervisor', '201212202012', 'Gibraltargatan', '123456')\n",
    "assert str(p) == 'Jane Doe\\tSupervisor\\t201212202012\\tGibraltargatan\\t123456'\n",
    "\n",
    "p = Person('Jane Doe', 'Supervisor', '201212202012', '123456')\n",
    "assert str(p) == 'Jane Doe\\tSupervisor\\t201212202012\\t123456'\n",
    "\n",
    "p = Person('Jane Doe', 'Super visor', '201212 202012',  'Gibraltar gatan')\n",
    "assert str(p) == 'Jane Doe\\tSuper visor\\t201212 202012\\tGibraltar gatan'\n",
    "\n",
    "print('tests passed', u'\\u2713')"
   ]
  },
  {
   "cell_type": "code",
   "execution_count": 4,
   "id": "4645286f",
   "metadata": {
    "checksum": "a23aa3006d32824ef736c6f0d8e4dcbb",
    "editable": false,
    "execution": {
     "iopub.execute_input": "2025-02-24T11:33:47.349362Z",
     "iopub.status.busy": "2025-02-24T11:33:47.349236Z",
     "iopub.status.idle": "2025-02-24T11:33:47.605785Z",
     "shell.execute_reply": "2025-02-24T11:33:47.605439Z"
    },
    "tags": [
     "quality-1",
     "raises-exception",
     "quality"
    ]
   },
   "outputs": [
    {
     "ename": "NameError",
     "evalue": "name 'validate_python_code' is not defined",
     "output_type": "error",
     "traceback": [
      "\u001b[0;31m---------------------------------------------------------------------------\u001b[0m",
      "\u001b[0;31mNameError\u001b[0m                                 Traceback (most recent call last)",
      "Cell \u001b[0;32mIn[4], line 1\u001b[0m\n\u001b[0;32m----> 1\u001b[0m \u001b[43mvalidate_python_code\u001b[49m(\u001b[38;5;124m\"\u001b[39m\u001b[38;5;124mperson_class.py\u001b[39m\u001b[38;5;124m\"\u001b[39m)\n",
      "\u001b[0;31mNameError\u001b[0m: name 'validate_python_code' is not defined"
     ]
    }
   ],
   "source": [
    "validate_python_code(\"person_class.py\")"
   ]
  },
  {
   "cell_type": "markdown",
   "id": "70b649d3",
   "metadata": {
    "editable": false
   },
   "source": [
    "### Task 2\n",
    "\n",
    "Create a Python class named `Student` that inherits from the class `Person` created in the previous task. The class `Student` should override the initialization method of the class `Person` and set the attribute `role` always with the value `\"Student\"`, removing the need to pass it as a parameter to the method. The initialization method should also include the parameter `program` as a mandatory one, before the phone_number and address. That is, you need to create an initialization method with parameters:\n",
    "1. name (mandatory)\n",
    "2. person number (mandatory)\n",
    "3. program (mandatory)\n",
    "4. phone number (optional, `None` by default)\n",
    "5. address (optional, `None` by default)\n",
    "\n",
    "\n",
    "Finally, the class `Student` should also have a method `.print()` that uses the return of the method `.__repr__()` of the *parent* class and appends program to it, printing out the result.\n",
    "\n",
    "**Suggestions:**\n",
    "- Since the class in this problem inherits from the class created in the previous task, note that you need to import the `Person` class from the module created in the previous task in the solution cell of this one.\n",
    "- To call a method from the parent class you need to use the function `super()`. For example, to call the `.__init__()` method from the parent class, you call `super().__init__()`."
   ]
  },
  {
   "cell_type": "markdown",
   "id": "934350b1",
   "metadata": {
    "editable": false
   },
   "source": [
    "```\n",
    "# write here your pseudocode (not graded)\n",
    "\n",
    "# * pseudocode is necessary when asking for help during the lab\n",
    "```"
   ]
  },
  {
   "cell_type": "code",
   "execution_count": 18,
   "id": "822d80bd",
   "metadata": {
    "editable": true,
    "execution": {
     "iopub.execute_input": "2025-02-24T11:33:51.513290Z",
     "iopub.status.busy": "2025-02-24T11:33:51.513203Z",
     "iopub.status.idle": "2025-02-24T11:33:51.515225Z",
     "shell.execute_reply": "2025-02-24T11:33:51.515028Z"
    },
    "tags": [
     "solution",
     "solution-2"
    ]
   },
   "outputs": [
    {
     "name": "stdout",
     "output_type": "stream",
     "text": [
      "Overwriting student_class.py\n"
     ]
    }
   ],
   "source": [
    "%%writefile student_class.py\n",
    "# solution cell\n",
    "from person_class import Person\n",
    "from typing import Optional\n",
    "\n",
    "\n",
    "class Student(Person):\n",
    "    def init(\n",
    "        self,\n",
    "        name: str,\n",
    "        person_number: str,\n",
    "        program: str,\n",
    "        phone_number: Optional[str] = None,\n",
    "        address: Optional[str] = None,\n",
    "    ) -> None:\n",
    "        super().init(name, \"Student\", person_number, phone_number, address)\n",
    "        self.program = program\n",
    "\n",
    "    def print(self) -> None:\n",
    "        print(f\"{super().repr()}\\t{self.program}\")\n"
   ]
  },
  {
   "cell_type": "code",
   "execution_count": 19,
   "id": "e542bd30",
   "metadata": {
    "editable": true,
    "execution": {
     "iopub.execute_input": "2025-02-24T11:33:48.984812Z",
     "iopub.status.busy": "2025-02-24T11:33:48.984736Z",
     "iopub.status.idle": "2025-02-24T11:33:48.995335Z",
     "shell.execute_reply": "2025-02-24T11:33:48.995136Z"
    },
    "tags": [
     "debug",
     "debug-2"
    ]
   },
   "outputs": [
    {
     "ename": "SyntaxError",
     "evalue": "invalid syntax (person_class.py, line 22)",
     "output_type": "error",
     "traceback": [
      "Traceback \u001b[0;36m(most recent call last)\u001b[0m:\n",
      "\u001b[0m  File \u001b[1;32m~/Desktop/Programming/Programming-assignments/venv/lib/python3.10/site-packages/IPython/core/interactiveshell.py:3577\u001b[0m in \u001b[1;35mrun_code\u001b[0m\n    exec(code_obj, self.user_global_ns, self.user_ns)\u001b[0m\n",
      "\u001b[0m  Cell \u001b[1;32mIn[19], line 3\u001b[0m\n    from student_class import Student\u001b[0m\n",
      "\u001b[0;36m  File \u001b[0;32m~/Desktop/Programming/Programming-assignments/student_class.py:2\u001b[0;36m\n\u001b[0;31m    from person_class import Person\u001b[0;36m\n",
      "\u001b[0;36m  File \u001b[0;32m~/Desktop/Programming/Programming-assignments/person_class.py:22\u001b[0;36m\u001b[0m\n\u001b[0;31m    %%writefile student_class.py\u001b[0m\n\u001b[0m    ^\u001b[0m\n\u001b[0;31mSyntaxError\u001b[0m\u001b[0;31m:\u001b[0m invalid syntax\n"
     ]
    }
   ],
   "source": [
    "%autoreload 2\n",
    "# uncomment the line(s) below to debug\n",
    "from student_class import Student\n",
    "\n",
    "s = Student('John Doe', '201414202014', 'TIDSL')\n",
    "print('Student:')\n",
    "s.print()\n",
    "\n",
    "s = Student('John Doe', '201414202014', 'TKDES', 'Gibraltargatan')\n",
    "print('Student:')\n",
    "s.print()\n",
    "print('Execution finished', u'\\u2713')"
   ]
  },
  {
   "cell_type": "code",
   "execution_count": 7,
   "id": "fde46901",
   "metadata": {
    "checksum": "ae7e38e9948139153f14d96695c58334",
    "editable": false,
    "tags": [
     "tests-2",
     "raises-exception",
     "tests"
    ]
   },
   "outputs": [
    {
     "name": "stderr",
     "output_type": "stream",
     "text": [
      "UsageError: Line magic function `%autoreload` not found.\n"
     ]
    }
   ],
   "source": [
    "%autoreload 2\n",
    "# test cell\n",
    "try:\n",
    "    import student_class\n",
    "except:\n",
    "    raise ValueError(\"You did not execute your solution cell!\")\n",
    "try:\n",
    "    from student_class import Student\n",
    "    from person_class import Person\n",
    "except:\n",
    "    raise ValueError(\"Your solution does not contain the right function!\")\n",
    "\n",
    "from unittest.mock import patch\n",
    "\n",
    "assert 'Student' in dir(), 'Class Student does not exist!'\n",
    "assert 'print' in dir(Student), 'Class Student does not have a method `print`.'\n",
    "\n",
    "s = Student('John Doe', '201414202014', 'TIDSL')\n",
    "assert isinstance(s, Person), 'The class Student is not a child class of the class Person'\n",
    "with patch('student_class.print') as mock_print:\n",
    "    s.print()\n",
    "mock_print.assert_called_once_with('John Doe\\tStudent\\t201414202014\\tTIDSL')\n",
    "\n",
    "s = Student('John Doe', '201414202014', 'TKDES', 'Gibraltargatan')\n",
    "with patch('student_class.print') as mock_print:\n",
    "    s.print()\n",
    "mock_print.assert_called_once_with('John Doe\\tStudent\\t201414202014\\tGibraltargatan\\tTKDES')\n",
    "assert hasattr(s, 'program'), 'The object does not seem to have the property `program`'\n",
    "\n",
    "print('tests passed', u'\\u2713')"
   ]
  },
  {
   "cell_type": "code",
   "execution_count": 8,
   "id": "592c1dee",
   "metadata": {
    "checksum": "c2c2a42779ac87fd16ca87e0e36d811c",
    "editable": false,
    "execution": {
     "iopub.execute_input": "2025-02-24T11:33:49.010841Z",
     "iopub.status.busy": "2025-02-24T11:33:49.010755Z",
     "iopub.status.idle": "2025-02-24T11:33:49.186788Z",
     "shell.execute_reply": "2025-02-24T11:33:49.186533Z"
    },
    "tags": [
     "quality-2",
     "raises-exception",
     "quality"
    ]
   },
   "outputs": [
    {
     "ename": "NameError",
     "evalue": "name 'validate_python_code' is not defined",
     "output_type": "error",
     "traceback": [
      "\u001b[0;31m---------------------------------------------------------------------------\u001b[0m",
      "\u001b[0;31mNameError\u001b[0m                                 Traceback (most recent call last)",
      "Cell \u001b[0;32mIn[8], line 1\u001b[0m\n\u001b[0;32m----> 1\u001b[0m \u001b[43mvalidate_python_code\u001b[49m(\u001b[38;5;124m\"\u001b[39m\u001b[38;5;124mstudent_class.py\u001b[39m\u001b[38;5;124m\"\u001b[39m)\n",
      "\u001b[0;31mNameError\u001b[0m: name 'validate_python_code' is not defined"
     ]
    }
   ],
   "source": [
    "validate_python_code(\"student_class.py\")"
   ]
  },
  {
   "cell_type": "markdown",
   "id": "393883d9",
   "metadata": {
    "editable": false
   },
   "source": [
    "### Task 3\n",
    "\n",
    "Create a Python class called `CourseRegister`.\n",
    "In the initialization method, the class should receive the `name` and `code` of the course, and save them as attributes.\n",
    "\n",
    "The class should also have a method called `.register()` that receives an object of the class `Student` and adds it to the list of enrolled students.\n",
    "- This list should be initialized as an empty list in the initialization method, and named `list_registered_students`.\n",
    "- The objects should be added to the list only if they are an object of the `Student` class.\n",
    "- The method should not add the same student object twice in the list.\n",
    "\n",
    "The class should also have a method called `.remove()` that receives an object of the class `Student`, and removes it from the list of enrolled students. The method should check whether the student is present in the list, before trying to remove the student from the list.\n",
    "\n",
    "**Suggestions:**\n",
    "- You should run your solutions to tasks 1 and 2 for the test cell to work properly.\n",
    "- To solve this problem, you need to use the knowledge from Chapters 6, 7, and 8 of the lecture notes."
   ]
  },
  {
   "cell_type": "markdown",
   "id": "f6f2c3f0",
   "metadata": {
    "editable": false
   },
   "source": [
    "```\n",
    "# write here your pseudocode (not graded)\n",
    "\n",
    "# * pseudocode is necessary when asking for help during the lab\n",
    "```"
   ]
  },
  {
   "cell_type": "code",
   "execution_count": 10,
   "id": "02f29591",
   "metadata": {
    "editable": true,
    "execution": {
     "iopub.execute_input": "2025-02-24T11:33:51.516181Z",
     "iopub.status.busy": "2025-02-24T11:33:51.516104Z",
     "iopub.status.idle": "2025-02-24T11:33:51.518298Z",
     "shell.execute_reply": "2025-02-24T11:33:51.518114Z"
    },
    "tags": [
     "solution",
     "solution-3"
    ]
   },
   "outputs": [
    {
     "name": "stdout",
     "output_type": "stream",
     "text": [
      "Overwriting course_register_class.py\n"
     ]
    }
   ],
   "source": [
    "%%writefile course_register_class.py\n",
    "# solution cell\n",
    "from student_class import Student\n",
    "\n",
    "\n",
    "class CourseRegister:\n",
    "    def init(self, name: str, code: str) -> None:\n",
    "        self.name = name\n",
    "        self.code = code\n",
    "        self.list_registered_students: list[Student] = []\n",
    "\n",
    "    def register(self, student: Student) -> None:\n",
    "        if (\n",
    "            isinstance(student, Student)\n",
    "            and student not in self.list_registered_students\n",
    "        ):\n",
    "            self.list_registered_students.append(student)\n",
    "\n",
    "    def remove(self, student: Student) -> None:\n",
    "        if student in self.list_registered_students:\n",
    "            self.list_registered_students.remove(student)"
   ]
  },
  {
   "cell_type": "code",
   "execution_count": 11,
   "id": "7d49b47d",
   "metadata": {
    "editable": true,
    "execution": {
     "iopub.execute_input": "2025-02-24T11:33:50.288640Z",
     "iopub.status.busy": "2025-02-24T11:33:50.288566Z",
     "iopub.status.idle": "2025-02-24T11:33:50.309668Z",
     "shell.execute_reply": "2025-02-24T11:33:50.309477Z"
    },
    "tags": [
     "debug",
     "debug-3"
    ]
   },
   "outputs": [
    {
     "name": "stderr",
     "output_type": "stream",
     "text": [
      "UsageError: Line magic function `%autoreload` not found.\n"
     ]
    }
   ],
   "source": [
    "%autoreload 2\n",
    "# uncomment the line(s) below to debug\n",
    "from student_class import Student\n",
    "from person_class import Person\n",
    "from course_register_class import CourseRegister\n",
    "\n",
    "c1 = CourseRegister('Applied object-oriented programming', 'EEN060')\n",
    "print(\"New course created!\")\n",
    "print(\"List of enrolled students = \", c1.list_registered_students)\n",
    "s1 = Student('John Doe', '201414202014', 'TIEPL')\n",
    "print(\"Adding a student to the course...\")\n",
    "c1.register(s1)\n",
    "print(\"List of enrolled students = \", c1.list_registered_students)\n",
    "p1 = Person('Jack Dane', '201243202019', 'Manager')\n",
    "print(\"Adding a person to the course...\")\n",
    "c1.register(p1)\n",
    "print(\"List of enrolled students = \", c1.list_registered_students)\n",
    "s2 = Student('Jane Doe', '201212202012', 'TIEPL', 'Gibraltargatan')\n",
    "print(\"Adding a student to the course...\")\n",
    "c1.register(s2)\n",
    "print(\"List of enrolled students = \", c1.list_registered_students)\n",
    "print(\"Removing a student to the course...\")\n",
    "c1.remove(s1)\n",
    "print(\"List of enrolled students = \", c1.list_registered_students)\n",
    "print('Execution finished', u'\\u2713')"
   ]
  },
  {
   "cell_type": "code",
   "execution_count": 12,
   "id": "c62a2bf6",
   "metadata": {
    "checksum": "452c3c0996101e1e5f83bf0ddf1240d3",
    "editable": false,
    "tags": [
     "raises-exception",
     "tests-3",
     "tests"
    ]
   },
   "outputs": [
    {
     "name": "stderr",
     "output_type": "stream",
     "text": [
      "UsageError: Line magic function `%autoreload` not found.\n"
     ]
    }
   ],
   "source": [
    "%autoreload 2\n",
    "# test cell\n",
    "try:\n",
    "    import course_register_class\n",
    "except:\n",
    "    raise ValueError(\"You did not execute your solution cell!\")\n",
    "try:\n",
    "    from course_register_class import CourseRegister\n",
    "    from student_class import Student\n",
    "    from person_class import Person\n",
    "except:\n",
    "    raise ValueError(\"Your solution does not contain the right function!\")\n",
    "    \n",
    "assert 'CourseRegister' in dir(), 'Class CourseRegister does not exist!'\n",
    "assert 'register' in dir(CourseRegister), \\\n",
    "    'Class CourseRegister does not have method `register`'\n",
    "assert 'remove' in dir(CourseRegister), \\\n",
    "    'Class CourseRegister does not have method `remove`'\n",
    "\n",
    "c = CourseRegister('Applied object-oriented programming', 'EEN060')\n",
    "assert hasattr(c, 'name'), 'Class CourseRegister does not have property `name`.'\n",
    "assert hasattr(c, 'code'), 'Class CourseRegister does not have property `code`.'\n",
    "assert hasattr(c, 'list_registered_students'), \\\n",
    "    'Class CourseRegister does not have property `list_registered_students`.'\n",
    "assert isinstance(c.list_registered_students, list), \\\n",
    "    'The attribute list_enrolled_students is not a list'\n",
    "\n",
    "s1 = Student('John Doe', '201414202014', 'TIDSL')\n",
    "c.register(s1)\n",
    "assert len(c.list_registered_students) == 1\n",
    "\n",
    "p1 = Person('John Doe', '201414202014', 'Manager')\n",
    "c.register(p1)\n",
    "assert len(c.list_registered_students) == 1\n",
    "\n",
    "s2 = Student('Jane Doe', '201212202012', 'TKDES', 'Gibraltargatan')\n",
    "c.register(s2)\n",
    "assert len(c.list_registered_students) == 2\n",
    "\n",
    "c.remove(s1)\n",
    "assert len(c.list_registered_students) == 1\n",
    "\n",
    "c.remove(s1)\n",
    "assert len(c.list_registered_students) == 1\n",
    "\n",
    "c.remove(p1)\n",
    "assert len(c.list_registered_students) == 1\n",
    "\n",
    "c.register(s2)\n",
    "assert len(c.list_registered_students) == 1\n",
    "\n",
    "c = CourseRegister('Applied object-oriented programming', 'EEN060')\n",
    "assert isinstance(c.list_registered_students, list), \\\n",
    "    'The attribute list_enrolled_students is not a list'\n",
    "\n",
    "s1 = Student('John Doe', '201414202014_d', 'TIDSL')\n",
    "c.register(s1)\n",
    "assert len(c.list_registered_students) == 1\n",
    "\n",
    "p1 = Person('John Doe', '201414202014_d', 'Manager')\n",
    "c.register(p1)\n",
    "assert len(c.list_registered_students) == 1\n",
    "\n",
    "s2 = Student('Jane Doe', '201212202012_d', 'TKDES', 'Gibraltargatan')\n",
    "c.register(s2)\n",
    "assert len(c.list_registered_students) == 2\n",
    "\n",
    "c.remove(s1)\n",
    "assert len(c.list_registered_students) == 1\n",
    "\n",
    "c.remove(s1)\n",
    "assert len(c.list_registered_students) == 1\n",
    "\n",
    "c.remove(p1)\n",
    "assert len(c.list_registered_students) == 1\n",
    "\n",
    "print('tests passed', u'\\u2713')"
   ]
  },
  {
   "cell_type": "code",
   "execution_count": null,
   "id": "593b3205",
   "metadata": {
    "checksum": "169ad53f173769e81870c5e32f51e371",
    "editable": false,
    "execution": {
     "iopub.execute_input": "2025-02-24T11:33:50.321115Z",
     "iopub.status.busy": "2025-02-24T11:33:50.321033Z",
     "iopub.status.idle": "2025-02-24T11:33:50.498743Z",
     "shell.execute_reply": "2025-02-24T11:33:50.498491Z"
    },
    "tags": [
     "quality-3",
     "raises-exception",
     "quality"
    ]
   },
   "outputs": [],
   "source": [
    "validate_python_code(\"course_register_class.py\")"
   ]
  },
  {
   "cell_type": "markdown",
   "id": "ac31b7c8",
   "metadata": {
    "editable": false
   },
   "source": [
    "### Task 4\n",
    "\n",
    "Create a Python function called `insert_student` that receives the following parameters:\n",
    "\n",
    "- name, string\n",
    "- person_number, string\n",
    "- program, string\n",
    "- phone_number, string (optional, default `None`)\n",
    "- address, string (optional, default `None`)\n",
    "\n",
    "Then, the function creates an object of the class `Student` and persists it to the database, returning how many objects of the class `Student` exist in the database.\n",
    "The function should use the *key* `dataset` to retrieve and store the list of `Student` objects in the database.\n",
    "\n",
    "If a `Student` object with the same person_number already exists, the function should not insert the new `Student` object."
   ]
  },
  {
   "cell_type": "markdown",
   "id": "fae73842",
   "metadata": {
    "editable": false
   },
   "source": [
    "```\n",
    "# write here your pseudocode (not graded)\n",
    "\n",
    "# * pseudocode is necessary when asking for help during the lab\n",
    "```"
   ]
  },
  {
   "cell_type": "code",
   "execution_count": null,
   "id": "086f6116",
   "metadata": {
    "editable": true,
    "execution": {
     "iopub.execute_input": "2025-02-24T11:33:51.519268Z",
     "iopub.status.busy": "2025-02-24T11:33:51.519187Z",
     "iopub.status.idle": "2025-02-24T11:33:51.521554Z",
     "shell.execute_reply": "2025-02-24T11:33:51.521380Z"
    },
    "tags": [
     "debug",
     "debug-4"
    ]
   },
   "outputs": [],
   "source": [
    "%%writefile database_setup.py\n",
    "# EXECUTE TO CREATE THE NECESSARY FILE\n",
    "from redis import Redis\n",
    "\n",
    "DATABASE_HOST=\"onu1.s2.chalmers.se\"\n",
    "DATABASE_PORT=6380\n",
    "DATABASE_DB: int = 90  # Change the database index here\n",
    "DATABASE_PASSWORD: str = \"a62b9a30-24a4-4153-a2a1-42d577161676\" # Check the password in canvas\n",
    "\n",
    "db: Redis = Redis(\n",
    "    host=DATABASE_HOST,\n",
    "    port=DATABASE_PORT,\n",
    "    db=DATABASE_DB,\n",
    "    password=DATABASE_PASSWORD\n",
    ")\n",
    "db.ping()\n",
    "db.delete(\"dataset\")"
   ]
  },
  {
   "cell_type": "code",
   "execution_count": null,
   "id": "a9b3af8a",
   "metadata": {
    "editable": true,
    "execution": {
     "iopub.execute_input": "2025-02-24T11:33:51.525495Z",
     "iopub.status.busy": "2025-02-24T11:33:51.525420Z",
     "iopub.status.idle": "2025-02-24T11:33:51.966141Z",
     "shell.execute_reply": "2025-02-24T11:33:51.965532Z"
    },
    "tags": [
     "solution",
     "solution-4"
    ]
   },
   "outputs": [],
   "source": [
    "%%writefile insert_student_solution.py\n",
    "import pickle\n",
    "from typing import Optional\n",
    "\n",
    "from database_setup import db\n",
    "from student_class import Student\n",
    "\n",
    "\n",
    "def insert_student(\n",
    "    name: str,\n",
    "    person_number: str,\n",
    "    program: str,\n",
    "    phone_number: Optional[str] = None,\n",
    "    address: Optional[str] = None,\n",
    ") -> int:\n",
    "    data = db.get(\"dataset\")\n",
    "    students = pickle.loads(data) if data else []\n",
    "\n",
    "    if any(student.person_number == person_number for student in students):\n",
    "        return len(students)\n",
    "\n",
    "    new_student = Student(name, person_number, program, phone_number, address)\n",
    "    students.append(new_student)\n",
    "\n",
    "    db.set(\"dataset\", pickle.dumps(students))\n",
    "\n",
    "    return len(students)\n"
   ]
  },
  {
   "cell_type": "code",
   "execution_count": null,
   "id": "5b4715b1",
   "metadata": {
    "checksum": "3eebce3da87942203708a7fa33bcaa39",
    "editable": false,
    "tags": [
     "check",
     "check-4"
    ]
   },
   "outputs": [],
   "source": [
    "%autoreload 2\n",
    "# uncomment the line(s) below to debug\n",
    "from database_setup import db\n",
    "from insert_student_solution import insert_student\n",
    "from student_class import Student\n",
    "\n",
    "db.delete(\"dataset\")\n",
    "\n",
    "cid = insert_student('Jane Doe', '9803041234', 'TIEPL' '781452123', 'ABC')\n",
    "print(f'We currently have {cid} `Student` objects in the database!', u'\\u2713')\n",
    "\n",
    "cid = insert_student('Jane Doe', '9803041234', 'TIEPL' '781452123', 'ABC')\n",
    "print(f'We currently have {cid} `Student` objects in the database!', u'\\u2713')\n",
    "\n",
    "cid = insert_student('Jack K', '9301072345', 'TIEPL' '72345134', 'XYZ')\n",
    "print(f'We currently have {cid} `Student` objects in the database!', u'\\u2713')"
   ]
  },
  {
   "cell_type": "code",
   "execution_count": null,
   "id": "d3abf224",
   "metadata": {
    "checksum": "c17c85f3891d4dad609af4b27f6ccb75",
    "editable": false,
    "tags": [
     "raises-exception",
     "tests-4",
     "tests"
    ]
   },
   "outputs": [],
   "source": [
    "%autoreload 2\n",
    "# test cell\n",
    "try:\n",
    "    import insert_student_solution\n",
    "except:\n",
    "    raise ValueError(\"You did not execute your solution cell!\")\n",
    "try:\n",
    "    from insert_student_solution import insert_student\n",
    "except:\n",
    "    raise ValueError(\"Your solution does not contain the right function!\") \n",
    "\n",
    "from database_setup import db\n",
    "\n",
    "db.delete(\"dataset\")\n",
    "assert insert_student('Jane Doe', '9803041234', 'TIEPL' '781452123', 'ABC') \\\n",
    "    == 1, 'Student object was not persisted successfully!'\n",
    "assert insert_student('Jane Doe', '9803041234', 'TIEPL' '781452123', 'ABC') \\\n",
    "    == 1, 'Expecting one object, but got a different number!'\n",
    "assert insert_student('Jack K', '9301072345', 'TIEPL' '72345134', 'XYZ') \\\n",
    "    == 2, 'Student object was not persisted successfully!'\n",
    "\n",
    "print('tests passed', u'\\u2713')"
   ]
  },
  {
   "cell_type": "code",
   "execution_count": null,
   "id": "c61f5db4",
   "metadata": {
    "checksum": "81371b27ad9b30d4f1be65b7a432d4aa",
    "editable": false,
    "execution": {
     "iopub.execute_input": "2025-02-24T11:33:51.968807Z",
     "iopub.status.busy": "2025-02-24T11:33:51.968628Z",
     "iopub.status.idle": "2025-02-24T11:33:52.176377Z",
     "shell.execute_reply": "2025-02-24T11:33:52.176096Z"
    },
    "tags": [
     "raises-exception",
     "quality-4",
     "quality"
    ]
   },
   "outputs": [],
   "source": [
    "validate_python_code(\"insert_student_solution.py\")"
   ]
  }
 ],
 "metadata": {
  "assignment_list": [
   "1",
   "2",
   "3",
   "4"
  ],
  "compilation_date": "2025-02-24 12:33:52.392480",
  "kernelspec": {
   "display_name": "venv",
   "language": "python",
   "name": "python3"
  },
  "language_info": {
   "codemirror_mode": {
    "name": "ipython",
    "version": 3
   },
   "file_extension": ".py",
   "mimetype": "text/x-python",
   "name": "python",
   "nbconvert_exporter": "python",
   "pygments_lexer": "ipython3",
   "version": "3.10.9"
  }
 },
 "nbformat": 4,
 "nbformat_minor": 5
}
