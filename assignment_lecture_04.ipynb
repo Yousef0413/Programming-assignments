{
 "cells": [
  {
   "cell_type": "markdown",
   "id": "abc0568a",
   "metadata": {
    "editable": false,
    "tags": []
   },
   "source": [
    "# EEN060 - Applied object-oriented programming\n",
    "\n",
    "\n",
    "Teacher: [Carlos Natalino](https://www.chalmers.se/en/persons/carda/) / Examiner: [Paolo Monti](https://www.chalmers.se/en/persons/mpaolo/)\n",
    "\n",
    "[Canvas course page](https://chalmers.instructure.com/courses/33383)\n",
    "\n",
    "[Course channel on Chalmers Play](https://play.chalmers.se/channel/EEN060_EEN065_Applied_object-oriented_programming/300149)\n",
    "\n",
    "Before you turn this assignment list in, make sure everything runs as expected.\n",
    "First, **restart the kernel** and then **run all cells**.\n",
    "Then, check if all the tests run correctly.\n",
    "Note that if one of the problems present an error, the following ones **will not** be tested.\n",
    "\n",
    "In case of discrepancies between the problem command and the tests, you should solve it having in mind the tests.\n",
    "\n",
    "There are two types of cell:\n",
    "1. *solution cells:* These are the cells where you write your answer, or modify the existing code to solve the problem.\n",
    "2. *test cells:* These cells are used to test whether your solution is correct or not. If the tests run correctly, you should see a message `tests passed`. Otherwise, you should see an error message.\n",
    "3. *code quality tests:* These cells tests whether your solution adheres to the code quality rules of the course.\n",
    "\n",
    "The code quality tests require you to be connected to the Chalmers network, either through Eduroam or through the VPN.\n",
    "You can find more information [here](https://chalmers.topdesk.net/tas/public/ssp/content/search?q=KB+1678).\n",
    "\n",
    "**Delete** the line `raise NotImplementedError()` from the problems that you solve.\n",
    "\n",
    "**Do not delete or add any cell in this file.** All cells that you need are already in place.\n",
    "\n",
    "If you want to execute a cell, select the cell and press **CTRL+Enter** (in Windows) or **CMD+Enter** (in macOS) or click on the **Run cell** button.\n"
   ]
  },
  {
   "cell_type": "markdown",
   "id": "d9d70208",
   "metadata": {
    "editable": false,
    "tags": []
   },
   "source": [
    "## Assignment Lecture 4\n",
    "\n",
    "**You must update your `utils.py` file.**"
   ]
  },
  {
   "cell_type": "code",
   "execution_count": null,
   "id": "e3f698a1",
   "metadata": {
    "checksum": "d83dfe4e50778e632459696efd6aea47",
    "editable": false,
    "execution": {
     "iopub.execute_input": "2025-02-11T11:17:46.422838Z",
     "iopub.status.busy": "2025-02-11T11:17:46.422574Z",
     "iopub.status.idle": "2025-02-11T11:17:46.597316Z",
     "shell.execute_reply": "2025-02-11T11:17:46.597056Z"
    },
    "tags": [
     "load",
     "raises-exception"
    ]
   },
   "outputs": [],
   "source": [
    "# check if this file is within the same folder as the `utils.py` file.\n",
    "import os\n",
    "import sys\n",
    "\n",
    "if not os.path.exists(\"utils.py\"):\n",
    "    print(\"It seems this file is in the wrong folder. \"\n",
    "          \"Make sure to place it in the `programming-assignments` folder/project.\",\n",
    "          file=sys.stderr)\n",
    "\n",
    "try:\n",
    "    from utils import validate_python_cell\n",
    "except ImportError:\n",
    "    print(\n",
    "        \"It seems that you have not updated the `utils.py` file. Please do so.\",\n",
    "        file=sys.stderr\n",
    "    )\n",
    "\n",
    "from utils import validate_python_cell\n",
    "\n",
    "filename = None\n",
    "assert filename != None, \"The file name must be set.\"\n",
    "if not os.path.exists(filename):\n",
    "    raise ValueError(f\"The value of the `filename` variable is wrong. \\\n",
    "The file `{filename}` does not exist. Write the correct name of this file!\")\n",
    "\n",
    "os.environ[\"NOTEBOOK_NAME\"] = os.path.join(os.getcwd(), filename)"
   ]
  },
  {
   "cell_type": "code",
   "execution_count": null,
   "id": "5d85bbd3",
   "metadata": {
    "checksum": "fc7a51db8bd56c25ca0326e9ad373631",
    "editable": false,
    "tags": [
     "check-venv",
     "raises-exception"
    ]
   },
   "outputs": [],
   "source": [
    "import datetime\n",
    "import getpass\n",
    "import os\n",
    "import sys\n",
    "\n",
    "# check if the virtual env is correct\n",
    "venv_path = os.path.abspath(sys.executable)\n",
    "cur_path = os.path.abspath(os.getcwd())\n",
    "\n",
    "print(\"Version:\", sys.version)\n",
    "print(\"Executable (virtual env):\", sys.executable)\n",
    "print(\"Current folder:\", os.getcwd())\n",
    "print(\"Datetime:\", datetime.datetime.now())\n",
    "print(\"User:\", getpass.getuser())\n",
    "\n",
    "assert getpass.getuser() == \"runner\" or \\\n",
    "    os.path.commonpath([venv_path, cur_path]) == cur_path, \\\n",
    "    \"It seems like this file is being executed with the wrong virtual environment.\"\n",
    "\n",
    "del datetime, getpass"
   ]
  },
  {
   "cell_type": "markdown",
   "id": "acef9d1d",
   "metadata": {
    "editable": false
   },
   "source": [
    "### Task 1\n",
    "\n",
    "Write a function called `is_prime()` that receives an integer as parameter and returns a Boolean that is true if the number is prime, false otherwise."
   ]
  },
  {
   "cell_type": "markdown",
   "id": "555a674b",
   "metadata": {
    "editable": false
   },
   "source": [
    "```\n",
    "# write here your pseudocode (not graded)\n",
    "\n",
    "# * pseudocode is necessary when asking for help during the lab\n",
    "```"
   ]
  },
  {
   "cell_type": "code",
   "execution_count": null,
   "id": "2e8a57ee",
   "metadata": {
    "editable": true,
    "execution": {
     "iopub.execute_input": "2025-02-11T11:17:46.598779Z",
     "iopub.status.busy": "2025-02-11T11:17:46.598676Z",
     "iopub.status.idle": "2025-02-11T11:17:46.600793Z",
     "shell.execute_reply": "2025-02-11T11:17:46.600561Z"
    },
    "tags": [
     "solution",
     "solution-1"
    ]
   },
   "outputs": [],
   "source": [
    "# solution cell\n",
    "if \"validate_python_cell\" not in globals():\n",
    "    import sys\n",
    "\n",
    "    print(\"Please run the first cell to load the necessary libraries!\", file=sys.stderr)\n",
    "\n",
    "\n",
    "### BEGIN SOLUTION\n",
    "raise ValueError(\"Delete this line and write your solution here!\")\n",
    "### END SOLUTION\n"
   ]
  },
  {
   "cell_type": "code",
   "execution_count": null,
   "id": "3f4e9649",
   "metadata": {
    "editable": true,
    "execution": {
     "iopub.execute_input": "2025-02-11T11:17:39.925776Z",
     "iopub.status.busy": "2025-02-11T11:17:39.925711Z",
     "iopub.status.idle": "2025-02-11T11:17:39.927627Z",
     "shell.execute_reply": "2025-02-11T11:17:39.927424Z"
    },
    "tags": [
     "debug",
     "debug-1"
    ]
   },
   "outputs": [],
   "source": [
    "# uncomment the line(s) below to debug\n",
    "test_cases = (1, 2, 3, 4, 5, 6, 7)\n",
    "\n",
    "for number in test_cases:\n",
    "    if is_prime(number):\n",
    "        print(f\"The number {number} is prime!\")\n",
    "    else:\n",
    "        print(f\"The number {number} is not prime!\")\n",
    "\n",
    "print(\"Execution finished\", \"\\u2713\")"
   ]
  },
  {
   "cell_type": "code",
   "execution_count": null,
   "id": "38ec3422",
   "metadata": {
    "checksum": "43ed0bf9bc7557f941430c14c9d0ae58",
    "editable": false,
    "tags": [
     "raises-exception",
     "tests-1"
    ]
   },
   "outputs": [],
   "source": [
    "# test cell\n",
    "test_cases = (\n",
    "    (1, True),\n",
    "    (2, True),\n",
    "    (3, True),\n",
    "    (4, False),\n",
    "    (5, True),\n",
    "    (6, False),\n",
    "    (7, True),\n",
    ")\n",
    "\n",
    "for _in, _out in test_cases:\n",
    "    _res = is_prime(_in)\n",
    "    assert _res == _out, f\"The function with input \\n`{_in}` ({len(_in)} items)\\nshould return the value \\\n",
    "`{_out}` of type `{type(_out)}`\\nbut returned the value `{_res}` of type `{type(_res)}`.\"\n",
    "\n",
    "print(\"tests passed\", \"\\u2713\")"
   ]
  },
  {
   "cell_type": "code",
   "execution_count": null,
   "id": "ed4f8a3b",
   "metadata": {
    "checksum": "2b80d02cdcde289e31cdfec2de9e9483",
    "editable": false,
    "execution": {
     "iopub.execute_input": "2025-02-11T11:17:39.931481Z",
     "iopub.status.busy": "2025-02-11T11:17:39.931415Z",
     "iopub.status.idle": "2025-02-11T11:17:45.409661Z",
     "shell.execute_reply": "2025-02-11T11:17:45.409302Z"
    },
    "tags": [
     "quality-1",
     "raises-exception"
    ]
   },
   "outputs": [],
   "source": [
    "validate_python_cell(\"solution-1\")"
   ]
  },
  {
   "cell_type": "markdown",
   "id": "7728b501",
   "metadata": {
    "editable": false
   },
   "source": [
    "### Task 2\n",
    "\n",
    "Create a Python function named `get_first_primes()` that receives an integer number and returns a list of integers.\n",
    "The parameter represents how many prime numbers the function needs to find, starting from the number 1.\n",
    "For instance, if the parameter recieved has value 10, the function must return a list with the 10 first prime numbers, starting from one.\n",
    "The function must use the `is_prime()` function from task 1 to check if a number is prime or not."
   ]
  },
  {
   "cell_type": "markdown",
   "id": "3d5dea9c",
   "metadata": {
    "editable": false
   },
   "source": [
    "```\n",
    "# write here your pseudocode (not graded)\n",
    "\n",
    "# * pseudocode is necessary when asking for help during the lab\n",
    "```"
   ]
  },
  {
   "cell_type": "code",
   "execution_count": null,
   "id": "0dc479b9",
   "metadata": {
    "editable": true,
    "execution": {
     "iopub.execute_input": "2025-02-11T11:17:46.607265Z",
     "iopub.status.busy": "2025-02-11T11:17:46.607202Z",
     "iopub.status.idle": "2025-02-11T11:17:46.608979Z",
     "shell.execute_reply": "2025-02-11T11:17:46.608726Z"
    },
    "tags": [
     "solution",
     "solution-2"
    ]
   },
   "outputs": [],
   "source": [
    "# solution cell\n",
    "if \"validate_python_cell\" not in globals():\n",
    "    import sys\n",
    "\n",
    "    print(\"Please run the first cell to load the necessary libraries!\", file=sys.stderr)\n",
    "\n",
    "\n",
    "### BEGIN SOLUTION\n",
    "raise ValueError(\"Delete this line and write your solution here!\")\n",
    "### END SOLUTION\n"
   ]
  },
  {
   "cell_type": "code",
   "execution_count": null,
   "id": "19218f82",
   "metadata": {
    "editable": true,
    "execution": {
     "iopub.execute_input": "2025-02-11T11:17:46.604742Z",
     "iopub.status.busy": "2025-02-11T11:17:46.604681Z",
     "iopub.status.idle": "2025-02-11T11:17:46.606322Z",
     "shell.execute_reply": "2025-02-11T11:17:46.606114Z"
    },
    "tags": [
     "debug",
     "debug-2"
    ]
   },
   "outputs": [],
   "source": [
    "# uncomment the line(s) below to debug\n",
    "list_primes = get_first_primes(10)\n",
    "print(\"The first 10 prime numbers are:\", list_primes)\n",
    "print(\"Execution finished\", \"\\u2713\")"
   ]
  },
  {
   "cell_type": "code",
   "execution_count": null,
   "id": "8699b71d",
   "metadata": {
    "checksum": "a498032d883a5ded78d2dea869f7d57c",
    "editable": false,
    "tags": [
     "tests-2",
     "raises-exception"
    ]
   },
   "outputs": [],
   "source": [
    "# test cell\n",
    "\n",
    "for i in range(10):\n",
    "    _out = get_first_primes(i)\n",
    "    assert i == len(_out), f\"The function received value\\n`{_in}`\\nand should return \\\n",
    "        `{_in}` elements \\n but returned `{len(_out)}` elements.\"\n",
    "print(\"tests passed\", \"\\u2713\")"
   ]
  },
  {
   "cell_type": "code",
   "execution_count": null,
   "id": "25654e84",
   "metadata": {
    "checksum": "ab112426671877e42ec03f64ebea4333",
    "editable": false,
    "execution": {
     "iopub.execute_input": "2025-02-11T11:17:46.609910Z",
     "iopub.status.busy": "2025-02-11T11:17:46.609829Z",
     "iopub.status.idle": "2025-02-11T11:17:47.405665Z",
     "shell.execute_reply": "2025-02-11T11:17:47.405395Z"
    },
    "tags": [
     "quality-2",
     "raises-exception"
    ]
   },
   "outputs": [],
   "source": [
    "validate_python_cell(\"solution-2\", includes=(\"solution-1\",))"
   ]
  },
  {
   "cell_type": "markdown",
   "id": "8d2936b3",
   "metadata": {
    "editable": false
   },
   "source": [
    "# Done! Good job!"
   ]
  }
 ],
 "metadata": {
  "assignment_list": [
   "1",
   "2",
   "3",
   "4",
   "5",
   "6",
   "7"
  ],
  "compilation_date": "2025-02-11 12:17:47.520711",
  "language_info": {
   "file_extension": ".py",
   "mimetype": "text/x-python",
   "name": "python",
   "version": "3.13.1"
  }
 },
 "nbformat": 4,
 "nbformat_minor": 5
}
