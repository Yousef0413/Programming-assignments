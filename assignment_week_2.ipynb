{
 "cells": [
  {
   "cell_type": "markdown",
   "id": "20131e28",
   "metadata": {
    "editable": false,
    "slideshow": {
     "slide_type": ""
    },
    "tags": []
   },
   "source": [
    "# EEN060 - Applied object-oriented programming\n",
    "\n",
    "Teacher: [Carlos Natalino](https://www.chalmers.se/en/persons/carda/) / Examiner: [Paolo Monti](https://www.chalmers.se/en/persons/mpaolo/)\n",
    "\n",
    "[Canvas course page](https://chalmers.instructure.com/courses/33383)\n",
    "\n",
    "[Course channel on Chalmers Play](https://play.chalmers.se/channel/EEN060_EEN065_Applied_object-oriented_programming/300149)\n",
    "\n",
    "Before you turn this assignment list in, make sure everything runs as expected.\n",
    "First, **restart the kernel** and then **run all cells**.\n",
    "Then, check if all the tests run correctly.\n",
    "Note that if one of the problems present an error, the following ones **will not** be tested.\n",
    "\n",
    "In case of discrepancies between the problem command and the tests, you should solve it having in mind the tests.\n",
    "\n",
    "There are two types of cell:\n",
    "1. *solution cells:* These are the cells where you write your answer, or modify the existing code to solve the problem.\n",
    "2. *test cells:* These cells are used to test whether your solution is correct or not. If the tests run correctly, you should see a message `tests passed`. Otherwise, you should see an error message.\n",
    "3. *code quality tests:* These cells tests whether your solution adheres to the code quality rules of the course.\n",
    "\n",
    "**Delete** the line `raise NotImplementedError()` from the problems that you solve.\n",
    "\n",
    "**Do not delete or add any cell in this file.** All cells that you need are already in place.\n",
    "\n",
    "If you want to execute a cell, select the cell and press **CTRL+Enter** (in Windows) or **CMD+Enter** (in macOS) or click on the **Run cell** button.\n"
   ]
  },
  {
   "cell_type": "markdown",
   "id": "9a83e8c5",
   "metadata": {
    "editable": false,
    "slideshow": {
     "slide_type": ""
    },
    "tags": []
   },
   "source": [
    "# Assignment Week 2\n",
    "\n",
    "In this assignment, students should practice:\n",
    "- how to use Visual Studio Code\n",
    "- how to download, solve and submit programming assignments\n",
    "- how to create functions\n",
    "- start getting familiar with Python\n",
    "- how to manipulate variables\n",
    "- how to use math operations\n",
    "- how to output the results\n",
    "- understand different types of variables\n",
    "- understand the code quality validation\n",
    "\n",
    "**Observations:**\n",
    "For the problems in this assignment, you should:\n",
    "- use only the math operations studied in the lecture notes (i.e., no advanced functions allowed).\n",
    "- not use external modules, i.e., `import` command is not allowed in your solutions (with exception of the module `typing`).\n",
    "- make sure that your `utils.py` file has the following line (i.e., replace `onu2` by `onu1` if needed):\n",
    "\n",
    "**You should need only Chapters 1-3 of the lecture notes to solve all the problems in this list.**\n",
    "\n",
    "**Preparation:** Run the cell below every time you start working on this file, and every time you restart the kernel."
   ]
  },
  {
   "cell_type": "code",
   "execution_count": null,
   "id": "a205f95a",
   "metadata": {
    "checksum": "ea97c666c03a0b15deae9d045ed46580",
    "editable": false,
    "execution": {
     "iopub.execute_input": "2025-01-26T17:37:11.758905Z",
     "iopub.status.busy": "2025-01-26T17:37:11.758597Z",
     "iopub.status.idle": "2025-01-26T17:37:11.839558Z",
     "shell.execute_reply": "2025-01-26T17:37:11.839241Z"
    },
    "slideshow": {
     "slide_type": ""
    },
    "tags": [
     "load"
    ]
   },
   "outputs": [],
   "source": [
    "%load_ext autoreload\n",
    "# check if this file is within the same folder as the `utils.py` file.\n",
    "try:\n",
    "    from utils import validate_python_code\n",
    "except:\n",
    "    import sys\n",
    "    print(\"It seems this file is in the wrong folder. \"\n",
    "          \"Make sure to place it in the `programming-assignments` folder/project.\",\n",
    "          file=sys.stderr)"
   ]
  },
  {
   "cell_type": "code",
   "execution_count": null,
   "id": "8bbfdf88",
   "metadata": {
    "checksum": "34504d8eff7cbfec9fea1e0b8ba9368d",
    "editable": false,
    "slideshow": {
     "slide_type": ""
    },
    "tags": [
     "check-venv"
    ]
   },
   "outputs": [],
   "source": [
    "import datetime\n",
    "import getpass\n",
    "import os\n",
    "import sys\n",
    "\n",
    "# check if the virtual env is correct\n",
    "venv_path = os.path.abspath(sys.executable)\n",
    "cur_path = os.path.abspath(os.getcwd())\n",
    "assert os.path.commonpath([venv_path, cur_path]) == cur_path, \\\n",
    "    \"It seems like this file is being executed with the wrong virtual environment.\"\n",
    "\n",
    "print(\"Version:\", sys.version)\n",
    "print(\"Executable (virtual env):\", sys.executable)\n",
    "print(\"Current folder:\", os.getcwd())\n",
    "print(\"Datetime:\", datetime.datetime.now())\n",
    "print(\"User:\", getpass.getuser())\n",
    "del datetime, getpass, os, sys"
   ]
  },
  {
   "cell_type": "markdown",
   "id": "df7339aa",
   "metadata": {
    "editable": false,
    "slideshow": {
     "slide_type": ""
    },
    "tags": []
   },
   "source": [
    "### Problem 1\n",
    "\n",
    "Create a Python function called `compute_expression` that receives a two positive integers $a$ and $b$ and returns the following expression:\n",
    "\n",
    "\\begin{equation*}\n",
    "a + \\left\\{ \\dfrac{b}{a+ \\left \\{ \\dfrac{b}{a+b} \\right \\} } \\right\\}. \n",
    "\\end{equation*}\n"
   ]
  },
  {
   "cell_type": "markdown",
   "id": "ae22810a",
   "metadata": {
    "editable": true,
    "slideshow": {
     "slide_type": ""
    },
    "tags": [
     "pseudocode"
    ]
   },
   "source": [
    "```\n",
    "# write here your pseudocode (not graded)\n",
    "\n",
    "# * pseudocode is necessary when asking for help during the lab\n",
    "```"
   ]
  },
  {
   "cell_type": "code",
   "execution_count": null,
   "id": "99658bfe",
   "metadata": {
    "editable": true,
    "execution": {
     "iopub.execute_input": "2025-01-26T17:37:05.694366Z",
     "iopub.status.busy": "2025-01-26T17:37:05.694295Z",
     "iopub.status.idle": "2025-01-26T17:37:05.700796Z",
     "shell.execute_reply": "2025-01-26T17:37:05.700590Z"
    },
    "slideshow": {
     "slide_type": ""
    },
    "tags": [
     "solution",
     "solution-1"
    ]
   },
   "outputs": [],
   "source": [
    "%%writefile compute_expression_solution.py\n",
    "# solution cell\n",
    "### BEGIN SOLUTION\n",
    "raise ValueError(\"Delete this line and write your solution here!\")\n",
    "### END SOLUTION\n"
   ]
  },
  {
   "cell_type": "code",
   "execution_count": null,
   "id": "01ae9f76",
   "metadata": {
    "editable": true,
    "execution": {
     "iopub.execute_input": "2025-01-26T17:37:05.689911Z",
     "iopub.status.busy": "2025-01-26T17:37:05.689818Z",
     "iopub.status.idle": "2025-01-26T17:37:05.693336Z",
     "shell.execute_reply": "2025-01-26T17:37:05.693129Z"
    },
    "slideshow": {
     "slide_type": ""
    },
    "tags": [
     "debug",
     "debug-1"
    ]
   },
   "outputs": [],
   "source": [
    "%autoreload 2\n",
    "# uncomment the line(s) below to debug\n",
    "# from compute_expression_solution import compute_expression\n",
    "\n",
    "\n",
    "# a = 7\n",
    "# b = 2\n",
    "# c = compute_expression(a, b)\n",
    "# print(f\"The value of the expression given a = {a} and b = {b} is {c}\")\n",
    "# print(\"Execution finished\", \"\\u2713\")\n"
   ]
  },
  {
   "cell_type": "code",
   "execution_count": null,
   "id": "be20be78",
   "metadata": {
    "checksum": "5c23fcdfdc9a7b5149f9c7117e78e836",
    "editable": false,
    "slideshow": {
     "slide_type": ""
    },
    "tags": [
     "tests",
     "tests-1",
     "raises-exception"
    ]
   },
   "outputs": [],
   "source": [
    "%autoreload 2\n",
    "# test cell\n",
    "try:\n",
    "    import compute_expression_solution\n",
    "except:\n",
    "    raise ValueError(\"You did not execute your solution cell!\")\n",
    "try:\n",
    "    from compute_expression_solution import compute_expression\n",
    "except:\n",
    "    raise ValueError(\"The module does not have the necessary function!\")\n",
    "\n",
    "test_cases = [((2, 4), 3.5), ((3,9), 5.4), ((7, 2), 7.276923076923077)]\n",
    "\n",
    "for _in, _out in test_cases:\n",
    "    _res = compute_expression(*_in)\n",
    "    assert _res == _out, f\"The function with input `{_in}` should return the value \\\n",
    "`{_out}` of type `{type(_out)}`\\n but returned the value `{_res}` of type `{type(_res)}`.\"\n",
    "\n",
    "print(\"tests passed\", \"\\u2713\")"
   ]
  },
  {
   "cell_type": "code",
   "execution_count": null,
   "id": "d57d8b73",
   "metadata": {
    "checksum": "bc47a5837d7feca8be7e90508dd82a4e",
    "editable": false,
    "execution": {
     "iopub.execute_input": "2025-01-26T17:37:05.701731Z",
     "iopub.status.busy": "2025-01-26T17:37:05.701653Z",
     "iopub.status.idle": "2025-01-26T17:37:05.864754Z",
     "shell.execute_reply": "2025-01-26T17:37:05.864495Z"
    },
    "slideshow": {
     "slide_type": ""
    },
    "tags": [
     "quality",
     "quality-1",
     "raises-exception"
    ]
   },
   "outputs": [],
   "source": [
    "validate_python_code(\"compute_expression_solution.py\")\n",
    "print(\"code quality passed\", \"\\u2713\")"
   ]
  },
  {
   "cell_type": "markdown",
   "id": "d83bdbf3",
   "metadata": {
    "editable": false,
    "slideshow": {
     "slide_type": ""
    },
    "tags": []
   },
   "source": [
    "### Problem 2\n",
    "\n",
    "Create a Python function called `print_computed_expression` that receives a two positive integers $a$ and $b$ and prints a $\\underline{\\textbf{string}}$ representing the expression:\n",
    "\n",
    "\\begin{equation*}\n",
    "a + \\left\\{ \\dfrac{b}{a+ \\left \\{ \\dfrac{b}{a+b} \\right \\} } \\right\\}. \n",
    "\\end{equation*}\n",
    "\n",
    "Note that the output is returned as a string rather than an integer or float."
   ]
  },
  {
   "cell_type": "markdown",
   "id": "73b804c2",
   "metadata": {
    "editable": true,
    "slideshow": {
     "slide_type": ""
    },
    "tags": [
     "pseudocode"
    ]
   },
   "source": [
    "```\n",
    "# write here your pseudocode (not graded)\n",
    "\n",
    "# * pseudocode is necessary when asking for help during the lab\n",
    "```"
   ]
  },
  {
   "cell_type": "code",
   "execution_count": null,
   "id": "7dd2035a",
   "metadata": {
    "editable": true,
    "execution": {
     "iopub.execute_input": "2025-01-26T17:37:06.840958Z",
     "iopub.status.busy": "2025-01-26T17:37:06.840844Z",
     "iopub.status.idle": "2025-01-26T17:37:06.860909Z",
     "shell.execute_reply": "2025-01-26T17:37:06.860686Z"
    },
    "slideshow": {
     "slide_type": ""
    },
    "tags": [
     "solution",
     "solution-2"
    ]
   },
   "outputs": [],
   "source": [
    "%%writefile print_computed_expression_solution.py\n",
    "# solution cell\n",
    "### BEGIN SOLUTION¥\n",
    "raise ValueError(\"Delete this line and write your solution here!\")\n",
    "### END SOLUTION\n"
   ]
  },
  {
   "cell_type": "code",
   "execution_count": null,
   "id": "4eb25ec1",
   "metadata": {
    "editable": true,
    "execution": {
     "iopub.execute_input": "2025-01-26T17:37:06.833776Z",
     "iopub.status.busy": "2025-01-26T17:37:06.833692Z",
     "iopub.status.idle": "2025-01-26T17:37:06.839729Z",
     "shell.execute_reply": "2025-01-26T17:37:06.839475Z"
    },
    "slideshow": {
     "slide_type": ""
    },
    "tags": [
     "debug",
     "debug-2"
    ]
   },
   "outputs": [],
   "source": [
    "%autoreload 2\n",
    "# uncomment the line(s) below to debug\n",
    "# from print_computed_expression_solution import print_computed_expression\n",
    "\n",
    "\n",
    "# a = 7\n",
    "# b = 2\n",
    "# print(f\"The computed expression is \")\n",
    "# print_computed_expression(a, b)\n",
    "# print(\"Execution finished\", \"\\u2713\")\n"
   ]
  },
  {
   "cell_type": "code",
   "execution_count": null,
   "id": "868027a0",
   "metadata": {
    "checksum": "26ae6832b4769862461907bc26748368",
    "editable": false,
    "slideshow": {
     "slide_type": ""
    },
    "tags": [
     "tests",
     "tests-2",
     "raises-exception"
    ]
   },
   "outputs": [],
   "source": [
    "%autoreload 2\n",
    "# test cell\n",
    "try:\n",
    "    import print_computed_expression_solution\n",
    "except:\n",
    "    raise ValueError(\"You did not execute your solution cell!\")\n",
    "try:\n",
    "    from print_computed_expression_solution import print_computed_expression\n",
    "except:\n",
    "    raise ValueError(\"The module does not have the necessary function!\")\n",
    "\n",
    "from unittest.mock import patch\n",
    "from io import StringIO\n",
    "\n",
    "test_cases = [((2, 4), \"3.5\"), ((3,9), \"5.4\"), ((7, 2), \"7.276923076923077\")]\n",
    "for _in, _print in test_cases:\n",
    "    with patch(\"sys.stdout\", new=StringIO()) as fakeOutput:\n",
    "        _res = print_computed_expression(*_in)\n",
    "        assert fakeOutput.getvalue().strip() == _print, f\"The function should print \\\n",
    "the value `{_print}` but printed the value `{fakeOutput.getvalue().strip()}`.\"\n",
    "\n",
    "print(\"tests passed\", \"\\u2713\")"
   ]
  },
  {
   "cell_type": "code",
   "execution_count": null,
   "id": "0625eb95",
   "metadata": {
    "checksum": "71a41dcfe16873149e6ce88e41368b58",
    "editable": false,
    "execution": {
     "iopub.execute_input": "2025-01-26T17:37:06.861990Z",
     "iopub.status.busy": "2025-01-26T17:37:06.861916Z",
     "iopub.status.idle": "2025-01-26T17:37:07.001393Z",
     "shell.execute_reply": "2025-01-26T17:37:07.001072Z"
    },
    "slideshow": {
     "slide_type": ""
    },
    "tags": [
     "quality",
     "quality-2",
     "raises-exception"
    ]
   },
   "outputs": [],
   "source": [
    "validate_python_code(\"print_computed_expression_solution.py\")\n",
    "print(\"code quality passed\", \"\\u2713\")"
   ]
  },
  {
   "cell_type": "markdown",
   "id": "2c286685",
   "metadata": {
    "editable": false,
    "slideshow": {
     "slide_type": ""
    },
    "tags": []
   },
   "source": [
    "### Problem 3\n",
    "\n",
    "Create a function called `cylinder_volume` that, based on two parameters representing the radius of the base and height of the cylinder (integer or float), prints its volume upto four decimal places.\n",
    "\n",
    "Remember that the volume $V$ of a cylinder given its base radius $r$ and height $h$ is given by:\n",
    "\\begin{equation*}\n",
    "V = \\pi r^2 h. \n",
    "\\end{equation*}\n",
    "\n",
    "**Observations:**\n",
    "- You should assume $\\pi=3.14$."
   ]
  },
  {
   "cell_type": "markdown",
   "id": "7d3f1323",
   "metadata": {
    "editable": true,
    "slideshow": {
     "slide_type": ""
    },
    "tags": [
     "pseudocode"
    ]
   },
   "source": [
    "```\n",
    "# write here your pseudocode (not graded)\n",
    "\n",
    "# * pseudocode is necessary when asking for help during the lab\n",
    "```"
   ]
  },
  {
   "cell_type": "code",
   "execution_count": null,
   "id": "d49f7981",
   "metadata": {
    "editable": true,
    "execution": {
     "iopub.execute_input": "2025-01-26T17:37:07.885049Z",
     "iopub.status.busy": "2025-01-26T17:37:07.884969Z",
     "iopub.status.idle": "2025-01-26T17:37:07.896007Z",
     "shell.execute_reply": "2025-01-26T17:37:07.895799Z"
    },
    "slideshow": {
     "slide_type": ""
    },
    "tags": [
     "solution",
     "solution-3"
    ]
   },
   "outputs": [],
   "source": [
    "%%writefile cylinder_volume_solution.py\n",
    "# solution cell\n",
    "### BEGIN SOLUTION\n",
    "raise ValueError(\"Delete this line and write your solution here!\")\n",
    "### END SOLUTION\n"
   ]
  },
  {
   "cell_type": "code",
   "execution_count": null,
   "id": "c5c4c8bc",
   "metadata": {
    "editable": true,
    "execution": {
     "iopub.execute_input": "2025-01-26T17:37:07.879387Z",
     "iopub.status.busy": "2025-01-26T17:37:07.879315Z",
     "iopub.status.idle": "2025-01-26T17:37:07.884069Z",
     "shell.execute_reply": "2025-01-26T17:37:07.883875Z"
    },
    "slideshow": {
     "slide_type": ""
    },
    "tags": [
     "debug",
     "debug-3"
    ]
   },
   "outputs": [],
   "source": [
    "%autoreload 2\n",
    "# uncomment the line(s) below to debug\n",
    "# from cylinder_volume_solution import cylinder_volume\n",
    "\n",
    "\n",
    "# r, h = 0.11, 0.3\n",
    "# print(f'The volume of a cylinder with radius {r} and height {h} is')\n",
    "# cylinder_volume(r, h)\n",
    "# print(\"Execution finished\", \"\\u2713\")\n"
   ]
  },
  {
   "cell_type": "code",
   "execution_count": null,
   "id": "aa6b44f1",
   "metadata": {
    "checksum": "eb7d62526e7597a3defe202b5bb9923e",
    "editable": false,
    "slideshow": {
     "slide_type": ""
    },
    "tags": [
     "tests",
     "tests-3",
     "raises-exception"
    ]
   },
   "outputs": [],
   "source": [
    "%autoreload 2\n",
    "# test cell\n",
    "try:\n",
    "    import cylinder_volume_solution\n",
    "except:\n",
    "    raise ValueError(\"You did not execute your solution cell!\")\n",
    "try:\n",
    "    from cylinder_volume_solution import cylinder_volume\n",
    "except:\n",
    "    raise ValueError(\"The module does not have the necessary function!\")\n",
    "    \n",
    "from unittest.mock import patch\n",
    "from io import StringIO\n",
    "\n",
    "test_cases = [((2.1, 4.3), \"59.5438\"), ((10, 20), \"6280.0000\"), ((0.11, 0.3), \"0.0114\")]\n",
    "for _in, _print in test_cases:\n",
    "    with patch(\"sys.stdout\", new=StringIO()) as fakeOutput:\n",
    "        _res = cylinder_volume(*_in)\n",
    "        assert fakeOutput.getvalue().strip() == _print, f\"The function should print \\\n",
    "the value `{_print}` but printed the value `{fakeOutput.getvalue().strip()}`.\"\n",
    "\n",
    "print(\"tests passed\", \"\\u2713\")"
   ]
  },
  {
   "cell_type": "code",
   "execution_count": null,
   "id": "127e8429",
   "metadata": {
    "checksum": "885a920f58cfbf1362f90b8f1fd1ec8a",
    "editable": false,
    "execution": {
     "iopub.execute_input": "2025-01-26T17:37:07.897000Z",
     "iopub.status.busy": "2025-01-26T17:37:07.896904Z",
     "iopub.status.idle": "2025-01-26T17:37:08.032514Z",
     "shell.execute_reply": "2025-01-26T17:37:08.032255Z"
    },
    "slideshow": {
     "slide_type": ""
    },
    "tags": [
     "quality",
     "quality-3",
     "raises-exception"
    ]
   },
   "outputs": [],
   "source": [
    "validate_python_code(\"cylinder_volume_solution.py\")\n",
    "print(\"code quality passed\", \"\\u2713\")"
   ]
  },
  {
   "cell_type": "markdown",
   "id": "d3b00b65",
   "metadata": {
    "editable": false
   },
   "source": [
    "### Problem 4\n",
    "\n",
    "Create a function named `greetings` that receives:\n",
    "- the salutation of a person (string),\n",
    "- the name of a person (string),\n",
    "- the surname of a person (string),\n",
    "- the age of a person (integer)\n",
    "- the location of a person (string),\n",
    "and returns the following greeting message.\n",
    "\n",
    "For instance, for a person of name 'John', surname 'Doe', salutation 'Mr.', age 39 and location 'paris', the function should return the following message which contains two lines:\n",
    "\n",
    "`Hello from Paris!`\n",
    "\n",
    "`I'm Mr. John Doe, age 39.`\n",
    "\n",
    "<!-- Greetings! I am Mr. John Doe, and I am 25 years old. -->\n",
    "\n",
    "The name, surname, salutation and location should always be capitalized. For instance, for a person of name 'jAne', surname 'DoE', salutation 'mS.', age 32 and location 'bErlin', the function should return a message similar to the following one:\n",
    "\n",
    "`Hello from Berlin!`\n",
    "\n",
    "`I'm Ms. Jane Doe, age 32.`\n",
    "\n",
    "**Observations:**\n",
    "- You should use `f-string` and `capitalize()` to solve this problem."
   ]
  },
  {
   "cell_type": "markdown",
   "id": "6e3e6e11",
   "metadata": {
    "editable": true,
    "tags": [
     "pseudocode"
    ]
   },
   "source": [
    "```\n",
    "# write here your pseudocode (not graded)\n",
    "\n",
    "# * pseudocode is necessary when asking for help during the lab\n",
    "```"
   ]
  },
  {
   "cell_type": "code",
   "execution_count": null,
   "id": "e6402ea5",
   "metadata": {
    "editable": true,
    "execution": {
     "iopub.execute_input": "2025-01-26T17:37:08.858831Z",
     "iopub.status.busy": "2025-01-26T17:37:08.858595Z",
     "iopub.status.idle": "2025-01-26T17:37:08.865286Z",
     "shell.execute_reply": "2025-01-26T17:37:08.865097Z"
    },
    "tags": [
     "solution-4",
     "solution"
    ]
   },
   "outputs": [],
   "source": [
    "%%writefile greetings_solution.py\n",
    "# solution cell\n",
    "### BEGIN SOLUTION\n",
    "raise ValueError(\"Delete this line and write your solution here!\")\n",
    "### END SOLUTION\n"
   ]
  },
  {
   "cell_type": "code",
   "execution_count": null,
   "id": "045eb401",
   "metadata": {
    "editable": true,
    "execution": {
     "iopub.execute_input": "2025-01-26T17:37:08.845258Z",
     "iopub.status.busy": "2025-01-26T17:37:08.845186Z",
     "iopub.status.idle": "2025-01-26T17:37:08.857554Z",
     "shell.execute_reply": "2025-01-26T17:37:08.857329Z"
    },
    "tags": [
     "debug",
     "debug-4"
    ]
   },
   "outputs": [],
   "source": [
    "%autoreload 2\n",
    "# uncomment the line(s) below to debug\n",
    "# from greetings_solution import greetings\n",
    "\n",
    "\n",
    "# g = greetings('ms.', 'jAne', 'DoE', 32, 'bErlin')\n",
    "# print(g)\n",
    "# print(\"Execution finished\", \"\\u2713\")\n"
   ]
  },
  {
   "cell_type": "code",
   "execution_count": null,
   "id": "c850b203",
   "metadata": {
    "checksum": "0bca664c7ee9f004901313c4b960d008",
    "editable": false,
    "tags": [
     "tests",
     "tests-4",
     "raises-exception"
    ]
   },
   "outputs": [],
   "source": [
    "%autoreload 2\n",
    "# test cell\n",
    "try:\n",
    "    import greetings_solution\n",
    "except:\n",
    "    raise ValueError(\"You did not execute your solution cell!\")\n",
    "try:\n",
    "    from greetings_solution import greetings\n",
    "except:\n",
    "    raise ValueError(\"The module does not have the necessary function!\")\n",
    "\n",
    "test_cases = [(('MR.', 'joHn', 'DOe', 39, 'pARiS'), 'Hello from Paris!\\nI\\'m Mr. John Doe, age 39.'), \\\n",
    "    (('ms.', 'jAne', 'DoE', 32, 'bErLiN'), 'Hello from Berlin!\\nI\\'m Ms. Jane Doe, age 32.')]\n",
    "\n",
    "for _in, _out in test_cases:\n",
    "    _res = greetings(*_in)\n",
    "    assert _res == _out, f\"The function with input `{_in}` should return the value \\\n",
    "`{_out}` of type `{type(_out)}`\\n but returned the value `{_res}` of type `{type(_res)}`.\"\n",
    "\n",
    "print(\"tests passed\", \"\\u2713\")"
   ]
  },
  {
   "cell_type": "code",
   "execution_count": null,
   "id": "0876076e",
   "metadata": {
    "checksum": "d7801ffbc7d2440fa3b664c27b2b06a3",
    "editable": false,
    "execution": {
     "iopub.execute_input": "2025-01-26T17:37:08.866325Z",
     "iopub.status.busy": "2025-01-26T17:37:08.866263Z",
     "iopub.status.idle": "2025-01-26T17:37:09.007106Z",
     "shell.execute_reply": "2025-01-26T17:37:09.006823Z"
    },
    "tags": [
     "quality",
     "quality-4",
     "raises-exception"
    ]
   },
   "outputs": [],
   "source": [
    "validate_python_code(\"greetings_solution.py\")\n",
    "print(\"code quality passed\", \"\\u2713\")"
   ]
  },
  {
   "cell_type": "markdown",
   "id": "c3fdd7a8",
   "metadata": {
    "editable": false,
    "tags": []
   },
   "source": [
    "### Problem 5\n",
    "\n",
    "Create a Python function called `print_return_product` that receives two numbers (integer or float).\n",
    "The function should:\n",
    "1. print a string that represents the product of the inputs; and\n",
    "2. return the product of the inputs."
   ]
  },
  {
   "cell_type": "markdown",
   "id": "eb14110b",
   "metadata": {
    "editable": true,
    "tags": [
     "pseudocode"
    ]
   },
   "source": [
    "```\n",
    "# write here your pseudocode (not graded)\n",
    "\n",
    "# * pseudocode is necessary when asking for help during the lab\n",
    "```"
   ]
  },
  {
   "cell_type": "code",
   "execution_count": null,
   "id": "043a3607",
   "metadata": {
    "editable": true,
    "execution": {
     "iopub.execute_input": "2025-01-26T17:37:09.817404Z",
     "iopub.status.busy": "2025-01-26T17:37:09.817340Z",
     "iopub.status.idle": "2025-01-26T17:37:09.828731Z",
     "shell.execute_reply": "2025-01-26T17:37:09.828544Z"
    },
    "tags": [
     "solution",
     "solution-5"
    ]
   },
   "outputs": [],
   "source": [
    "%%writefile print_return_product_solution.py\n",
    "# solution cell\n",
    "### BEGIN SOLUTION\n",
    "raise ValueError(\"Delete this line and write your solution here!\")\n",
    "### END SOLUTION\n"
   ]
  },
  {
   "cell_type": "code",
   "execution_count": null,
   "id": "82069ec0",
   "metadata": {
    "editable": true,
    "execution": {
     "iopub.execute_input": "2025-01-26T17:37:09.809798Z",
     "iopub.status.busy": "2025-01-26T17:37:09.809732Z",
     "iopub.status.idle": "2025-01-26T17:37:09.816460Z",
     "shell.execute_reply": "2025-01-26T17:37:09.816258Z"
    },
    "tags": [
     "debug",
     "debug-5"
    ]
   },
   "outputs": [],
   "source": [
    "%autoreload 2\n",
    "# uncomment the line(s) below to debug\n",
    "# from print_return_product_solution import print_return_product\n",
    "\n",
    "\n",
    "# x, y = 4.2, 2.3\n",
    "# print(f'the product of {x} and {y} is:')\n",
    "# r = print_return_product(x, y)\n",
    "# print(f'or {r}')\n",
    "# print(\"Execution finished\", \"\\u2713\")\n"
   ]
  },
  {
   "cell_type": "code",
   "execution_count": null,
   "id": "30e88e41",
   "metadata": {
    "checksum": "2199ba14dd0d6f12d6768eb6267cadc8",
    "editable": false,
    "tags": [
     "tests",
     "tests-5",
     "raises-exception"
    ]
   },
   "outputs": [],
   "source": [
    "%autoreload 2\n",
    "#test cell\n",
    "try:\n",
    "    import print_return_product_solution\n",
    "except:\n",
    "    raise ValueError(\"You did not execute your solution cell!\")\n",
    "try:\n",
    "    from print_return_product_solution import print_return_product\n",
    "except:\n",
    "    raise ValueError(\"The module does not have the necessary function!\")\n",
    "    \n",
    "from unittest.mock import patch\n",
    "from io import StringIO\n",
    "\n",
    "test_cases = [((8.6352456, 52.18234), 450.607321882704, \"450.607321882704\"), \\\n",
    "    ((4.2, 2.3), 9.66, \"9.66\")]\n",
    "for _in, _out, _print in test_cases:\n",
    "    with patch(\"sys.stdout\", new=StringIO()) as fakeOutput:\n",
    "        _res = print_return_product(*_in)\n",
    "        assert _res == _out, f\"The function should return the value `{_out}` of type \\\n",
    "    `{type(_out)}`\\n but returned the value `{_res}` of type `{type(_res)}`.\"\n",
    "        assert fakeOutput.getvalue().strip() == _print, f\"The function should print \\\n",
    "the value `{_print}` but printed the value `{fakeOutput.getvalue().strip()}`.\"\n",
    "\n",
    "print(\"tests passed\", \"\\u2713\")"
   ]
  },
  {
   "cell_type": "code",
   "execution_count": null,
   "id": "a4e3fc07",
   "metadata": {
    "checksum": "1fce15cb26e47deaff3aa120b28d935e",
    "editable": false,
    "execution": {
     "iopub.execute_input": "2025-01-26T17:37:09.829654Z",
     "iopub.status.busy": "2025-01-26T17:37:09.829587Z",
     "iopub.status.idle": "2025-01-26T17:37:09.965624Z",
     "shell.execute_reply": "2025-01-26T17:37:09.965351Z"
    },
    "tags": [
     "quality",
     "quality-5",
     "raises-exception"
    ]
   },
   "outputs": [],
   "source": [
    "validate_python_code(\"print_return_product_solution.py\")\n",
    "print(\"code quality passed\", \"\\u2713\")"
   ]
  },
  {
   "cell_type": "markdown",
   "id": "350a9b3b",
   "metadata": {
    "editable": false
   },
   "source": [
    "### Problem 6\n",
    "\n",
    "Create a Python function called `return_product` that receives two numbers (integer or float).\n",
    "The function should return a $\\underline{\\textbf{string}}$ that represents the product of the inputs. Note that the output is returned as a string rather than an integer or float."
   ]
  },
  {
   "cell_type": "markdown",
   "id": "6b2edb88",
   "metadata": {
    "editable": true,
    "tags": [
     "pseudocode"
    ]
   },
   "source": [
    "```\n",
    "# write here your pseudocode (not graded)\n",
    "\n",
    "# * pseudocode is necessary when asking for help during the lab\n",
    "```"
   ]
  },
  {
   "cell_type": "code",
   "execution_count": null,
   "id": "23f0abb7",
   "metadata": {
    "editable": true,
    "execution": {
     "iopub.execute_input": "2025-01-26T17:37:10.750161Z",
     "iopub.status.busy": "2025-01-26T17:37:10.750085Z",
     "iopub.status.idle": "2025-01-26T17:37:10.760071Z",
     "shell.execute_reply": "2025-01-26T17:37:10.759871Z"
    },
    "tags": [
     "solution",
     "solution-6"
    ]
   },
   "outputs": [],
   "source": [
    "%%writefile return_product_solution.py\n",
    "# solution cell\n",
    "### BEGIN SOLUTION\n",
    "raise ValueError(\"Delete this line and write your solution here!\")\n",
    "### END SOLUTION\n"
   ]
  },
  {
   "cell_type": "code",
   "execution_count": null,
   "id": "11c65d5b",
   "metadata": {
    "editable": true,
    "execution": {
     "iopub.execute_input": "2025-01-26T17:37:10.745985Z",
     "iopub.status.busy": "2025-01-26T17:37:10.745924Z",
     "iopub.status.idle": "2025-01-26T17:37:10.749238Z",
     "shell.execute_reply": "2025-01-26T17:37:10.749059Z"
    },
    "tags": [
     "debug",
     "debug-6"
    ]
   },
   "outputs": [],
   "source": [
    "%autoreload 2\n",
    "# uncomment the line(s) below to debug\n",
    "# from return_product_solution import return_product\n",
    "\n",
    "\n",
    "# x, y = 4.2, 2.3\n",
    "# r = return_product(x, y)\n",
    "# print(f'the product of {x} and {y} is: {r}')\n",
    "# print(\"Execution finished\", \"\\u2713\")\n"
   ]
  },
  {
   "cell_type": "code",
   "execution_count": null,
   "id": "804dc06e",
   "metadata": {
    "checksum": "14b165e68db53dec7d4204d2ddd928fe",
    "editable": false,
    "tags": [
     "tests",
     "tests-6",
     "raises-exception"
    ]
   },
   "outputs": [],
   "source": [
    "%autoreload 2\n",
    "#test cell\n",
    "try:\n",
    "    import return_product_solution\n",
    "except:\n",
    "    raise ValueError(\"You did not execute your solution cell!\")\n",
    "try:\n",
    "    from return_product_solution import return_product\n",
    "except:\n",
    "    raise ValueError(\"The module does not have the necessary function!\")\n",
    "    \n",
    "from unittest.mock import patch\n",
    "from io import StringIO\n",
    "\n",
    "test_cases = [((8.6352456, 52.18234), \"450.607321882704\"), \\\n",
    "    ((4.2, 2.3), \"9.66\")]\n",
    "for _in, _out in test_cases:\n",
    "    with patch(\"sys.stdout\", new=StringIO()) as fakeOutput:\n",
    "        _res = return_product(*_in)\n",
    "        assert _res == _out, f\"The function should return the value `{_out}` of type \\\n",
    "    `{type(_out)}`\\n but returned the value `{_res}` of type `{type(_res)}`.\"\n",
    "\n",
    "print(\"tests passed\", \"\\u2713\")"
   ]
  },
  {
   "cell_type": "code",
   "execution_count": null,
   "id": "0c693faa",
   "metadata": {
    "checksum": "3e26c1c5c08f2e3832e6c92e2989583e",
    "editable": false,
    "execution": {
     "iopub.execute_input": "2025-01-26T17:37:10.760999Z",
     "iopub.status.busy": "2025-01-26T17:37:10.760924Z",
     "iopub.status.idle": "2025-01-26T17:37:10.886635Z",
     "shell.execute_reply": "2025-01-26T17:37:10.886354Z"
    },
    "tags": [
     "quality",
     "quality-6",
     "raises-exception"
    ]
   },
   "outputs": [],
   "source": [
    "validate_python_code(\"return_product_solution.py\")\n",
    "print(\"code quality passed\", \"\\u2713\")"
   ]
  },
  {
   "cell_type": "markdown",
   "id": "a8528024",
   "metadata": {
    "editable": false,
    "tags": []
   },
   "source": [
    "### Problem 7\n",
    "\n",
    "Create a function named `coin_change` that receives an amount (integer or float) and returns the equivalent amount as a tuple of (hundreds, fifties, tens, fives, ones) (in this order). \n",
    "\n",
    "You need to round down the outputs to nearest integer.\n",
    "\n",
    "For instance:\n",
    "\n",
    "- Input: `179` / Output: `(1, 1, 2, 1, 4)`\n",
    "- Input: `179.5` / Output: `(1, 1, 2, 1, 4)`\n",
    "- Input: `365` / Output: `(3, 1, 1, 1, 0)`\n",
    "\n",
    "**Observations:**\n",
    "- Remember that you cannot use `import`. Use only the math operations in Chapter 3."
   ]
  },
  {
   "cell_type": "markdown",
   "id": "52e79a1b",
   "metadata": {
    "editable": true,
    "tags": [
     "pseudocode"
    ]
   },
   "source": [
    "```\n",
    "# write here your pseudocode (not graded)\n",
    "\n",
    "# * pseudocode is necessary when asking for help during the lab\n",
    "```"
   ]
  },
  {
   "cell_type": "code",
   "execution_count": null,
   "id": "b045cdaf",
   "metadata": {
    "editable": true,
    "execution": {
     "iopub.execute_input": "2025-01-26T17:37:11.852089Z",
     "iopub.status.busy": "2025-01-26T17:37:11.851980Z",
     "iopub.status.idle": "2025-01-26T17:37:11.865503Z",
     "shell.execute_reply": "2025-01-26T17:37:11.865253Z"
    },
    "tags": [
     "solution",
     "solution-7"
    ]
   },
   "outputs": [],
   "source": [
    "%%writefile coin_change_solution.py\n",
    "# solution cell\n",
    "### BEGIN SOLUTION\n",
    "raise ValueError(\"Delete this line and write your solution here!\")\n",
    "### END SOLUTION\n"
   ]
  },
  {
   "cell_type": "code",
   "execution_count": null,
   "id": "3c7d00f9",
   "metadata": {
    "editable": true,
    "execution": {
     "iopub.execute_input": "2025-01-26T17:37:11.844793Z",
     "iopub.status.busy": "2025-01-26T17:37:11.844708Z",
     "iopub.status.idle": "2025-01-26T17:37:11.850929Z",
     "shell.execute_reply": "2025-01-26T17:37:11.850723Z"
    },
    "tags": [
     "debug",
     "debug-7"
    ]
   },
   "outputs": [],
   "source": [
    "%autoreload 2\n",
    "# uncomment the line(s) below to debug\n",
    "# from coin_change_solution import coin_change\n",
    "\n",
    "\n",
    "# amount = 179.5\n",
    "# v = coin_change(amount)\n",
    "# print(f\"{amount} amount is equivalent to {v[0]} hundreds, {v[1]} fifties, {v[2]} tens, {v[3]} fives, {v[4]} ones\")\n",
    "# print(\"Execution finished\", \"\\u2713\")\n"
   ]
  },
  {
   "cell_type": "code",
   "execution_count": null,
   "id": "db0d204b",
   "metadata": {
    "checksum": "ce2045e2288df541981ce529d31786bf",
    "editable": false,
    "tags": [
     "tests",
     "tests-7",
     "raises-exception"
    ]
   },
   "outputs": [],
   "source": [
    "%autoreload 2\n",
    "# test cell\n",
    "try:\n",
    "    import coin_change_solution\n",
    "except:\n",
    "    raise ValueError(\"You did not execute your solution cell!\")\n",
    "try:\n",
    "    from coin_change_solution import coin_change\n",
    "except:\n",
    "    raise ValueError(\"The module does not have the necessary function!\")\n",
    "\n",
    "from unittest.mock import patch\n",
    "from io import StringIO\n",
    "\n",
    "test_cases = [(179, (1, 1, 2, 1, 4)), (179.5, (1, 1, 2, 1, 4)), (365.25, (3, 1, 1, 1, 0))]\n",
    "for _in, _out in test_cases:\n",
    "    with patch(\"sys.stdout\", new=StringIO()) as fakeOutput:\n",
    "        _res = coin_change(_in)\n",
    "        assert _res == _out, f\"The function should return the value `{_out}` of type \\\n",
    "    `{type(_out)}`\\n but returned the value `{_res}` of type `{type(_res)}`.\"\n",
    "\n",
    "print(\"tests passed\", \"\\u2713\")"
   ]
  },
  {
   "cell_type": "code",
   "execution_count": null,
   "id": "5f36c360",
   "metadata": {
    "checksum": "44934a9fd77c4a3abac99c296de82668",
    "editable": false,
    "execution": {
     "iopub.execute_input": "2025-01-26T17:37:11.866758Z",
     "iopub.status.busy": "2025-01-26T17:37:11.866685Z",
     "iopub.status.idle": "2025-01-26T17:37:12.003947Z",
     "shell.execute_reply": "2025-01-26T17:37:12.003730Z"
    },
    "tags": [
     "quality",
     "quality-7",
     "raises-exception"
    ]
   },
   "outputs": [],
   "source": [
    "validate_python_code(\"coin_change_solution.py\")\n",
    "print(\"code quality passed\", \"\\u2713\")"
   ]
  }
 ],
 "metadata": {
  "assignment_list": [
   "1",
   "2",
   "3",
   "4",
   "5",
   "6",
   "7"
  ],
  "compilation_date": "2025-01-26 18:37:12.118926",
  "kernelspec": {
   "display_name": "Python 3 (ipykernel)",
   "language": "python",
   "name": "python3"
  },
  "language_info": {
   "codemirror_mode": {
    "name": "ipython",
    "version": 3
   },
   "file_extension": ".py",
   "mimetype": "text/x-python",
   "name": "python",
   "nbconvert_exporter": "python",
   "pygments_lexer": "ipython3",
   "version": "3.13.1"
  }
 },
 "nbformat": 4,
 "nbformat_minor": 5
}
