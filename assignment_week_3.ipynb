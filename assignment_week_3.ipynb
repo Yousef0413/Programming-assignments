{
 "cells": [
  {
   "attachments": {},
   "cell_type": "markdown",
   "metadata": {
    "editable": true,
    "slideshow": {
     "slide_type": ""
    },
    "tags": []
   },
   "source": [
    "# EEN060 - Applied object-oriented programming\n",
    "\n",
    "\n",
    "Teacher: [Carlos Natalino](https://www.chalmers.se/en/persons/carda/) / Examiner: [Paolo Monti](https://www.chalmers.se/en/persons/mpaolo/)\n",
    "\n",
    "[Canvas course page](https://chalmers.instructure.com/courses/33383)\n",
    "\n",
    "[Course channel on Chalmers Play](https://play.chalmers.se/channel/EEN060_EEN065_Applied_object-oriented_programming/300149)\n",
    "\n",
    "Before you turn this assignment list in, make sure everything runs as expected.\n",
    "First, **restart the kernel** and then **run all cells**.\n",
    "Then, check if all the tests run correctly.\n",
    "Note that if one of the problems present an error, the following ones **will not** be tested.\n",
    "\n",
    "In case of discrepancies between the problem command and the tests, you should solve it having in mind the tests.\n",
    "\n",
    "There are two types of cell:\n",
    "1. *solution cells:* These are the cells where you write your answer, or modify the existing code to solve the problem.\n",
    "2. *test cells:* These cells are used to test whether your solution is correct or not. If the tests run correctly, you should see a message `tests passed`. Otherwise, you should see an error message.\n",
    "3. *code quality tests:* These cells tests whether your solution adheres to the code quality rules of the course.\n",
    "\n",
    "**Delete** the line `raise NotImplementedError()` from the problems that you solve.\n",
    "\n",
    "**Do not delete or add any cell in this file.** All cells that you need are already in place.\n",
    "\n",
    "If you want to execute a cell, select the cell and press **CTRL+Enter** (in Windows) or **CMD+Enter** (in macOS) or click on the **Run cell** button.\n"
   ]
  },
  {
   "attachments": {},
   "cell_type": "markdown",
   "metadata": {
    "editable": true,
    "nbgrader": {
     "grade": false,
     "grade_id": "cell-title-assignment",
     "locked": true,
     "schema_version": 3,
     "solution": false,
     "task": false
    },
    "slideshow": {
     "slide_type": ""
    },
    "tags": []
   },
   "source": [
    "## Assignment Week 3\n",
    "\n",
    "In this assignment, students should practice:\n",
    "- how to use Visual Studio Code\n",
    "- how to download, solve and submit programming assignments\n",
    "- how to create functions\n",
    "- start getting familiar with Python\n",
    "- how to manipulate variables\n",
    "- how to use math operations\n",
    "- how to output the results\n",
    "- understand different types of variables\n",
    "- understand the code quality validation\n",
    "\n",
    "**Observations:**\n",
    "For the problems in this assignment, you should:\n",
    "- use only the math operations studied in the lecture notes (i.e., no advanced functions allowed).\n",
    "- not use external modules, i.e., `import` command is not allowed in your solutions (with exception of the module `typing`).\n",
    "- make sure that your `utils.py` file has the following line (i.e., replace `onu2` by `onu1` if needed):\n",
    "\n",
    "<!-- **You should need only Chapters 1-3 of the lecture notes to solve all the problems in this list.** -->\n",
    "\n",
    "**Preparation:** Run the cell below every time you start working on this file, and every time you restart the kernel."
   ]
  },
  {
   "cell_type": "code",
   "execution_count": 1,
   "metadata": {
    "editable": true,
    "slideshow": {
     "slide_type": ""
    },
    "tags": [
     "load"
    ]
   },
   "outputs": [],
   "source": [
    "%load_ext autoreload\n",
    "# check if this file is within the same folder as the `utils.py` file.\n",
    "try:\n",
    "    from utils import validate_python_code\n",
    "except:\n",
    "    import sys\n",
    "    print(\"It seems this file is in the wrong folder. \"\n",
    "          \"Make sure to place it in the `programming-assignments` folder/project.\",\n",
    "          file=sys.stderr)"
   ]
  },
  {
   "cell_type": "code",
   "execution_count": 2,
   "metadata": {},
   "outputs": [],
   "source": [
    "from utils import validate_python_code"
   ]
  },
  {
   "cell_type": "code",
   "execution_count": 3,
   "metadata": {
    "editable": true,
    "slideshow": {
     "slide_type": ""
    },
    "tags": [
     "check-venv"
    ]
   },
   "outputs": [
    {
     "name": "stdout",
     "output_type": "stream",
     "text": [
      "Version: 3.13.1 (main, Dec  3 2024, 17:59:52) [Clang 16.0.0 (clang-1600.0.26.4)]\n",
      "Executable (virtual env): /Users/carda/projects/programming-assignments-2025/venv/bin/python\n",
      "Current folder: /Users/carda/projects/programming-assignments-2025\n",
      "Datetime: 2025-02-03 11:52:03.593045\n",
      "User: carda\n"
     ]
    }
   ],
   "source": [
    "import datetime\n",
    "import getpass\n",
    "import os\n",
    "import sys\n",
    "\n",
    "# check if the virtual env is correct\n",
    "venv_path = os.path.abspath(sys.executable)\n",
    "cur_path = os.path.abspath(os.getcwd())\n",
    "assert os.path.commonpath([venv_path, cur_path]) == cur_path, \\\n",
    "    \"It seems like this file is being executed with the wrong virtual environment.\"\n",
    "\n",
    "print(\"Version:\", sys.version)\n",
    "print(\"Executable (virtual env):\", sys.executable)\n",
    "print(\"Current folder:\", os.getcwd())\n",
    "print(\"Datetime:\", datetime.datetime.now())\n",
    "print(\"User:\", getpass.getuser())\n",
    "del datetime, getpass, os, sys"
   ]
  },
  {
   "cell_type": "markdown",
   "metadata": {},
   "source": [
    "### Problem 1\n",
    "\n",
    "Create a function called `assignment_points` that receives an integer representing the number of assignment approved.\n",
    "The function then returns a float that represents the assignment points obtained according to the scale defined in the [course PM](https://chalmers.instructure.com/courses/33383#:~:text=1%20AP,15%20APs).\n",
    "\n",
    "Make sure to return `0` if no assignment is approved, i.e., when you recieve the input `0`."
   ]
  },
  {
   "cell_type": "markdown",
   "metadata": {},
   "source": [
    "```\n",
    "# write here your pseudocode (not graded)\n",
    "\n",
    "# * pseudocode is necessary when asking for help during the lab\n",
    "```"
   ]
  },
  {
   "cell_type": "code",
   "execution_count": null,
   "metadata": {
    "tags": [
     "solution",
     "solution-1"
    ]
   },
   "outputs": [],
   "source": [
    "%%writefile assignment_points_solution.py\n",
    "# solution cell\n",
    "### BEGIN SOLUTION\n",
    "raise NotImplementedError()\n",
    "### END SOLUTION"
   ]
  },
  {
   "cell_type": "code",
   "execution_count": 53,
   "metadata": {
    "tags": [
     "debug",
     "debug-1"
    ]
   },
   "outputs": [],
   "source": [
    "%autoreload 2\n",
    "# uncomment the line(s) below to debug\n",
    "# from assignment_points_solution import assignment_points\n",
    "\n",
    "# count = 6\n",
    "# ap = assignment_points(count)\n",
    "# print(f\"The assignment points are {ap}\")\n",
    "# print(\"Execution finished\", \"\\u2713\")"
   ]
  },
  {
   "cell_type": "code",
   "execution_count": null,
   "metadata": {
    "tags": [
     "raises-exception",
     "tests",
     "tests-1"
    ]
   },
   "outputs": [],
   "source": [
    "%autoreload 2\n",
    "# test cell\n",
    "try:\n",
    "    import assignment_points_solution\n",
    "except:\n",
    "    raise ValueError(\"You did not execute your solution cell!\")\n",
    "try:\n",
    "    from assignment_points_solution import assignment_points\n",
    "except:\n",
    "    raise ValueError(\"Your solution does not contain the right function!\")\n",
    "\n",
    "test_cases = [(6, 11.0), \\\n",
    "        (7, 15.0), \\\n",
    "        (4, 6.0), \\\n",
    "        (1, 1.0), \\\n",
    "        (0, 0.0)]\n",
    "\n",
    "for _in, _out in test_cases:\n",
    "    _res = assignment_points(_in)\n",
    "    assert _res == _out, f\"The function with input `{_in}` should return the value \\\n",
    "`{_out}` of type `{type(_out)}`\\n but returned the value `{_res}` of type `{type(_res)}`.\"\n",
    "\n",
    "print(\"tests passed\", \"\\u2713\")"
   ]
  },
  {
   "cell_type": "code",
   "execution_count": null,
   "metadata": {
    "editable": true,
    "slideshow": {
     "slide_type": ""
    },
    "tags": [
     "quality",
     "quality-1",
     "raises-exception"
    ]
   },
   "outputs": [],
   "source": [
    "validate_python_code(\"assignment_points_solution.py\")"
   ]
  },
  {
   "cell_type": "markdown",
   "metadata": {},
   "source": [
    "### Problem 2\n",
    "\n",
    "Create a function called `smallest_value` that receives three numbers (`int` or `float`) as an input, and returns the smallest one among them.\n",
    "\n",
    "**Note:**\n",
    "- You must not use built-in functions to solve the problem; use only conditional statements.\n",
    "- You must not use any import statement."
   ]
  },
  {
   "cell_type": "markdown",
   "metadata": {},
   "source": [
    "```\n",
    "# write here your pseudocode (not graded)\n",
    "\n",
    "# * pseudocode is necessary when asking for help during the lab\n",
    "```"
   ]
  },
  {
   "cell_type": "code",
   "execution_count": null,
   "metadata": {
    "tags": [
     "solution",
     "solution-2"
    ]
   },
   "outputs": [],
   "source": [
    "%%writefile smallest_value_solution.py\n",
    "# solution cell\n",
    "### BEGIN SOLUTION\n",
    "raise NotImplementedError()\n",
    "### END SOLUTION"
   ]
  },
  {
   "cell_type": "code",
   "execution_count": 57,
   "metadata": {
    "tags": [
     "debug",
     "debug-2"
    ]
   },
   "outputs": [],
   "source": [
    "%autoreload 2\n",
    "# uncomment the line(s) below to debug\n",
    "# from smallest_value_solution import smallest_value\n",
    "\n",
    "# a, b, c = 12, 12, 11\n",
    "# l = smallest_value(a, b, c)\n",
    "# print(f\"The smallest value among {a}, {b}, {c} is {l}\")\n",
    "# print(\"Execution finished\", \"\\u2713\")"
   ]
  },
  {
   "cell_type": "code",
   "execution_count": null,
   "metadata": {
    "editable": true,
    "nbgrader": {
     "grade": true,
     "grade_id": "cell-test-1-2",
     "locked": true,
     "points": 1,
     "schema_version": 3,
     "solution": false,
     "task": false
    },
    "slideshow": {
     "slide_type": ""
    },
    "tags": [
     "tests",
     "tests-2",
     "raises-exception"
    ]
   },
   "outputs": [],
   "source": [
    "%autoreload 2\n",
    "# test cell\n",
    "try:\n",
    "    import smallest_value_solution\n",
    "except:\n",
    "    raise ValueError(\"You did not execute your solution cell!\")\n",
    "try:\n",
    "    from smallest_value_solution import smallest_value\n",
    "except:\n",
    "    raise ValueError(\"Your solution does not contain the right function!\")\n",
    "\n",
    "test_cases = [((1, 2.2, 3), 1), ((2, 1.1, 3), 1.1), ((3, 2.4, 2.3), 2.3), \\\n",
    "    ((1, -2, -7), -7)]\n",
    "\n",
    "for _in, _out in test_cases:\n",
    "    _res = smallest_value(*_in)\n",
    "    assert _res == _out, f\"The function with input `{_in}` should return the value \\\n",
    "`{_out}` of type `{type(_out)}`\\n but returned the value `{_res}` of type `{type(_res)}`.\"\n",
    "\n",
    "print(\"tests passed\", \"\\u2713\")"
   ]
  },
  {
   "cell_type": "code",
   "execution_count": null,
   "metadata": {
    "editable": true,
    "slideshow": {
     "slide_type": ""
    },
    "tags": [
     "quality",
     "quality-2",
     "raises-exception"
    ]
   },
   "outputs": [],
   "source": [
    "validate_python_code(\"smallest_value_solution.py\")\n",
    "print(\"code quality passed\", \"\\u2713\")"
   ]
  },
  {
   "cell_type": "markdown",
   "metadata": {},
   "source": [
    "### Problem 3\n",
    "\n",
    "Create a Python function named `reverse_lower_and_upper_case` that receives a string as an input. It reverses the case of the input. That is if the input is in upper case, then convert it to lower case and if it is in lower case, then convert it to lower case.\n",
    "\n",
    "**Examples**\n",
    "\n",
    "Input: 'test'\n",
    "\n",
    "Output: 'TEST'\n",
    "\n",
    "Explanation: Here 'test' is in lower case, so we converted it to upper case."
   ]
  },
  {
   "cell_type": "markdown",
   "metadata": {},
   "source": [
    "```\n",
    "# write here your pseudocode (not graded)\n",
    "\n",
    "# * pseudocode is necessary when asking for help during the lab\n",
    "```"
   ]
  },
  {
   "cell_type": "code",
   "execution_count": null,
   "metadata": {
    "tags": [
     "solution",
     "solution-3"
    ]
   },
   "outputs": [],
   "source": [
    "%%writefile reverse_lower_and_upper_case_solution.py\n",
    "# solution cell\n",
    "### BEGIN SOLUTION\n",
    "raise NotImplementedError()\n",
    "### END SOLUTION"
   ]
  },
  {
   "cell_type": "code",
   "execution_count": null,
   "metadata": {
    "tags": [
     "debug",
     "debug-3"
    ]
   },
   "outputs": [],
   "source": [
    "%autoreload 2\n",
    "# uncomment the line(s) below to debug\n",
    "from reverse_lower_and_upper_case_solution import reverse_lower_and_upper_case\n",
    "\n",
    "initial = ['test', 'PRACTICE']\n",
    "for _i in initial:\n",
    "    result = reverse_lower_and_upper_case(_i)\n",
    "    print(f\"The reverse case version of {_i} is {result}\")\n",
    "print(\"Execution finished\", \"\\u2713\")"
   ]
  },
  {
   "cell_type": "code",
   "execution_count": null,
   "metadata": {
    "tags": [
     "raises-exception",
     "tests",
     "tests-3"
    ]
   },
   "outputs": [],
   "source": [
    "%autoreload 2\n",
    "# test cell\n",
    "try:\n",
    "    import reverse_lower_and_upper_case_solution\n",
    "except:\n",
    "    raise ValueError(\"You did not execute your solution cell!\")\n",
    "try:\n",
    "    from reverse_lower_and_upper_case_solution import reverse_lower_and_upper_case\n",
    "except:\n",
    "    raise ValueError(\"Your solution does not contain the right function!\")\n",
    "\n",
    "test_cases = [('test', 'TEST'), \\\n",
    "    ('practice', 'PRACTICE'), \\\n",
    "    ('PRACTICE', 'practice'), \\\n",
    "    ('RESOURCE NOT GRANTED', 'resource not granted')]\n",
    "\n",
    "for _in, _out in test_cases:\n",
    "    _res = reverse_lower_and_upper_case(_in)\n",
    "    assert _res == _out, f\"The function should return the value `{_out}` of type \\\n",
    "`{type(_out)}`\\n but returned the value `{_res}` of type `{type(_res)}`.\"\n",
    "print(\"tests passed\", \"\\u2713\")"
   ]
  },
  {
   "cell_type": "code",
   "execution_count": null,
   "metadata": {
    "editable": true,
    "slideshow": {
     "slide_type": ""
    },
    "tags": [
     "quality",
     "quality-3",
     "raises-exception"
    ]
   },
   "outputs": [],
   "source": [
    "validate_python_code(\"reverse_lower_and_upper_case_solution.py\")\n",
    "print(\"code quality passed\", \"\\u2713\")"
   ]
  },
  {
   "cell_type": "markdown",
   "metadata": {},
   "source": [
    "### Problem 4\n",
    "\n",
    "Create a Python function called `mobile_number_validate` that receives a mobile number as a string and validates whether it is a correct mobile number (returning `True`) or not (returning `False`). \n",
    "\n",
    "Rules for mobile number:\n",
    "- string starts with either of `0`, `46`, or `+46`;\n",
    "- the remaining string has length 9 such that the first digit is between 1 to 9 and the other digits are between 0 to 9."
   ]
  },
  {
   "cell_type": "markdown",
   "metadata": {},
   "source": [
    "```\n",
    "# write here your pseudocode (not graded)\n",
    "\n",
    "# * pseudocode is necessary when asking for help during the lab\n",
    "```"
   ]
  },
  {
   "cell_type": "code",
   "execution_count": null,
   "metadata": {
    "tags": [
     "solution",
     "solution-6"
    ]
   },
   "outputs": [],
   "source": [
    "%%writefile mobile_number_validate_solution.py\n",
    "# solution cell\n",
    "### BEGIN SOLUTION\n",
    "raise NotImplementedError()\n",
    "### END SOLUTION"
   ]
  },
  {
   "cell_type": "code",
   "execution_count": 65,
   "metadata": {
    "tags": [
     "debug",
     "debug-6"
    ]
   },
   "outputs": [],
   "source": [
    "%autoreload 2\n",
    "# uncomment the line(s) below to debug\n",
    "# from mobile_number_validate_solution import mobile_number_validate\n",
    "\n",
    "# number = \"46102345678\" # Valid\n",
    "# valid = mobile_number_validate(number)\n",
    "# valid_string = \"valid\" if valid else \"invalid\"\n",
    "# print(f\"The mobile number {number} is {valid_string}\")\n",
    "# print(\"Execution finished\", \"\\u2713\")"
   ]
  },
  {
   "cell_type": "code",
   "execution_count": null,
   "metadata": {
    "tags": [
     "raises-exception",
     "tests",
     "tests-6"
    ]
   },
   "outputs": [],
   "source": [
    "%autoreload 2\n",
    "# test cell\n",
    "try:\n",
    "    import mobile_number_validate_solution\n",
    "except:\n",
    "    raise ValueError(\"You did not execute your solution cell!\")\n",
    "try:\n",
    "    from mobile_number_validate_solution import mobile_number_validate\n",
    "except:\n",
    "    raise ValueError(\"Your solution does not contain the right function!\")\n",
    "\n",
    "with open(\"mobile_number_validate_solution.py\", \"rt\", encoding=\"UTF-8\") as file:\n",
    "    for idl, line in enumerate(file.readlines()):\n",
    "        line = line.replace(\"\\n\", \"\")\n",
    "        assert \"import\" not in line, f\"You must not use any `import` statement. Found one in line {idl+1} with content `{line}`.\"\n",
    "\n",
    "test_cases = [('0061234567', False), ('+46061234567', False), ('123456789', False), \\\n",
    "    ('+465555', False), ('46123456789', True), ('+46761234567', True)]\n",
    "for _in, _out in test_cases:\n",
    "    _res = mobile_number_validate(_in)\n",
    "    assert _res == _out, f\"The function should return the value `{_out}` of type \\\n",
    "`{type(_out)}`\\n but returned the value `{_res}` of type `{type(_res)}`.\"\n",
    "\n",
    "print('tests passed', u'\\u2713')"
   ]
  },
  {
   "cell_type": "code",
   "execution_count": null,
   "metadata": {
    "tags": [
     "raises-exception",
     "quality",
     "quality-6"
    ]
   },
   "outputs": [],
   "source": [
    "validate_python_code(\"mobile_number_validate_solution.py\")\n",
    "print('tests passed', u'\\u2713')"
   ]
  }
 ],
 "metadata": {
  "assignment_list": [
   "1",
   "2",
   "3",
   "4",
   "5",
   "6",
   "7"
  ],
  "celltoolbar": "Create Assignment",
  "kernelspec": {
   "display_name": "venv",
   "language": "python",
   "name": "python3"
  },
  "language_info": {
   "codemirror_mode": {
    "name": "ipython",
    "version": 3
   },
   "file_extension": ".py",
   "mimetype": "text/x-python",
   "name": "python",
   "nbconvert_exporter": "python",
   "pygments_lexer": "ipython3",
   "version": "3.13.1"
  }
 },
 "nbformat": 4,
 "nbformat_minor": 4
}
