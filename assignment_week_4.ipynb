{
 "cells": [
  {
   "cell_type": "markdown",
   "id": "3e6601f6",
   "metadata": {
    "editable": false,
    "tags": []
   },
   "source": [
    "# EEN060 - Applied object-oriented programming\n",
    "\n",
    "\n",
    "Teacher: [Carlos Natalino](https://www.chalmers.se/en/persons/carda/) / Examiner: [Paolo Monti](https://www.chalmers.se/en/persons/mpaolo/)\n",
    "\n",
    "[Canvas course page](https://chalmers.instructure.com/courses/33383)\n",
    "\n",
    "[Course channel on Chalmers Play](https://play.chalmers.se/channel/EEN060_EEN065_Applied_object-oriented_programming/300149)\n",
    "\n",
    "Before you turn this assignment list in, make sure everything runs as expected.\n",
    "First, **restart the kernel** and then **run all cells**.\n",
    "Then, check if all the tests run correctly.\n",
    "Note that if one of the problems present an error, the following ones **will not** be tested.\n",
    "\n",
    "In case of discrepancies between the problem command and the tests, you should solve it having in mind the tests.\n",
    "\n",
    "There are two types of cell:\n",
    "1. *solution cells:* These are the cells where you write your answer, or modify the existing code to solve the problem.\n",
    "2. *test cells:* These cells are used to test whether your solution is correct or not. If the tests run correctly, you should see a message `tests passed`. Otherwise, you should see an error message.\n",
    "3. *code quality tests:* These cells tests whether your solution adheres to the code quality rules of the course.\n",
    "\n",
    "The code quality tests require you to be connected to the Chalmers network, either through Eduroam or through the VPN.\n",
    "You can find more information [here](https://chalmers.topdesk.net/tas/public/ssp/content/search?q=KB+1678).\n",
    "\n",
    "**Delete** the line `raise NotImplementedError()` from the problems that you solve.\n",
    "\n",
    "**Do not delete or add any cell in this file.** All cells that you need are already in place.\n",
    "\n",
    "If you want to execute a cell, select the cell and press **CTRL+Enter** (in Windows) or **CMD+Enter** (in macOS) or click on the **Run cell** button.\n"
   ]
  },
  {
   "cell_type": "markdown",
   "id": "701067df",
   "metadata": {
    "editable": false,
    "tags": []
   },
   "source": [
    "## Assignment Week 4\n",
    "\n",
    "In this assignment, students should practice:\n",
    "- how to use Visual Studio Code\n",
    "- how to download, solve and submit programming assignments\n",
    "- how to create functions\n",
    "- start getting familiar with Python\n",
    "- how to manipulate variables\n",
    "- how to use math operations\n",
    "- how to output the results\n",
    "- understand different types of variables\n",
    "- understand the code quality validation\n",
    "\n",
    "**Observations:**\n",
    "For the problems in this assignment, you should:\n",
    "- use only the math operations studied in the lecture notes (i.e., no advanced functions allowed).\n",
    "- not use external modules, i.e., `import` command is not allowed in your solutions.\n",
    "- make sure that your `utils.py` file has the following line.\n",
    "- you will find the set of references needed to solve this assignment in the assignment page in canvas.\n",
    "\n",
    "**Preparation:** Run the cell below every time you start working on this file, and every time you restart the kernel."
   ]
  },
  {
   "cell_type": "code",
   "execution_count": 44,
   "id": "51d4b424",
   "metadata": {
    "checksum": "2ba52c260aa11f167f534ef7c20239ec",
    "editable": false,
    "execution": {
     "iopub.execute_input": "2025-02-06T21:18:28.909847Z",
     "iopub.status.busy": "2025-02-06T21:18:28.909632Z",
     "iopub.status.idle": "2025-02-06T21:18:28.989381Z",
     "shell.execute_reply": "2025-02-06T21:18:28.989087Z"
    },
    "tags": [
     "load",
     "raises-exception"
    ]
   },
   "outputs": [
    {
     "name": "stdout",
     "output_type": "stream",
     "text": [
      "The autoreload extension is already loaded. To reload it, use:\n",
      "  %reload_ext autoreload\n"
     ]
    }
   ],
   "source": [
    "%load_ext autoreload\n",
    "# check if this file is within the same folder as the `utils.py` file.\n",
    "import os\n",
    "import sys\n",
    "\n",
    "if not os.path.exists(\"utils.py\"):\n",
    "    print(\"It seems this file is in the wrong folder. \"\n",
    "          \"Make sure to place it in the `programming-assignments` folder/project.\",\n",
    "          file=sys.stderr)\n",
    "\n",
    "from utils import validate_python_code"
   ]
  },
  {
   "cell_type": "code",
   "execution_count": 45,
   "id": "2fba93ab",
   "metadata": {
    "checksum": "44b40251775e704b5acd7020081e45f5",
    "editable": false,
    "tags": [
     "check-venv",
     "raises-exception"
    ]
   },
   "outputs": [
    {
     "name": "stdout",
     "output_type": "stream",
     "text": [
      "Version: 3.10.9 (main, Mar  1 2023, 12:33:47) [Clang 14.0.6 ]\n",
      "Executable (virtual env): /Users/yousef/Desktop/Programming/Programming-assignments/venv/bin/python\n",
      "Current folder: /Users/yousef/Desktop/Programming/Programming-assignments\n",
      "Datetime: 2025-02-18 08:59:46.354073\n",
      "User: yousef\n"
     ]
    }
   ],
   "source": [
    "import datetime\n",
    "import getpass\n",
    "import os\n",
    "import sys\n",
    "\n",
    "# check if the virtual env is correct\n",
    "venv_path = os.path.abspath(sys.executable)\n",
    "cur_path = os.path.abspath(os.getcwd())\n",
    "\n",
    "print(\"Version:\", sys.version)\n",
    "print(\"Executable (virtual env):\", sys.executable)\n",
    "print(\"Current folder:\", os.getcwd())\n",
    "print(\"Datetime:\", datetime.datetime.now())\n",
    "print(\"User:\", getpass.getuser())\n",
    "\n",
    "assert os.path.commonpath([venv_path, cur_path]) == cur_path, \\\n",
    "    \"It seems like this file is being executed with the wrong virtual environment.\"\n",
    "\n",
    "del datetime, getpass, os, sys"
   ]
  },
  {
   "cell_type": "markdown",
   "id": "b1a00aba",
   "metadata": {
    "editable": false
   },
   "source": [
    "### Task 1\n",
    "\n",
    "Create a function called `assignment_points` that receives a list containing __seven__ string items as parameter.\n",
    "The value of each item is either `Approved` or `Not Approved`.\n",
    "Each value in the list represents whether a particular assignment is approved or not.\n",
    "The function then returns a float that represents the number of assignment points obtained according to the scale defined in the [course PM](https://chalmers.instructure.com/courses/33383#:~:text=1%20AP,15%20APs).\n",
    "\n",
    "Make sure to return `0` if no assignment is approved, i.e., when you recieve `[\"Not Approved\",\"Not Approved\",\"Not Approved\",\"Not Approved\",\"Not Approved\",\"Not Approved\",\"Not Approved\"]`.\n",
    "Also return `0` if the number of items in the received list is not 7.\n",
    "\n",
    "**Note**: This task is the same as Problem 1 in the last assignment, with the only difference being the input format. Whereas in last assignment you were given the number of approved assignment, now you need to calculate this number based on the input list."
   ]
  },
  {
   "cell_type": "markdown",
   "id": "f716420b",
   "metadata": {
    "editable": false
   },
   "source": [
    "```\n",
    "# write here your pseudocode (not graded)\n",
    "\n",
    "# * pseudocode is necessary when asking for help during the lab\n",
    "```"
   ]
  },
  {
   "cell_type": "code",
   "execution_count": 62,
   "id": "fb770873",
   "metadata": {
    "editable": true,
    "execution": {
     "iopub.execute_input": "2025-02-06T21:18:07.947754Z",
     "iopub.status.busy": "2025-02-06T21:18:07.947660Z",
     "iopub.status.idle": "2025-02-06T21:18:07.956732Z",
     "shell.execute_reply": "2025-02-06T21:18:07.956531Z"
    },
    "tags": [
     "solution",
     "solution-1"
    ]
   },
   "outputs": [
    {
     "name": "stdout",
     "output_type": "stream",
     "text": [
      "Overwriting assignment_points_solution.py\n"
     ]
    }
   ],
   "source": [
    "%%writefile assignment_points_solution.py\n",
    "# solution cell\n",
    "def assignment_points(list_string: list[str]) -> float:\n",
    "    if len(list_string) != 7:\n",
    "        return 0.0\n",
    "    approved_count = 0\n",
    "    for item in list_string:\n",
    "        if item == \"Approved\":\n",
    "            approved_count += 1\n",
    "    points_mapping = {0: 0.0, 1: 1.0, 2: 2.0, 3: 4.0, 4: 6.0, 5: 9.0, 6: 11.0, 7: 15.0}\n",
    "    return points_mapping[approved_count]\n"
   ]
  },
  {
   "cell_type": "code",
   "execution_count": 63,
   "id": "ebfe79ce",
   "metadata": {
    "editable": true,
    "execution": {
     "iopub.execute_input": "2025-02-06T21:18:07.934572Z",
     "iopub.status.busy": "2025-02-06T21:18:07.934484Z",
     "iopub.status.idle": "2025-02-06T21:18:07.946619Z",
     "shell.execute_reply": "2025-02-06T21:18:07.946403Z"
    },
    "tags": [
     "debug",
     "debug-1"
    ]
   },
   "outputs": [
    {
     "name": "stdout",
     "output_type": "stream",
     "text": [
      "The assignment points are 11.0\n",
      "Execution finished ✓\n"
     ]
    }
   ],
   "source": [
    "%autoreload 2\n",
    "# uncomment the line(s) below to debug\n",
    "from assignment_points_solution import assignment_points\n",
    "\n",
    "assignments = [\"Not Approved\",\"Approved\",\"Approved\",\"Approved\",\"Approved\",\"Approved\",\"Approved\"]\n",
    "ap = assignment_points(assignments)\n",
    "print(f\"The assignment points are {ap}\")\n",
    "print(\"Execution finished\", \"\\u2713\")"
   ]
  },
  {
   "cell_type": "code",
   "execution_count": 64,
   "id": "0a843fac",
   "metadata": {
    "checksum": "d7072ec622a526925a93d5771d293a51",
    "editable": false,
    "tags": [
     "raises-exception",
     "tests-1"
    ]
   },
   "outputs": [
    {
     "name": "stdout",
     "output_type": "stream",
     "text": [
      "tests passed ✓\n"
     ]
    }
   ],
   "source": [
    "%autoreload 2\n",
    "# test cell\n",
    "try:\n",
    "    import assignment_points_solution\n",
    "except:\n",
    "    raise ValueError(\"You did not execute your solution cell!\")\n",
    "try:\n",
    "    from assignment_points_solution import assignment_points\n",
    "except:\n",
    "    raise ValueError(\"Your solution does not contain the right function!\")\n",
    "\n",
    "test_cases = [([\"Approved\",\"Approved\",\"Approved\",\"Not Approved\",\"Approved\", \\\n",
    "            \"Approved\",\"Approved\"], 11.0), \\\n",
    "        ([\"Approved\",\"Approved\",\"Approved\",\"Not Approved\",\"Approved\", \\\n",
    "        \"Approved\",\"Approved\",\"Approved\"], 0.0), \\\n",
    "        ([\"Approved\",\"Approved\",\"Approved\",\"Not Approved\",\"Approved\", \\\n",
    "            \"Approved\"], 0.0), \\\n",
    "        ([\"Approved\",\"Approved\",\"Approved\",\"Approved\",\"Approved\",\"Approved\", \\\n",
    "            \"Approved\"], 15.0), \\\n",
    "        ([\"Approved\",\"Approved\",\"Approved\",\"Not Approved\", \\\n",
    "            \"Not Approved\",\"Not Approved\",\"Approved\"], 6.0), \\\n",
    "        ([\"Not Approved\",\"Not Approved\",\"Not Approved\",\"Not Approved\", \\\n",
    "            \"Not Approved\",\"Not Approved\",\"Approved\"], 1.0), \\\n",
    "        ([\"Not Approved\",\"Not Approved\",\"Not Approved\",\"Not Approved\", \\\n",
    "            \"Not Approved\",\"Not Approved\",\"Not Approved\"], 0.0)]\n",
    "\n",
    "for _in, _out in test_cases:\n",
    "    _res = assignment_points(_in)\n",
    "    assert _res == _out, f\"The function with input \\n`{_in}` ({len(_in)} items)\\nshould return the value \\\n",
    "`{_out}` of type `{type(_out)}`\\nbut returned the value `{_res}` of type `{type(_res)}`.\"\n",
    "\n",
    "print(\"tests passed\", \"\\u2713\")"
   ]
  },
  {
   "cell_type": "code",
   "execution_count": 65,
   "id": "9f927ffa",
   "metadata": {
    "checksum": "a507855d152bada62fb9146e5eb89d74",
    "editable": false,
    "execution": {
     "iopub.execute_input": "2025-02-06T21:18:07.957806Z",
     "iopub.status.busy": "2025-02-06T21:18:07.957723Z",
     "iopub.status.idle": "2025-02-06T21:18:08.831137Z",
     "shell.execute_reply": "2025-02-06T21:18:08.830132Z"
    },
    "tags": [
     "quality-1",
     "raises-exception"
    ]
   },
   "outputs": [
    {
     "data": {
      "text/html": [
       "<div class=\"tip admonition\">\n",
       "<p class=\"admonition-title\">Code Quality Analysis: <span style=\"color: green\">Pass</span></p><p>*No problem was found*\n",
       "</p>\n",
       "    </div>"
      ],
      "text/plain": [
       "<IPython.core.display.HTML object>"
      ]
     },
     "metadata": {},
     "output_type": "display_data"
    }
   ],
   "source": [
    "validate_python_code(\"assignment_points_solution.py\")"
   ]
  },
  {
   "cell_type": "markdown",
   "id": "bb6ac496",
   "metadata": {
    "editable": false
   },
   "source": [
    "### Task 2\n",
    "\n",
    "Create a Python function named `reverse_lower_and_upper_case` that receives a list of strings as a parameter.\n",
    "The function must iterate over each element in the list and reverse the case of string.\n",
    "That is, if an element is in upper case, then convert it to lower case.\n",
    "If it is in lower case, then convert it to upper case.\n",
    "\n",
    "**Note**: This task is the same as Problem 3 in the last assignment, with the only difference being the input format. Whereas in last assignment you were asked to change the case of only one string, now you need to change the case of all the strings in a list.\n",
    "\n",
    "**Examples**\n",
    "\n",
    "Input: ['test', 'PRACTICE']\n",
    "\n",
    "Output: ['TEST', 'practice']\n",
    "\n",
    "Explanation: Here 'test' is in lower case, so we converted it to upper case and 'PRACTICE' is in upper case so we converted it into lower case."
   ]
  },
  {
   "cell_type": "markdown",
   "id": "e23f75a4",
   "metadata": {
    "editable": false
   },
   "source": [
    "```\n",
    "# write here your pseudocode (not graded)\n",
    "\n",
    "# * pseudocode is necessary when asking for help during the lab\n",
    "```"
   ]
  },
  {
   "cell_type": "code",
   "execution_count": 70,
   "id": "54ff9f56",
   "metadata": {
    "editable": true,
    "execution": {
     "iopub.execute_input": "2025-02-06T21:18:09.737022Z",
     "iopub.status.busy": "2025-02-06T21:18:09.736915Z",
     "iopub.status.idle": "2025-02-06T21:18:09.744018Z",
     "shell.execute_reply": "2025-02-06T21:18:09.743787Z"
    },
    "tags": [
     "solution",
     "solution-2"
    ]
   },
   "outputs": [
    {
     "name": "stdout",
     "output_type": "stream",
     "text": [
      "Overwriting reverse_lower_and_upper_case_solution.py\n"
     ]
    }
   ],
   "source": [
    "%%writefile reverse_lower_and_upper_case_solution.py\n",
    "# solution cell\n",
    "### BEGIN SOLUTION\n",
    "def reverse_lower_and_upper_case(strings: list[str]) -> list[str]:\n",
    "    reversed_list = []\n",
    "\n",
    "    for word in strings:\n",
    "        if word.isupper():\n",
    "            reversed_list.append(word.lower())\n",
    "        elif word.islower():\n",
    "            reversed_list.append(word.upper())\n",
    "        else:\n",
    "            reversed_list.append(word)\n",
    "    return reversed_list"
   ]
  },
  {
   "cell_type": "code",
   "execution_count": 71,
   "id": "05e07233",
   "metadata": {
    "editable": true,
    "execution": {
     "iopub.execute_input": "2025-02-06T21:18:09.719418Z",
     "iopub.status.busy": "2025-02-06T21:18:09.719312Z",
     "iopub.status.idle": "2025-02-06T21:18:09.735817Z",
     "shell.execute_reply": "2025-02-06T21:18:09.735564Z"
    },
    "tags": [
     "debug",
     "debug-2"
    ]
   },
   "outputs": [
    {
     "name": "stdout",
     "output_type": "stream",
     "text": [
      "The reverse case version of ['test', 'PRACTICE'] is ['TEST', 'practice']\n",
      "Execution finished ✓\n"
     ]
    }
   ],
   "source": [
    "%autoreload 2\n",
    "# uncomment the line(s) below to debug\n",
    "from reverse_lower_and_upper_case_solution import reverse_lower_and_upper_case\n",
    "\n",
    "initial = ['test', 'PRACTICE']\n",
    "result = reverse_lower_and_upper_case(initial)\n",
    "print(f\"The reverse case version of {initial} is {result}\")\n",
    "print(\"Execution finished\", \"\\u2713\")"
   ]
  },
  {
   "cell_type": "code",
   "execution_count": 72,
   "id": "6640b9a5",
   "metadata": {
    "checksum": "59fb499da73ee0495aaa0a1227b0fd7f",
    "editable": false,
    "tags": [
     "tests-2",
     "raises-exception"
    ]
   },
   "outputs": [
    {
     "name": "stdout",
     "output_type": "stream",
     "text": [
      "tests passed ✓\n"
     ]
    }
   ],
   "source": [
    "%autoreload 2\n",
    "# test cell\n",
    "try:\n",
    "    import reverse_lower_and_upper_case_solution\n",
    "except:\n",
    "    raise ValueError(\"You did not execute your solution cell!\")\n",
    "try:\n",
    "    from reverse_lower_and_upper_case_solution import reverse_lower_and_upper_case\n",
    "except:\n",
    "    raise ValueError(\"Your solution does not contain the right function!\")\n",
    "\n",
    "test_cases = [(['test', 'PRACTICE'], ['TEST', 'practice']), \\\n",
    "    (['TEST', 'practice'], ['test', 'PRACTICE']), \\\n",
    "    (['TEST', 'PRACTICE'], ['test', 'practice']), \\\n",
    "    (['resource granted', 'RESOURCE NOT GRANTED', 'grattis'], \\\n",
    "    ['RESOURCE GRANTED', 'resource not granted', 'GRATTIS'])]\n",
    "\n",
    "for _in, _out in test_cases:\n",
    "    _res = reverse_lower_and_upper_case(_in)\n",
    "    assert _res == _out, f\"The function received value\\n`{_in}`\\nand should return the value `{_out}` of type \\\n",
    "`{type(_out)}`\\n but returned the value `{_res}` of type `{type(_res)}`.\"\n",
    "print(\"tests passed\", \"\\u2713\")"
   ]
  },
  {
   "cell_type": "code",
   "execution_count": 73,
   "id": "75b2c20f",
   "metadata": {
    "checksum": "996d7932e835c46ae14ad821fdf2c414",
    "editable": false,
    "execution": {
     "iopub.execute_input": "2025-02-06T21:18:09.745168Z",
     "iopub.status.busy": "2025-02-06T21:18:09.745088Z",
     "iopub.status.idle": "2025-02-06T21:18:10.575997Z",
     "shell.execute_reply": "2025-02-06T21:18:10.575410Z"
    },
    "tags": [
     "quality-2",
     "raises-exception"
    ]
   },
   "outputs": [
    {
     "data": {
      "text/html": [
       "<div class=\"tip admonition\">\n",
       "<p class=\"admonition-title\">Code Quality Analysis: <span style=\"color: green\">Pass</span></p><p>*No problem was found*\n",
       "</p>\n",
       "    </div>"
      ],
      "text/plain": [
       "<IPython.core.display.HTML object>"
      ]
     },
     "metadata": {},
     "output_type": "display_data"
    }
   ],
   "source": [
    "validate_python_code(\"reverse_lower_and_upper_case_solution.py\")"
   ]
  },
  {
   "cell_type": "markdown",
   "id": "df23d109",
   "metadata": {
    "editable": false
   },
   "source": [
    "### Task 3\n",
    "\n",
    "Create a Python function named `age_counter`.\n",
    "It receives __one string__ as parameter.\n",
    "The string contains name and age of people, separated by commas as shown below: \n",
    "\n",
    "`\"James = 20, Rock = 32, Fred = 20\"`\n",
    "\n",
    "The function must return a dictionary where each unique age becomes the key (integer), and the value associated with the key is the number of people with that given age in the input. The function must also print an integer representing the number of people within the age 20 to 30 (both inclusive).\n",
    "\n",
    "**Note:**\n",
    "- The equal sign, commas, and spaces must not be considered (i.e., must be removed from the text).\n",
    "- Knowing in which stage to remove the equal sign, commas, and spaces, it one of the knowledge to be acquired in this task.\n",
    "- You must not use external functions to solve this problem, i.e., you must not use the `import` command."
   ]
  },
  {
   "cell_type": "markdown",
   "id": "4a5d2490",
   "metadata": {
    "editable": false
   },
   "source": [
    "```\n",
    "# write here your pseudocode (not graded)\n",
    "\n",
    "# * pseudocode is necessary when asking for help during the lab\n",
    "```"
   ]
  },
  {
   "cell_type": "code",
   "execution_count": 86,
   "id": "e8517b7c",
   "metadata": {
    "editable": true,
    "execution": {
     "iopub.execute_input": "2025-02-06T21:18:11.598751Z",
     "iopub.status.busy": "2025-02-06T21:18:11.598657Z",
     "iopub.status.idle": "2025-02-06T21:18:11.654723Z",
     "shell.execute_reply": "2025-02-06T21:18:11.654403Z"
    },
    "tags": [
     "solution",
     "solution-3"
    ]
   },
   "outputs": [
    {
     "name": "stdout",
     "output_type": "stream",
     "text": [
      "Overwriting age_counter_solution.py\n"
     ]
    }
   ],
   "source": [
    "%%writefile age_counter_solution.py\n",
    "# solution cell\n",
    "def age_counter(data: str) -> dict[int, int]:\n",
    "    age_dict: dict[int, int] = {}\n",
    "\n",
    "    count_20_30 = 0\n",
    "\n",
    "    data = data.replace(\" \", \"\")\n",
    "    people = data.split(\",\")\n",
    "\n",
    "    for person in people:\n",
    "        name, age_str = person.split(\"=\")\n",
    "        age = int(age_str)\n",
    "\n",
    "        if age in age_dict:\n",
    "            age_dict[age] += 1\n",
    "        else:\n",
    "            age_dict[age] = 1\n",
    "        if 20 <= age <= 30:\n",
    "            count_20_30 += 1\n",
    "    print(count_20_30)\n",
    "    return age_dict"
   ]
  },
  {
   "cell_type": "code",
   "execution_count": 87,
   "id": "8e23a74e",
   "metadata": {
    "editable": true,
    "execution": {
     "iopub.execute_input": "2025-02-06T21:18:11.580192Z",
     "iopub.status.busy": "2025-02-06T21:18:11.580079Z",
     "iopub.status.idle": "2025-02-06T21:18:11.597510Z",
     "shell.execute_reply": "2025-02-06T21:18:11.597244Z"
    },
    "tags": [
     "debug",
     "debug-3"
    ]
   },
   "outputs": [
    {
     "name": "stdout",
     "output_type": "stream",
     "text": [
      "Number of people within age 20 to 30 is\n",
      "8\n",
      "Age statistics are:\n",
      " {25: 3,\n",
      " 31: 1,\n",
      " 22: 3,\n",
      " 28: 1,\n",
      " 35: 1,\n",
      " 27: 1}\n",
      "Execution finished ✓\n"
     ]
    }
   ],
   "source": [
    "%autoreload 2\n",
    "#uncomment the line(s) below to debug\n",
    "from age_counter_solution import age_counter\n",
    "\n",
    "text = \"Alice = 25, Bob = 31, Charlie = 22, David = 22, Emma = 28, \\\n",
    "         Frank = 35, Grace = 25, Harry = 25, Isabella = 22, Jack = 27\"\n",
    "print(\"Number of people within age 20 to 30 is\")\n",
    "age_count = age_counter(text)\n",
    "print(\"Age statistics are:\\n\",str(dict(age_count)).replace(', ',',\\n '))\n",
    "print(\"Execution finished\", \"\\u2713\")"
   ]
  },
  {
   "cell_type": "code",
   "execution_count": 88,
   "id": "ce6627b5",
   "metadata": {
    "checksum": "cb3ec42f895da86442027fc69ddc41c8",
    "editable": false,
    "tags": [
     "raises-exception",
     "tests-3"
    ]
   },
   "outputs": [
    {
     "name": "stdout",
     "output_type": "stream",
     "text": [
      "tests passed ✓\n"
     ]
    }
   ],
   "source": [
    "%autoreload 2\n",
    "# test cell\n",
    "try:\n",
    "    import age_counter_solution\n",
    "except:\n",
    "    raise ValueError(\"You did not execute your solution cell!\")\n",
    "try:\n",
    "    from age_counter_solution import age_counter\n",
    "except:\n",
    "    raise ValueError(\"Your solution does not contain the right function!\")\n",
    "\n",
    "with open(\"age_counter_solution.py\", \"rt\", encoding=\"UTF-8\") as file:\n",
    "    for idl, line in enumerate(file.readlines()):\n",
    "        line = line.replace(\"\\n\", \"\")\n",
    "        assert \"import\" not in line, f\"You must not use any `import` statement. \\\n",
    "Found one in line {idl+1} with content `{line}`.\"\n",
    "\n",
    "from unittest.mock import patch\n",
    "from io import StringIO\n",
    "\n",
    "test_cases = [(\"Alice = 25, Bob = 31, Charlie = 22, David = 22, Emma = 28, \\\n",
    "        Frank = 35, Grace = 25, Harry = 25, Isabella = 22, Jack = 27\", \\\n",
    "            {25: 3, 31: 1, 22: 3, 28: 1, 35: 1, 27: 1}, \"8\"), \\\n",
    "    (\"Sophia = 24, Olivia = 28, Liam = 32, Noah = 24, \\\n",
    "        Emily = 28, Ava = 24, Benjamin = 35, Mia = 31, Elijah = 28, Harper = 28\", \\\n",
    "            {24: 3, 28: 4, 32: 1, 35: 1, 31: 1}, \"7\")]\n",
    "for _in, _out, _print in test_cases:\n",
    "    with patch(\"sys.stdout\", new=StringIO()) as fakeOutput:\n",
    "        _res = age_counter(_in)\n",
    "        assert _res == _out, f\"The function received input\\n`{_in}`\\nand should return the value `{_out}` of type \\\n",
    "`{type(_out)}`\\n but returned the value `{_res}` of type `{type(_res)}`.\"\n",
    "        assert fakeOutput.getvalue().strip() == _print, f\"For the received input \\\n",
    "received input\\n`{_in}`\\nthe function should print \\\n",
    "the value `{_print}` but printed the value `{fakeOutput.getvalue().strip()}`.\"\n",
    "\n",
    "print(\"tests passed\", \"\\u2713\")"
   ]
  },
  {
   "cell_type": "code",
   "execution_count": 89,
   "id": "178c6d8c",
   "metadata": {
    "checksum": "a20a06d9d2eb2b3953dbd43469c6d977",
    "editable": false,
    "execution": {
     "iopub.execute_input": "2025-02-06T21:18:11.656130Z",
     "iopub.status.busy": "2025-02-06T21:18:11.656028Z",
     "iopub.status.idle": "2025-02-06T21:18:12.720250Z",
     "shell.execute_reply": "2025-02-06T21:18:12.719541Z"
    },
    "tags": [
     "quality-3",
     "raises-exception"
    ]
   },
   "outputs": [
    {
     "data": {
      "text/html": [
       "<div class=\"tip admonition\">\n",
       "<p class=\"admonition-title\">Code Quality Analysis: <span style=\"color: green\">Pass</span></p><p>*No problem was found*\n",
       "</p>\n",
       "    </div>"
      ],
      "text/plain": [
       "<IPython.core.display.HTML object>"
      ]
     },
     "metadata": {},
     "output_type": "display_data"
    }
   ],
   "source": [
    "validate_python_code(\"age_counter_solution.py\")"
   ]
  },
  {
   "cell_type": "markdown",
   "id": "dd3a8a0f",
   "metadata": {
    "editable": false
   },
   "source": [
    "### Task 4\n",
    "\n",
    "Create a Python function called `numbers_and_bools` that receives a list as parameter.\n",
    "The list may contain numbers (integers or floats), or boolean values, or strings.\n",
    "\n",
    "The function must return two lists.\n",
    "The first list must contain all the boolean values.\n",
    "The second list must contain all the numbers (integers and floats) from the received list. \n",
    "The strings must be ignored.\n",
    "\n",
    "If there are no boolean values or numbers in the list, the function must return empty lists, accordingly."
   ]
  },
  {
   "cell_type": "markdown",
   "id": "ac39c861",
   "metadata": {
    "editable": false
   },
   "source": [
    "```\n",
    "# write here your pseudocode (not graded)\n",
    "\n",
    "# * pseudocode is necessary when asking for help during the lab\n",
    "```"
   ]
  },
  {
   "cell_type": "code",
   "execution_count": 119,
   "id": "8e2dcdc5",
   "metadata": {
    "editable": true,
    "execution": {
     "iopub.execute_input": "2025-02-06T21:18:13.535272Z",
     "iopub.status.busy": "2025-02-06T21:18:13.535179Z",
     "iopub.status.idle": "2025-02-06T21:18:13.541858Z",
     "shell.execute_reply": "2025-02-06T21:18:13.541560Z"
    },
    "tags": [
     "solution",
     "solution-4"
    ]
   },
   "outputs": [
    {
     "name": "stdout",
     "output_type": "stream",
     "text": [
      "Overwriting numbers_and_bools_solution.py\n"
     ]
    }
   ],
   "source": [
    "%%writefile numbers_and_bools_solution.py\n",
    "# solution cell\n",
    "from typing import List, Tuple, Union\n",
    "\n",
    "\n",
    "def numbers_and_bools(\n",
    "    lst: List[Union[int, float, bool, str]],\n",
    ") -> Tuple[List[bool], List[Union[int, float]]]:\n",
    "    bool_list: List[bool] = []\n",
    "    num_list: List[Union[int, float]] = []\n",
    "\n",
    "    for item in lst:\n",
    "        if isinstance(item, bool):\n",
    "            bool_list.append(item)\n",
    "        elif isinstance(item, (int, float)) and not isinstance(item, bool):\n",
    "            num_list.append(item)\n",
    "\n",
    "    return bool_list, num_list"
   ]
  },
  {
   "cell_type": "code",
   "execution_count": 120,
   "id": "ca9f2be1",
   "metadata": {
    "editable": true,
    "execution": {
     "iopub.execute_input": "2025-02-06T21:18:13.520110Z",
     "iopub.status.busy": "2025-02-06T21:18:13.520005Z",
     "iopub.status.idle": "2025-02-06T21:18:13.534224Z",
     "shell.execute_reply": "2025-02-06T21:18:13.534016Z"
    },
    "tags": [
     "debug",
     "debug-4"
    ]
   },
   "outputs": [
    {
     "name": "stdout",
     "output_type": "stream",
     "text": [
      "The set of values: ['this', 10.0, 'is', 90.0, 'my', 45.0, 'Python', 12, 'code', 44.9]\n",
      "Results in bools: []\n",
      "and numbers: [10.0, 90.0, 45.0, 12, 44.9]\n",
      "Execution finished ✓\n"
     ]
    }
   ],
   "source": [
    "%autoreload 2\n",
    "# uncomment the line(s) below to debug\n",
    "from numbers_and_bools_solution import numbers_and_bools\n",
    "\n",
    "data_structure = [True, 10., False, 90., True, 45., True, 12, -1.2, 44.9]\n",
    "data_structure = ['this', 10., 'is', 90., 'my', 45., 'Python', 12, 'code', 44.9]\n",
    "result = numbers_and_bools(data_structure)\n",
    "print(f\"The set of values: {data_structure}\")\n",
    "print(f\"Results in bools: {result[0]}\")\n",
    "print(f\"and numbers: {result[1]}\")\n",
    "print(\"Execution finished\", u\"\\u2713\")"
   ]
  },
  {
   "cell_type": "code",
   "execution_count": 121,
   "id": "405dceff",
   "metadata": {
    "checksum": "0460cf50d3619d08bb2a6e24b1754cab",
    "editable": false,
    "tags": [
     "raises-exception",
     "tests-4"
    ]
   },
   "outputs": [
    {
     "name": "stdout",
     "output_type": "stream",
     "text": [
      "tests passed ✓\n"
     ]
    }
   ],
   "source": [
    "%autoreload 2\n",
    "# test cell\n",
    "try:\n",
    "    import numbers_and_bools_solution\n",
    "except:\n",
    "    raise ValueError(\"You did not execute your solution cell!\")\n",
    "try:\n",
    "    from numbers_and_bools_solution import numbers_and_bools\n",
    "except:\n",
    "    raise ValueError(\"Your solution does not contain the right function!\")\n",
    "\n",
    "with open(\"numbers_and_bools_solution.py\", \"rt\", encoding=\"UTF-8\") as file:\n",
    "    for idl, line in enumerate(file.readlines()):\n",
    "        line = line.replace(\"\\n\", \"\")\n",
    "        assert (\"import\" not in line) or (\"import\" in line and \"typing\" in line), \\\n",
    "            f\"You must not use any `import` statement, unless for the `typing` module. \\\n",
    "Found one in line {idl+1} with content `{line}`.\"\n",
    "\n",
    "test_cases = [([True, 10., False, 90., True, 45., True, 12, -1.2, 44.9], \\\n",
    "    ([True, False, True, True], [10.0, 90.0, 45.0, 12, -1.2, 44.9])), \\\n",
    "        (['this', 10., 'is', 90., 'another', 45., 'case', 12, 'test', 44.9], \\\n",
    "    ([], [10.0, 90.0, 45.0, 12, 44.9]))]\n",
    "for _in, _out in test_cases:\n",
    "    _res = numbers_and_bools(_in)\n",
    "    assert _res == _out, f\"The function received the input\\n`{_in}`\\nand should return the value `{_out}`\\\n",
    "\\n but returned the value `{_res}`.\"\n",
    "\n",
    "print('tests passed', u'\\u2713')"
   ]
  },
  {
   "cell_type": "code",
   "execution_count": 122,
   "id": "068fa6d1",
   "metadata": {
    "checksum": "5ee066dcbf3a32c0f3382b288f2e18ae",
    "editable": false,
    "execution": {
     "iopub.execute_input": "2025-02-06T21:18:13.543003Z",
     "iopub.status.busy": "2025-02-06T21:18:13.542921Z",
     "iopub.status.idle": "2025-02-06T21:18:15.232758Z",
     "shell.execute_reply": "2025-02-06T21:18:15.232356Z"
    },
    "tags": [
     "raises-exception",
     "quality-4"
    ]
   },
   "outputs": [
    {
     "data": {
      "text/html": [
       "<div class=\"tip admonition\">\n",
       "<p class=\"admonition-title\">Code Quality Analysis: <span style=\"color: green\">Pass</span></p><p>*No problem was found*\n",
       "</p>\n",
       "    </div>"
      ],
      "text/plain": [
       "<IPython.core.display.HTML object>"
      ]
     },
     "metadata": {},
     "output_type": "display_data"
    }
   ],
   "source": [
    "validate_python_code(\"numbers_and_bools_solution.py\")"
   ]
  },
  {
   "cell_type": "markdown",
   "id": "3e057c7e",
   "metadata": {
    "editable": false
   },
   "source": [
    "### Task 5\n",
    "\n",
    "Create a Python function called `gm_median` that receives a list of numbers (`int` or `float`) as parameter.\n",
    "The function should return the geometric mean, and the median of the elements in the list, computed using the module `statistics`.\n",
    "The result should be returned as a `tuple`."
   ]
  },
  {
   "cell_type": "markdown",
   "id": "fd13c745",
   "metadata": {
    "editable": false
   },
   "source": [
    "```\n",
    "# write here your pseudocode (not graded)\n",
    "\n",
    "# * pseudocode is necessary when asking for help during the lab\n",
    "```"
   ]
  },
  {
   "cell_type": "code",
   "execution_count": 131,
   "id": "d9338483",
   "metadata": {
    "editable": true,
    "execution": {
     "iopub.execute_input": "2025-02-06T21:18:16.162439Z",
     "iopub.status.busy": "2025-02-06T21:18:16.162344Z",
     "iopub.status.idle": "2025-02-06T21:18:16.175643Z",
     "shell.execute_reply": "2025-02-06T21:18:16.175408Z"
    },
    "tags": [
     "solution",
     "solution-5"
    ]
   },
   "outputs": [
    {
     "name": "stdout",
     "output_type": "stream",
     "text": [
      "Overwriting gm_median_solution.py\n"
     ]
    }
   ],
   "source": [
    "%%writefile gm_median_solution.py\n",
    "# solution cell\n",
    "import statistics\n",
    "from typing import List, Tuple\n",
    "\n",
    "\n",
    "def gm_median(numbers: List[float]) -> Tuple[float, float]:\n",
    "    \"\"\"Calculates the geometric mean and median of a list of numbers.\"\"\"\n",
    "    geometric_mean = statistics.geometric_mean(numbers)\n",
    "    median = statistics.median(numbers)\n",
    "    return geometric_mean, median\n"
   ]
  },
  {
   "cell_type": "code",
   "execution_count": 132,
   "id": "7bdd4590",
   "metadata": {
    "editable": true,
    "execution": {
     "iopub.execute_input": "2025-02-06T21:18:16.139122Z",
     "iopub.status.busy": "2025-02-06T21:18:16.139034Z",
     "iopub.status.idle": "2025-02-06T21:18:16.161149Z",
     "shell.execute_reply": "2025-02-06T21:18:16.160842Z"
    },
    "tags": [
     "debug",
     "debug-5"
    ]
   },
   "outputs": [
    {
     "name": "stdout",
     "output_type": "stream",
     "text": [
      "Numbers: [30.36, 90.42, 35, 42.3, 23.0, 21.1, 90, 39.63, 60.46, 62.1]\n",
      "Geomtric Mean: 43.87136324804066\n",
      "Median: 40.965\n",
      "Execution finished ✓\n"
     ]
    }
   ],
   "source": [
    "%autoreload 2\n",
    "# uncomment the line(s) below to debug\n",
    "from gm_median_solution import gm_median\n",
    "\n",
    "numbers = [30.36, 90.42, 35, 42.3, 23.0, 21.1, 90, 39.63, 60.46, 62.1]\n",
    "print(f'Numbers: {numbers}')\n",
    "stats = gm_median(numbers)\n",
    "print(f'Geomtric Mean: {stats[0]}')\n",
    "print(f'Median: {stats[1]}')\n",
    "print('Execution finished', u'\\u2713')"
   ]
  },
  {
   "cell_type": "code",
   "execution_count": 133,
   "id": "208c235d",
   "metadata": {
    "checksum": "5d5c65d3c5565bc42662d19635a158ed",
    "editable": false,
    "tags": [
     "tests-5",
     "raises-exception"
    ]
   },
   "outputs": [
    {
     "name": "stdout",
     "output_type": "stream",
     "text": [
      "tests passed ✓\n"
     ]
    }
   ],
   "source": [
    "%autoreload 2\n",
    "# test cell\n",
    "try:\n",
    "    import gm_median_solution\n",
    "except:\n",
    "    raise ValueError(\"You did not execute your solution cell!\")\n",
    "try:\n",
    "    from gm_median_solution import gm_median\n",
    "except:\n",
    "    raise ValueError(\"Your solution does not contain the right function!\")\n",
    "\n",
    "from unittest.mock import patch\n",
    "\n",
    "with open(\"gm_median_solution.py\", \"rt\", encoding=\"UTF-8\") as file:\n",
    "    content = file.read()\n",
    "    assert \"statistics\" in content, \"You must import the `statistics` module.\"\n",
    "\n",
    "test_cases = [([15.88, 48.0, 53.9, 4, 93], (27.34290717539487, 48.0)), \\\n",
    "    ([2, 69, 39, 40, 35, 99], (30.115112319375513, 39.5))]\n",
    "for _in, _out in test_cases:\n",
    "    _res = gm_median(_in)\n",
    "    assert _res == _out, f\"The function with input `{_in}` should return the value \\\n",
    "`{_out}` of type `{type(_out)}`\\n but returned the value `{_res}` of type `{type(_res)}`.\"\n",
    "\n",
    "with patch('statistics.geometric_mean') as mock_stdev:\n",
    "    gm_median([2.58, 69.7])\n",
    "mock_stdev.assert_called_once()\n",
    "\n",
    "print('tests passed', u'\\u2713')"
   ]
  },
  {
   "cell_type": "code",
   "execution_count": 134,
   "id": "64dfe11d",
   "metadata": {
    "checksum": "c39fd68197a7f46a3bfd4e27c1ccbae7",
    "editable": false,
    "execution": {
     "iopub.execute_input": "2025-02-06T21:18:16.176766Z",
     "iopub.status.busy": "2025-02-06T21:18:16.176692Z",
     "iopub.status.idle": "2025-02-06T21:18:21.538411Z",
     "shell.execute_reply": "2025-02-06T21:18:21.537253Z"
    },
    "tags": [
     "raises-exception",
     "quality-5"
    ]
   },
   "outputs": [
    {
     "data": {
      "text/html": [
       "<div class=\"tip admonition\">\n",
       "<p class=\"admonition-title\">Code Quality Analysis: <span style=\"color: green\">Pass</span></p><p>*No problem was found*\n",
       "</p>\n",
       "    </div>"
      ],
      "text/plain": [
       "<IPython.core.display.HTML object>"
      ]
     },
     "metadata": {},
     "output_type": "display_data"
    }
   ],
   "source": [
    "validate_python_code(\"gm_median_solution.py\")"
   ]
  },
  {
   "cell_type": "markdown",
   "id": "bc76ad50",
   "metadata": {
    "editable": false
   },
   "source": [
    "### Task 6\n",
    "\n",
    "Create a Python function called `random_mobile_number_generator` that randomly generates a mobile number (`str`). \n",
    "\n",
    "The number should start with either of `0`, `46`, or `+46`. The remaining part of the number has length 9 such that the first digit is between 1 to 9 and the other digits are between 0 to 9.\n",
    "\n",
    "You must import and use module `random` in your solution."
   ]
  },
  {
   "cell_type": "markdown",
   "id": "8fa35e86",
   "metadata": {
    "editable": false
   },
   "source": [
    "```\n",
    "# write here your pseudocode (not graded)\n",
    "\n",
    "# * pseudocode is necessary when asking for help during the lab\n",
    "```"
   ]
  },
  {
   "cell_type": "code",
   "execution_count": 159,
   "id": "4e652e80",
   "metadata": {
    "editable": true,
    "execution": {
     "iopub.execute_input": "2025-02-06T21:18:22.438997Z",
     "iopub.status.busy": "2025-02-06T21:18:22.438919Z",
     "iopub.status.idle": "2025-02-06T21:18:22.777902Z",
     "shell.execute_reply": "2025-02-06T21:18:22.777694Z"
    },
    "tags": [
     "solution",
     "solution-6"
    ]
   },
   "outputs": [
    {
     "name": "stdout",
     "output_type": "stream",
     "text": [
      "Overwriting random_mobile_number_solution.py\n"
     ]
    }
   ],
   "source": [
    "%%writefile random_mobile_number_solution.py\n",
    "# solution cell\n",
    "import random\n",
    "\n",
    "\n",
    "def random_mobile_number_generator() -> str:\n",
    "    prefix = random.choice([\"0\", \"46\", \"+46\"])\n",
    "    first_digit = str(random.randint(1, 9))\n",
    "    other_digits = ''.join(str(random.randint(0, 9)) for _ in range(8))\n",
    "\n",
    "    return prefix + first_digit + other_digits\n"
   ]
  },
  {
   "cell_type": "code",
   "execution_count": 160,
   "id": "f72b77aa",
   "metadata": {
    "editable": true,
    "execution": {
     "iopub.execute_input": "2025-02-06T21:18:22.423705Z",
     "iopub.status.busy": "2025-02-06T21:18:22.423597Z",
     "iopub.status.idle": "2025-02-06T21:18:22.437795Z",
     "shell.execute_reply": "2025-02-06T21:18:22.437526Z"
    },
    "tags": [
     "debug",
     "debug-6"
    ]
   },
   "outputs": [
    {
     "name": "stdout",
     "output_type": "stream",
     "text": [
      "Here are some random mobile numbers:\n",
      "46785445161\n",
      "0136368920\n",
      "0584860565\n",
      "0799739625\n",
      "+46849228115\n",
      "Execution finished ✓\n"
     ]
    }
   ],
   "source": [
    "%autoreload 2\n",
    "# uncomment the line(s) below to debug\n",
    "from random_mobile_number_solution import random_mobile_number_generator\n",
    "\n",
    "print('Here are some random mobile numbers:')\n",
    "for i in range(5):\n",
    "    print(random_mobile_number_generator())\n",
    "print('Execution finished', u'\\u2713')"
   ]
  },
  {
   "cell_type": "code",
   "execution_count": 161,
   "id": "bacd6548",
   "metadata": {
    "checksum": "d7cbd40d3cb2acf33c922cead7ac5b98",
    "editable": false,
    "tags": [
     "raises-exception",
     "tests-6"
    ]
   },
   "outputs": [
    {
     "name": "stdout",
     "output_type": "stream",
     "text": [
      "tests passed ✓\n"
     ]
    }
   ],
   "source": [
    "%autoreload 2\n",
    "# test cell\n",
    "try:\n",
    "    import random_mobile_number_solution\n",
    "except:\n",
    "    raise ValueError(\"You did not execute your solution cell!\")\n",
    "try:\n",
    "    from random_mobile_number_solution import random_mobile_number_generator\n",
    "except:\n",
    "    raise ValueError(\"Your solution does not contain the right function!\")\n",
    "\n",
    "with open(\"random_mobile_number_solution.py\", \"rt\", encoding=\"UTF-8\") as file:\n",
    "    content = file.read()\n",
    "    assert \"random\" in content, \"You must import the `random` module.\"\n",
    "\n",
    "# testing the probability\n",
    "import collections\n",
    "import random\n",
    "\n",
    "idx_digit = random.randint(1, 8)\n",
    "number_samples = 100000\n",
    "count_prefix = collections.defaultdict(int)\n",
    "count_digit = collections.defaultdict(int)\n",
    "valid_prefixes = [\"0\", \"46\", \"+46\"]\n",
    "\n",
    "for i in range(number_samples):\n",
    "    number = random_mobile_number_generator()\n",
    "    res = [number.startswith(prefix) for prefix in valid_prefixes]\n",
    "    assert any(res) == True, f\"Generated number {number} is invalid due to incorrect \\\n",
    "prefix. Check the rules again.\"\n",
    "    prefix = valid_prefixes[res.index(True)]\n",
    "    count_prefix[prefix] += 1\n",
    "    remaining_part = number.replace(prefix, '', 1)\n",
    "    assert remaining_part.isdigit() == True, f\"Generated number {number} is invalid \\\n",
    "due to incorrect digits. Check the rules again.\"\n",
    "    assert len(remaining_part) == 9, f\"Generated number {number} is invalid due to \\\n",
    "incorrect length. Check the rules again.\"\n",
    "    assert remaining_part[0] != '0', f\"Generated number {number} is invalid due to 0 \\\n",
    "in first digit after prefix. Check the rules again.\"\n",
    "    count_digit[remaining_part[idx_digit]] += 1\n",
    "\n",
    "for _, count in count_prefix.items():\n",
    "    assert abs(count / number_samples - 1/3) < 0.01\n",
    "\n",
    "for _, count in count_digit.items():\n",
    "    assert abs(count / number_samples - 1/10) < 0.01\n",
    "\n",
    "print('tests passed', u'\\u2713')"
   ]
  },
  {
   "cell_type": "code",
   "execution_count": 162,
   "id": "bd4cedaa",
   "metadata": {
    "checksum": "80863256dd92bddf0c452af78cc84f1a",
    "editable": false,
    "execution": {
     "iopub.execute_input": "2025-02-06T21:18:22.778904Z",
     "iopub.status.busy": "2025-02-06T21:18:22.778841Z",
     "iopub.status.idle": "2025-02-06T21:18:28.086007Z",
     "shell.execute_reply": "2025-02-06T21:18:28.085443Z"
    },
    "tags": [
     "raises-exception",
     "quality-6"
    ]
   },
   "outputs": [
    {
     "data": {
      "text/html": [
       "<div class=\"tip admonition\">\n",
       "<p class=\"admonition-title\">Code Quality Analysis: <span style=\"color: green\">Pass</span></p><p>*No problem was found*\n",
       "</p>\n",
       "    </div>"
      ],
      "text/plain": [
       "<IPython.core.display.HTML object>"
      ]
     },
     "metadata": {},
     "output_type": "display_data"
    }
   ],
   "source": [
    "validate_python_code(\"random_mobile_number_solution.py\")"
   ]
  },
  {
   "cell_type": "markdown",
   "id": "b710b853",
   "metadata": {
    "editable": false
   },
   "source": [
    "### Task 7\n",
    "\n",
    "Create a Python function called `lottery_numbers` that receives three parameters:\n",
    "- how many numbers should be generated;\n",
    "- the upper bound for the number generation;\n",
    "- the lower bound for the number generation.\n",
    "\n",
    "The function should generate a list of integer numbers with the correct number of elements, each element between the informed lower and upper bounds.\n",
    "Remember that numbers in the list must not repeat.\n",
    "\n",
    "The function should also validate the input.\n",
    "If any of the inputs is out of the range the function should return `None`.\n",
    "The conditions for inputs are:\n",
    "- lower bound $\\geq 0$, \n",
    "- upper bound $\\geq 1$, \n",
    "- number $\\ge 1$ \n",
    "- (upper bound - lower bound) $\\geq$ (number - 1).\n"
   ]
  },
  {
   "cell_type": "markdown",
   "id": "27aa9dc1",
   "metadata": {
    "editable": false
   },
   "source": [
    "```\n",
    "# write here your pseudocode (not graded)\n",
    "\n",
    "# * pseudocode is necessary when asking for help during the lab\n",
    "```"
   ]
  },
  {
   "cell_type": "code",
   "execution_count": 183,
   "id": "e1093cd8",
   "metadata": {
    "editable": true,
    "execution": {
     "iopub.execute_input": "2025-02-06T21:18:29.011399Z",
     "iopub.status.busy": "2025-02-06T21:18:29.011306Z",
     "iopub.status.idle": "2025-02-06T21:18:29.019455Z",
     "shell.execute_reply": "2025-02-06T21:18:29.019187Z"
    },
    "tags": [
     "solution",
     "solution-7"
    ]
   },
   "outputs": [
    {
     "name": "stdout",
     "output_type": "stream",
     "text": [
      "Overwriting lottery_numbers_solution.py\n"
     ]
    }
   ],
   "source": [
    "%%writefile lottery_numbers_solution.py\n",
    "# solution cell\n",
    "import random\n",
    "from typing import List, Optional\n",
    "\n",
    "\n",
    "def lottery_numbers(num_count: int, upper: int, lower: int) -> Optional[List[int]]:\n",
    "    if lower < 0 or upper < 1 or num_count < 1 or (upper - lower) < (num_count - 1):\n",
    "        return None\n",
    "\n",
    "    return random.sample(range(lower, upper + 1), num_count)"
   ]
  },
  {
   "cell_type": "code",
   "execution_count": 184,
   "id": "02e95c9e",
   "metadata": {
    "editable": true,
    "execution": {
     "iopub.execute_input": "2025-02-06T21:18:28.994991Z",
     "iopub.status.busy": "2025-02-06T21:18:28.994887Z",
     "iopub.status.idle": "2025-02-06T21:18:29.010177Z",
     "shell.execute_reply": "2025-02-06T21:18:29.009930Z"
    },
    "tags": [
     "debug",
     "debug-7"
    ]
   },
   "outputs": [
    {
     "name": "stdout",
     "output_type": "stream",
     "text": [
      "Generating 5 numbers between 10 and 50 is [30, 10, 50, 44, 31]\n",
      "Execution finished ✓\n"
     ]
    }
   ],
   "source": [
    "%autoreload 2\n",
    "# uncomment the line(s) below to debug\n",
    "from lottery_numbers_solution import lottery_numbers\n",
    "\n",
    "result = lottery_numbers(5, 50, 10)\n",
    "print(f'Generating 5 numbers between 10 and 50 is {result}')\n",
    "print('Execution finished', u'\\u2713')"
   ]
  },
  {
   "cell_type": "code",
   "execution_count": 185,
   "id": "8d087fe4",
   "metadata": {
    "checksum": "d901e6b186d66f6f8b2c6f529a396b58",
    "editable": false,
    "tags": [
     "raises-exception",
     "tests-7"
    ]
   },
   "outputs": [
    {
     "name": "stdout",
     "output_type": "stream",
     "text": [
      "tests passed ✓\n"
     ]
    }
   ],
   "source": [
    "# test cell\n",
    "%autoreload 2\n",
    "try:\n",
    "    import lottery_numbers_solution\n",
    "except:\n",
    "    raise ValueError(\"You did not execute your solution cell!\")\n",
    "try:\n",
    "    from lottery_numbers_solution import lottery_numbers\n",
    "except:\n",
    "    raise ValueError(\"Your solution does not contain the right function!\")\n",
    "\n",
    "test_cases = [((5, 50, 10), 5), ((30, 100, 0), 30), ((30, 100, -1), None), \\\n",
    "    ((30, 1, 0), None), ((2, 1, 0), 2), ((0, 1, 0), None), ((30, -1, 0), None)]\n",
    "for _in, _out in test_cases:\n",
    "    _res = lottery_numbers(*_in)\n",
    "    if _out == None:\n",
    "        assert _res == None, f\"The function with input `{_in}` should return \\\n",
    "the value `{_out}` of type `{type(_out)}`\\n but returned the value `{_res}` of type \\\n",
    "`{type(_res)}`.\"\n",
    "        continue\n",
    "    assert len(_res) == len(set(_res)), f\"There are repeated elements in the list. For \\\n",
    "the input `{_in}`, the output was `{_res}`.\"\n",
    "    assert min(_res) >= _in[2], f\"There are elements that are smaller than the lower \\\n",
    "bound. For the input `{_in}`, the output was `{_res}`.\"\n",
    "    assert max(_res) <= _in[1], f\"There are elements that are larger than the upper \\\n",
    "bound. For the input `{_in}`, the output was `{_res}`.\"\n",
    "    assert len(_res) == _in[0], f\"The number of elements returned is different. \\\n",
    "For the input `{_in}`, the output was `{_res}`.\"\n",
    "\n",
    "print('tests passed', u'\\u2713')"
   ]
  },
  {
   "cell_type": "code",
   "execution_count": 186,
   "id": "4309062b",
   "metadata": {
    "checksum": "a7dbc0ff2578cf3b2e00a8f625fbdb85",
    "editable": false,
    "execution": {
     "iopub.execute_input": "2025-02-06T21:18:29.020615Z",
     "iopub.status.busy": "2025-02-06T21:18:29.020529Z",
     "iopub.status.idle": "2025-02-06T21:18:29.990502Z",
     "shell.execute_reply": "2025-02-06T21:18:29.989479Z"
    },
    "tags": [
     "raises-exception",
     "quality-7"
    ]
   },
   "outputs": [
    {
     "data": {
      "text/html": [
       "<div class=\"tip admonition\">\n",
       "<p class=\"admonition-title\">Code Quality Analysis: <span style=\"color: green\">Pass</span></p><p>*No problem was found*\n",
       "</p>\n",
       "    </div>"
      ],
      "text/plain": [
       "<IPython.core.display.HTML object>"
      ]
     },
     "metadata": {},
     "output_type": "display_data"
    }
   ],
   "source": [
    "validate_python_code(\"lottery_numbers_solution.py\")"
   ]
  }
 ],
 "metadata": {
  "assignment_list": [
   "1",
   "2",
   "3",
   "4",
   "5",
   "6",
   "7"
  ],
  "compilation_date": "2025-02-06 22:18:30.107552",
  "kernelspec": {
   "display_name": "venv",
   "language": "python",
   "name": "python3"
  },
  "language_info": {
   "codemirror_mode": {
    "name": "ipython",
    "version": 3
   },
   "file_extension": ".py",
   "mimetype": "text/x-python",
   "name": "python",
   "nbconvert_exporter": "python",
   "pygments_lexer": "ipython3",
   "version": "3.10.9"
  }
 },
 "nbformat": 4,
 "nbformat_minor": 5
}
